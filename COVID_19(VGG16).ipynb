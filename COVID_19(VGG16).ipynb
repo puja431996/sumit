{
  "nbformat": 4,
  "nbformat_minor": 0,
  "metadata": {
    "colab": {
      "name": " COVID-19(VGG16).ipynb",
      "provenance": [],
      "collapsed_sections": [
        "eQVSb3Af_hb5"
      ],
      "include_colab_link": true
    },
    "kernelspec": {
      "name": "python3",
      "display_name": "Python 3"
    },
    "accelerator": "GPU"
  },
  "cells": [
    {
      "cell_type": "markdown",
      "metadata": {
        "id": "view-in-github",
        "colab_type": "text"
      },
      "source": [
        "<a href=\"https://colab.research.google.com/github/puja431996/sumit/blob/master/COVID_19(VGG16).ipynb\" target=\"_parent\"><img src=\"https://colab.research.google.com/assets/colab-badge.svg\" alt=\"Open In Colab\"/></a>"
      ]
    },
    {
      "cell_type": "markdown",
      "metadata": {
        "id": "SmlMADAz8_QW",
        "colab_type": "text"
      },
      "source": [
        "##Import Libraries\n",
        "\n",
        "---\n",
        "\n"
      ]
    },
    {
      "cell_type": "code",
      "metadata": {
        "id": "Ymf4n12py5Xq",
        "colab_type": "code",
        "outputId": "f4092e73-6f5b-4e62-ec42-c1f99ecebe89",
        "colab": {
          "base_uri": "https://localhost:8080/",
          "height": 88
        }
      },
      "source": [
        "# import keras\n",
        "import tensorflow as tf\n",
        "from zipfile import ZipFile\n",
        "from matplotlib import pyplot as plt\n",
        "import cv2\n",
        "import os\n",
        "import seaborn as sn\n",
        "import numpy as np\n",
        "from numpy import expand_dims\n",
        "from keras.preprocessing.image import load_img\n",
        "from keras.preprocessing.image import img_to_array\n",
        "from keras.preprocessing.image import ImageDataGenerator\n",
        "import keras\n",
        "import keras.backend as K\n",
        "from keras.models import Sequential\n",
        "from keras import layers \n",
        "from keras.applications import VGG16,VGG19\n",
        "from keras.layers import Dense, Dropout, Flatten,GlobalAveragePooling2D\n",
        "from keras.layers import Conv2D, MaxPooling2D\n",
        "from keras.applications.mobilenet import MobileNet\n",
        "from keras.optimizers import SGD,Adam,RMSprop\n",
        "import pandas as pd\n",
        "from sklearn.metrics import classification_report, confusion_matrix\n",
        "import warnings\n",
        "warnings.filterwarnings('ignore')"
      ],
      "execution_count": 0,
      "outputs": [
        {
          "output_type": "stream",
          "text": [
            "/usr/local/lib/python3.6/dist-packages/statsmodels/tools/_testing.py:19: FutureWarning: pandas.util.testing is deprecated. Use the functions in the public API at pandas.testing instead.\n",
            "  import pandas.util.testing as tm\n",
            "Using TensorFlow backend.\n"
          ],
          "name": "stderr"
        }
      ]
    },
    {
      "cell_type": "markdown",
      "metadata": {
        "id": "jwUThuqx9HBZ",
        "colab_type": "text"
      },
      "source": [
        "Check for GPU\n",
        "\n",
        "---\n",
        "\n"
      ]
    },
    {
      "cell_type": "code",
      "metadata": {
        "id": "SjnCnguHRWld",
        "colab_type": "code",
        "outputId": "3e4729c0-a799-438d-a2ca-b33a5a506ba9",
        "colab": {
          "base_uri": "https://localhost:8080/",
          "height": 105
        }
      },
      "source": [
        "tf.test.is_gpu_available()"
      ],
      "execution_count": 0,
      "outputs": [
        {
          "output_type": "stream",
          "text": [
            "WARNING:tensorflow:From <ipython-input-2-17bb7203622b>:1: is_gpu_available (from tensorflow.python.framework.test_util) is deprecated and will be removed in a future version.\n",
            "Instructions for updating:\n",
            "Use `tf.config.list_physical_devices('GPU')` instead.\n"
          ],
          "name": "stdout"
        },
        {
          "output_type": "execute_result",
          "data": {
            "text/plain": [
              "True"
            ]
          },
          "metadata": {
            "tags": []
          },
          "execution_count": 2
        }
      ]
    },
    {
      "cell_type": "markdown",
      "metadata": {
        "id": "vHOvdHtB9KeM",
        "colab_type": "text"
      },
      "source": [
        "Mount Google Drive\n",
        "\n",
        "---\n",
        "\n"
      ]
    },
    {
      "cell_type": "code",
      "metadata": {
        "id": "ChF8JNg-zBQG",
        "colab_type": "code",
        "outputId": "08bb3423-9b75-465c-fbec-42a5060aedb3",
        "colab": {
          "base_uri": "https://localhost:8080/",
          "height": 122
        }
      },
      "source": [
        "from google.colab import drive\n",
        "drive.mount('/content/drive')"
      ],
      "execution_count": 0,
      "outputs": [
        {
          "output_type": "stream",
          "text": [
            "Go to this URL in a browser: https://accounts.google.com/o/oauth2/auth?client_id=947318989803-6bn6qk8qdgf4n4g3pfee6491hc0brc4i.apps.googleusercontent.com&redirect_uri=urn%3aietf%3awg%3aoauth%3a2.0%3aoob&response_type=code&scope=email%20https%3a%2f%2fwww.googleapis.com%2fauth%2fdocs.test%20https%3a%2f%2fwww.googleapis.com%2fauth%2fdrive%20https%3a%2f%2fwww.googleapis.com%2fauth%2fdrive.photos.readonly%20https%3a%2f%2fwww.googleapis.com%2fauth%2fpeopleapi.readonly\n",
            "\n",
            "Enter your authorization code:\n",
            "··········\n",
            "Mounted at /content/drive\n"
          ],
          "name": "stdout"
        }
      ]
    },
    {
      "cell_type": "markdown",
      "metadata": {
        "id": "57tE1fQo9fNc",
        "colab_type": "text"
      },
      "source": [
        "##UnZip Dataset\n",
        "\n",
        "---\n",
        "\n"
      ]
    },
    {
      "cell_type": "code",
      "metadata": {
        "id": "vaaaLH4UzEI3",
        "colab_type": "code",
        "outputId": "f0680f75-91d2-4e63-cf66-6de499d01f17",
        "colab": {
          "base_uri": "https://localhost:8080/",
          "height": 34
        }
      },
      "source": [
        "!cd drive && cd 'My Drive' && cd COVID_19 && cd xray_augmented_mendley && ls"
      ],
      "execution_count": 0,
      "outputs": [
        {
          "output_type": "stream",
          "text": [
            "Dataset_All_Augmented.zip\n"
          ],
          "name": "stdout"
        }
      ]
    },
    {
      "cell_type": "code",
      "metadata": {
        "id": "nbyOshkBzHnp",
        "colab_type": "code",
        "outputId": "44ba36d9-be13-4fea-83b1-b5380602d68f",
        "colab": {
          "base_uri": "https://localhost:8080/",
          "height": 1000
        }
      },
      "source": [
        "\n",
        "file_name = \"/content/drive/My Drive/COVID_19/xray_augmented_mendley/Dataset_All_Augmented.zip\"\n",
        "with ZipFile(file_name, 'r') as zip: \n",
        "    # printing all the contents of the zip file \n",
        "    zip.printdir() \n",
        "  \n",
        "    # extracting all the files \n",
        "    print('Extracting all the files now...') \n",
        "    zip.extractall() \n",
        "    print('Done!') "
      ],
      "execution_count": 0,
      "outputs": [
        {
          "output_type": "stream",
          "text": [
            "File Name                                             Modified             Size\n",
            "Dataset All Augmented/                         2020-03-26 09:56:58            0\n",
            "Dataset All Augmented/COVID-19/                2020-03-26 12:01:12            0\n",
            "Dataset All Augmented/COVID-19/COVID-19 (1).jpeg 2020-03-26 12:00:24        60413\n",
            "Dataset All Augmented/COVID-19/COVID-19 (1).jpg 2020-03-26 11:59:26        37991\n",
            "Dataset All Augmented/COVID-19/COVID-19 (1).png 2020-03-26 11:59:36       319354\n",
            "Dataset All Augmented/COVID-19/COVID-19 (10).jpeg 2020-03-26 12:00:14        57880\n",
            "Dataset All Augmented/COVID-19/COVID-19 (10).jpg 2020-03-26 11:59:52        37923\n",
            "Dataset All Augmented/COVID-19/COVID-19 (100).jpg 2020-03-26 12:00:18        41188\n",
            "Dataset All Augmented/COVID-19/COVID-19 (101).jpg 2020-03-26 12:00:18        41749\n",
            "Dataset All Augmented/COVID-19/COVID-19 (102).jpg 2020-03-26 12:00:20        41693\n",
            "Dataset All Augmented/COVID-19/COVID-19 (103).jpg 2020-03-26 12:00:20        41366\n",
            "Dataset All Augmented/COVID-19/COVID-19 (104).jpg 2020-03-26 12:00:20        41343\n",
            "Dataset All Augmented/COVID-19/COVID-19 (105).jpg 2020-03-26 11:59:26        39371\n",
            "Dataset All Augmented/COVID-19/COVID-19 (106).jpg 2020-03-26 11:59:26        37667\n",
            "Dataset All Augmented/COVID-19/COVID-19 (107).jpg 2020-03-26 11:59:26        41041\n",
            "Dataset All Augmented/COVID-19/COVID-19 (108).jpg 2020-03-26 11:59:26        39657\n",
            "Dataset All Augmented/COVID-19/COVID-19 (109).jpg 2020-03-26 11:59:26        42688\n",
            "Dataset All Augmented/COVID-19/COVID-19 (11).jpeg 2020-03-26 12:00:18        54958\n",
            "Dataset All Augmented/COVID-19/COVID-19 (11).jpg 2020-03-26 11:59:58        38491\n",
            "Dataset All Augmented/COVID-19/COVID-19 (110).jpg 2020-03-26 11:59:26        34596\n",
            "Dataset All Augmented/COVID-19/COVID-19 (111).jpg 2020-03-26 11:59:28        40839\n",
            "Dataset All Augmented/COVID-19/COVID-19 (112).jpg 2020-03-26 11:59:28        34781\n",
            "Dataset All Augmented/COVID-19/COVID-19 (113).jpg 2020-03-26 11:59:28        39283\n",
            "Dataset All Augmented/COVID-19/COVID-19 (114).jpg 2020-03-26 11:59:28        49938\n",
            "Dataset All Augmented/COVID-19/COVID-19 (115).jpg 2020-03-26 11:59:28        49867\n",
            "Dataset All Augmented/COVID-19/COVID-19 (116).jpg 2020-03-26 11:59:28        49424\n",
            "Dataset All Augmented/COVID-19/COVID-19 (117).jpg 2020-03-26 11:59:28        49460\n",
            "Dataset All Augmented/COVID-19/COVID-19 (118).jpg 2020-03-26 11:59:28        49311\n",
            "Dataset All Augmented/COVID-19/COVID-19 (119).jpg 2020-03-26 11:59:28        50316\n",
            "Dataset All Augmented/COVID-19/COVID-19 (12).jpeg 2020-03-26 12:00:20        59446\n",
            "Dataset All Augmented/COVID-19/COVID-19 (12).jpg 2020-03-26 12:00:08        37650\n",
            "Dataset All Augmented/COVID-19/COVID-19 (120).jpg 2020-03-26 11:59:28        49512\n",
            "Dataset All Augmented/COVID-19/COVID-19 (121).jpg 2020-03-26 11:59:28        49679\n",
            "Dataset All Augmented/COVID-19/COVID-19 (122).jpg 2020-03-26 11:59:28        49163\n",
            "Dataset All Augmented/COVID-19/COVID-19 (123).jpg 2020-03-26 11:59:28        47352\n",
            "Dataset All Augmented/COVID-19/COVID-19 (124).jpg 2020-03-26 11:59:28        46498\n",
            "Dataset All Augmented/COVID-19/COVID-19 (125).jpg 2020-03-26 11:59:28        47175\n",
            "Dataset All Augmented/COVID-19/COVID-19 (126).jpg 2020-03-26 11:59:28        46541\n",
            "Dataset All Augmented/COVID-19/COVID-19 (127).jpg 2020-03-26 11:59:28        42920\n",
            "Dataset All Augmented/COVID-19/COVID-19 (128).jpg 2020-03-26 11:59:28        41954\n",
            "Dataset All Augmented/COVID-19/COVID-19 (129).jpg 2020-03-26 11:59:28        45603\n",
            "Dataset All Augmented/COVID-19/COVID-19 (13).jpeg 2020-03-26 11:59:40        55849\n",
            "Dataset All Augmented/COVID-19/COVID-19 (13).jpg 2020-03-26 12:00:14        38419\n",
            "Dataset All Augmented/COVID-19/COVID-19 (130).jpg 2020-03-26 11:59:28        46959\n",
            "Dataset All Augmented/COVID-19/COVID-19 (131).jpg 2020-03-26 11:59:28        41810\n",
            "Dataset All Augmented/COVID-19/COVID-19 (132).jpg 2020-03-26 11:59:28        36975\n",
            "Dataset All Augmented/COVID-19/COVID-19 (133).jpg 2020-03-26 11:59:28        36607\n",
            "Dataset All Augmented/COVID-19/COVID-19 (134).jpg 2020-03-26 11:59:28        36383\n",
            "Dataset All Augmented/COVID-19/COVID-19 (135).jpg 2020-03-26 11:59:28        36380\n",
            "Dataset All Augmented/COVID-19/COVID-19 (136).jpg 2020-03-26 11:59:28        36196\n",
            "Dataset All Augmented/COVID-19/COVID-19 (137).jpg 2020-03-26 11:59:28        37323\n",
            "Dataset All Augmented/COVID-19/COVID-19 (138).jpg 2020-03-26 11:59:28        36522\n",
            "Dataset All Augmented/COVID-19/COVID-19 (139).jpg 2020-03-26 11:59:28        36868\n",
            "Dataset All Augmented/COVID-19/COVID-19 (14).jpeg 2020-03-26 11:59:46        40923\n",
            "Dataset All Augmented/COVID-19/COVID-19 (14).jpg 2020-03-26 12:00:18        37977\n",
            "Dataset All Augmented/COVID-19/COVID-19 (140).jpg 2020-03-26 11:59:28        36319\n",
            "Dataset All Augmented/COVID-19/COVID-19 (141).jpg 2020-03-26 11:59:28        35794\n",
            "Dataset All Augmented/COVID-19/COVID-19 (142).jpg 2020-03-26 11:59:28        35559\n",
            "Dataset All Augmented/COVID-19/COVID-19 (143).jpg 2020-03-26 11:59:30        36477\n",
            "Dataset All Augmented/COVID-19/COVID-19 (144).jpg 2020-03-26 11:59:30        34233\n",
            "Dataset All Augmented/COVID-19/COVID-19 (145).jpg 2020-03-26 11:59:30        35863\n",
            "Dataset All Augmented/COVID-19/COVID-19 (146).jpg 2020-03-26 11:59:30        36956\n",
            "Dataset All Augmented/COVID-19/COVID-19 (147).jpg 2020-03-26 11:59:30        35944\n",
            "Dataset All Augmented/COVID-19/COVID-19 (148).jpg 2020-03-26 11:59:30        35944\n",
            "Dataset All Augmented/COVID-19/COVID-19 (149).jpg 2020-03-26 11:59:30        36457\n",
            "Dataset All Augmented/COVID-19/COVID-19 (15).jpeg 2020-03-26 12:00:18        44697\n",
            "Dataset All Augmented/COVID-19/COVID-19 (15).jpg 2020-03-26 11:59:26        36531\n",
            "Dataset All Augmented/COVID-19/COVID-19 (150).jpg 2020-03-26 11:59:30        63756\n",
            "Dataset All Augmented/COVID-19/COVID-19 (151).jpg 2020-03-26 11:59:30        63724\n",
            "Dataset All Augmented/COVID-19/COVID-19 (152).jpg 2020-03-26 11:59:30        62893\n",
            "Dataset All Augmented/COVID-19/COVID-19 (153).jpg 2020-03-26 11:59:30        63028\n",
            "Dataset All Augmented/COVID-19/COVID-19 (154).jpg 2020-03-26 11:59:30        62908\n",
            "Dataset All Augmented/COVID-19/COVID-19 (155).jpg 2020-03-26 11:59:30        63751\n",
            "Dataset All Augmented/COVID-19/COVID-19 (156).jpg 2020-03-26 11:59:30        63373\n",
            "Dataset All Augmented/COVID-19/COVID-19 (157).jpg 2020-03-26 11:59:30        62890\n",
            "Dataset All Augmented/COVID-19/COVID-19 (158).jpg 2020-03-26 11:59:30        62663\n",
            "Dataset All Augmented/COVID-19/COVID-19 (159).jpg 2020-03-26 11:59:30        60747\n",
            "Dataset All Augmented/COVID-19/COVID-19 (16).jpeg 2020-03-26 11:59:28        49709\n",
            "Dataset All Augmented/COVID-19/COVID-19 (16).jpg 2020-03-26 11:59:28        37817\n",
            "Dataset All Augmented/COVID-19/COVID-19 (160).jpg 2020-03-26 11:59:30        61327\n",
            "Dataset All Augmented/COVID-19/COVID-19 (161).jpg 2020-03-26 11:59:30        59486\n",
            "Dataset All Augmented/COVID-19/COVID-19 (162).jpg 2020-03-26 11:59:30        58844\n",
            "Dataset All Augmented/COVID-19/COVID-19 (163).jpg 2020-03-26 11:59:30        51460\n",
            "Dataset All Augmented/COVID-19/COVID-19 (164).jpg 2020-03-26 11:59:30        61679\n",
            "Dataset All Augmented/COVID-19/COVID-19 (165).jpg 2020-03-26 11:59:30        49457\n",
            "Dataset All Augmented/COVID-19/COVID-19 (166).jpg 2020-03-26 11:59:30        49027\n",
            "Dataset All Augmented/COVID-19/COVID-19 (167).jpg 2020-03-26 11:59:30        55292\n",
            "Dataset All Augmented/COVID-19/COVID-19 (168).jpg 2020-03-26 11:59:30        53119\n",
            "Dataset All Augmented/COVID-19/COVID-19 (169).jpg 2020-03-26 11:59:30        53132\n",
            "Dataset All Augmented/COVID-19/COVID-19 (17).jpeg 2020-03-26 12:00:20        56520\n",
            "Dataset All Augmented/COVID-19/COVID-19 (17).jpg 2020-03-26 11:59:28        39517\n",
            "Dataset All Augmented/COVID-19/COVID-19 (170).jpg 2020-03-26 11:59:30        52499\n",
            "Dataset All Augmented/COVID-19/COVID-19 (171).jpg 2020-03-26 11:59:30        52503\n",
            "Dataset All Augmented/COVID-19/COVID-19 (172).jpg 2020-03-26 11:59:30        52494\n",
            "Dataset All Augmented/COVID-19/COVID-19 (173).jpg 2020-03-26 11:59:30        53424\n",
            "Dataset All Augmented/COVID-19/COVID-19 (174).jpg 2020-03-26 11:59:30        53133\n",
            "Dataset All Augmented/COVID-19/COVID-19 (175).jpg 2020-03-26 11:59:30        52834\n",
            "Dataset All Augmented/COVID-19/COVID-19 (176).jpg 2020-03-26 11:59:32        52495\n",
            "Dataset All Augmented/COVID-19/COVID-19 (177).jpg 2020-03-26 11:59:32        52466\n",
            "Dataset All Augmented/COVID-19/COVID-19 (178).jpg 2020-03-26 11:59:32        52436\n",
            "Dataset All Augmented/COVID-19/COVID-19 (179).jpg 2020-03-26 11:59:32        52758\n",
            "Dataset All Augmented/COVID-19/COVID-19 (18).jpeg 2020-03-26 12:00:20        56181\n",
            "Dataset All Augmented/COVID-19/COVID-19 (18).jpg 2020-03-26 11:59:28        36896\n",
            "Dataset All Augmented/COVID-19/COVID-19 (180).jpg 2020-03-26 11:59:32        51806\n",
            "Dataset All Augmented/COVID-19/COVID-19 (181).jpg 2020-03-26 11:59:32        51074\n",
            "Dataset All Augmented/COVID-19/COVID-19 (182).jpg 2020-03-26 11:59:32        53106\n",
            "Dataset All Augmented/COVID-19/COVID-19 (183).jpg 2020-03-26 11:59:32        43312\n",
            "Dataset All Augmented/COVID-19/COVID-19 (184).jpg 2020-03-26 11:59:32        42500\n",
            "Dataset All Augmented/COVID-19/COVID-19 (185).jpg 2020-03-26 11:59:32        47764\n",
            "Dataset All Augmented/COVID-19/COVID-19 (186).jpg 2020-03-26 11:59:32        55867\n",
            "Dataset All Augmented/COVID-19/COVID-19 (187).jpg 2020-03-26 11:59:32        55846\n",
            "Dataset All Augmented/COVID-19/COVID-19 (188).jpg 2020-03-26 11:59:32        55505\n",
            "Dataset All Augmented/COVID-19/COVID-19 (189).jpg 2020-03-26 11:59:32        55496\n",
            "Dataset All Augmented/COVID-19/COVID-19 (19).jpeg 2020-03-26 12:00:20        61317\n",
            "Dataset All Augmented/COVID-19/COVID-19 (19).jpg 2020-03-26 11:59:30        39221\n",
            "Dataset All Augmented/COVID-19/COVID-19 (190).jpg 2020-03-26 11:59:32        55528\n",
            "Dataset All Augmented/COVID-19/COVID-19 (191).jpg 2020-03-26 11:59:32        55633\n",
            "Dataset All Augmented/COVID-19/COVID-19 (192).jpg 2020-03-26 11:59:32        55568\n",
            "Dataset All Augmented/COVID-19/COVID-19 (193).jpg 2020-03-26 11:59:32        55441\n",
            "Dataset All Augmented/COVID-19/COVID-19 (194).jpg 2020-03-26 11:59:32        55323\n",
            "Dataset All Augmented/COVID-19/COVID-19 (195).jpg 2020-03-26 11:59:32        49294\n",
            "Dataset All Augmented/COVID-19/COVID-19 (196).jpg 2020-03-26 11:59:32        51084\n",
            "Dataset All Augmented/COVID-19/COVID-19 (197).jpg 2020-03-26 11:59:32        49662\n",
            "Dataset All Augmented/COVID-19/COVID-19 (198).jpg 2020-03-26 11:59:32        47649\n",
            "Dataset All Augmented/COVID-19/COVID-19 (199).jpg 2020-03-26 11:59:32        43049\n",
            "Dataset All Augmented/COVID-19/COVID-19 (2).jpeg 2020-03-26 12:00:24        36817\n",
            "Dataset All Augmented/COVID-19/COVID-19 (2).jpg 2020-03-26 11:59:26        91829\n",
            "Dataset All Augmented/COVID-19/COVID-19 (2).png 2020-03-26 12:00:22       398148\n",
            "Dataset All Augmented/COVID-19/COVID-19 (20).jpeg 2020-03-26 12:00:20        59353\n",
            "Dataset All Augmented/COVID-19/COVID-19 (20).jpg 2020-03-26 11:59:30        42197\n",
            "Dataset All Augmented/COVID-19/COVID-19 (200).jpg 2020-03-26 11:59:32        43337\n",
            "Dataset All Augmented/COVID-19/COVID-19 (201).jpg 2020-03-26 11:59:32        54522\n",
            "Dataset All Augmented/COVID-19/COVID-19 (202).jpg 2020-03-26 11:59:32        43089\n",
            "Dataset All Augmented/COVID-19/COVID-19 (203).jpg 2020-03-26 11:59:32        42925\n",
            "Dataset All Augmented/COVID-19/COVID-19 (204).jpg 2020-03-26 11:59:32        41399\n",
            "Dataset All Augmented/COVID-19/COVID-19 (205).jpg 2020-03-26 11:59:32        41447\n",
            "Dataset All Augmented/COVID-19/COVID-19 (206).jpg 2020-03-26 11:59:32        40953\n",
            "Dataset All Augmented/COVID-19/COVID-19 (207).jpg 2020-03-26 11:59:32        40994\n",
            "Dataset All Augmented/COVID-19/COVID-19 (208).jpg 2020-03-26 11:59:34        40363\n",
            "Dataset All Augmented/COVID-19/COVID-19 (209).jpg 2020-03-26 11:59:34        41766\n",
            "Dataset All Augmented/COVID-19/COVID-19 (21).jpeg 2020-03-26 12:00:20        51388\n",
            "Dataset All Augmented/COVID-19/COVID-19 (21).jpg 2020-03-26 11:59:30        37666\n",
            "Dataset All Augmented/COVID-19/COVID-19 (210).jpg 2020-03-26 11:59:34        40917\n",
            "Dataset All Augmented/COVID-19/COVID-19 (211).jpg 2020-03-26 11:59:34        41144\n",
            "Dataset All Augmented/COVID-19/COVID-19 (212).jpg 2020-03-26 11:59:34        40403\n",
            "Dataset All Augmented/COVID-19/COVID-19 (213).jpg 2020-03-26 11:59:34        39749\n",
            "Dataset All Augmented/COVID-19/COVID-19 (214).jpg 2020-03-26 11:59:34        40651\n",
            "Dataset All Augmented/COVID-19/COVID-19 (215).jpg 2020-03-26 11:59:34        40356\n",
            "Dataset All Augmented/COVID-19/COVID-19 (216).jpg 2020-03-26 11:59:34        39447\n",
            "Dataset All Augmented/COVID-19/COVID-19 (217).jpg 2020-03-26 11:59:34        37591\n",
            "Dataset All Augmented/COVID-19/COVID-19 (218).jpg 2020-03-26 11:59:34        41466\n",
            "Dataset All Augmented/COVID-19/COVID-19 (219).jpg 2020-03-26 11:59:34        36511\n",
            "Dataset All Augmented/COVID-19/COVID-19 (22).jpeg 2020-03-26 12:00:20        46078\n",
            "Dataset All Augmented/COVID-19/COVID-19 (22).jpg 2020-03-26 11:59:30        39755\n",
            "Dataset All Augmented/COVID-19/COVID-19 (220).jpg 2020-03-26 11:59:34        40576\n",
            "Dataset All Augmented/COVID-19/COVID-19 (221).jpg 2020-03-26 11:59:34        36413\n",
            "Dataset All Augmented/COVID-19/COVID-19 (222).jpg 2020-03-26 11:59:34        50860\n",
            "Dataset All Augmented/COVID-19/COVID-19 (223).jpg 2020-03-26 11:59:34        50371\n",
            "Dataset All Augmented/COVID-19/COVID-19 (224).jpg 2020-03-26 11:59:34        49782\n",
            "Dataset All Augmented/COVID-19/COVID-19 (225).jpg 2020-03-26 11:59:34        49778\n",
            "Dataset All Augmented/COVID-19/COVID-19 (226).jpg 2020-03-26 11:59:34        49352\n",
            "Dataset All Augmented/COVID-19/COVID-19 (227).jpg 2020-03-26 11:59:34        51176\n",
            "Dataset All Augmented/COVID-19/COVID-19 (228).jpg 2020-03-26 11:59:34        50546\n",
            "Dataset All Augmented/COVID-19/COVID-19 (229).jpg 2020-03-26 11:59:34        49902\n",
            "Dataset All Augmented/COVID-19/COVID-19 (23).jpeg 2020-03-26 12:00:20        60996\n",
            "Dataset All Augmented/COVID-19/COVID-19 (23).jpg 2020-03-26 11:59:32        41173\n",
            "Dataset All Augmented/COVID-19/COVID-19 (230).jpg 2020-03-26 11:59:34        49440\n",
            "Dataset All Augmented/COVID-19/COVID-19 (231).jpg 2020-03-26 11:59:34        49087\n",
            "Dataset All Augmented/COVID-19/COVID-19 (232).jpg 2020-03-26 11:59:34        49028\n",
            "Dataset All Augmented/COVID-19/COVID-19 (233).jpg 2020-03-26 11:59:34        50441\n",
            "Dataset All Augmented/COVID-19/COVID-19 (234).jpg 2020-03-26 11:59:34        46857\n",
            "Dataset All Augmented/COVID-19/COVID-19 (235).jpg 2020-03-26 11:59:34        47266\n",
            "Dataset All Augmented/COVID-19/COVID-19 (236).jpg 2020-03-26 11:59:34        45258\n",
            "Dataset All Augmented/COVID-19/COVID-19 (237).jpg 2020-03-26 11:59:34        40961\n",
            "Dataset All Augmented/COVID-19/COVID-19 (238).jpg 2020-03-26 11:59:34        42333\n",
            "Dataset All Augmented/COVID-19/COVID-19 (239).jpg 2020-03-26 11:59:34        40608\n",
            "Dataset All Augmented/COVID-19/COVID-19 (24).jpeg 2020-03-26 12:00:22        55122\n",
            "Dataset All Augmented/COVID-19/COVID-19 (24).jpg 2020-03-26 11:59:32        92108\n",
            "Dataset All Augmented/COVID-19/COVID-19 (240).jpg 2020-03-26 11:59:34        40485\n",
            "Dataset All Augmented/COVID-19/COVID-19 (241).jpg 2020-03-26 11:59:34        40616\n",
            "Dataset All Augmented/COVID-19/COVID-19 (242).jpg 2020-03-26 11:59:34        39832\n",
            "Dataset All Augmented/COVID-19/COVID-19 (243).jpg 2020-03-26 11:59:34        39886\n",
            "Dataset All Augmented/COVID-19/COVID-19 (244).jpg 2020-03-26 11:59:34        39647\n",
            "Dataset All Augmented/COVID-19/COVID-19 (245).jpg 2020-03-26 11:59:36        40998\n",
            "Dataset All Augmented/COVID-19/COVID-19 (246).jpg 2020-03-26 11:59:36        40358\n",
            "Dataset All Augmented/COVID-19/COVID-19 (247).jpg 2020-03-26 11:59:36        40668\n",
            "Dataset All Augmented/COVID-19/COVID-19 (248).jpg 2020-03-26 11:59:36        39698\n",
            "Dataset All Augmented/COVID-19/COVID-19 (249).jpg 2020-03-26 11:59:36        40318\n",
            "Dataset All Augmented/COVID-19/COVID-19 (25).jpeg 2020-03-26 12:00:22        37992\n",
            "Dataset All Augmented/COVID-19/COVID-19 (25).jpg 2020-03-26 11:59:32        92238\n",
            "Dataset All Augmented/COVID-19/COVID-19 (250).jpg 2020-03-26 11:59:36        39546\n",
            "Dataset All Augmented/COVID-19/COVID-19 (251).jpg 2020-03-26 11:59:36        39543\n",
            "Dataset All Augmented/COVID-19/COVID-19 (252).jpg 2020-03-26 11:59:36        37020\n",
            "Dataset All Augmented/COVID-19/COVID-19 (253).jpg 2020-03-26 11:59:36        43414\n",
            "Dataset All Augmented/COVID-19/COVID-19 (254).jpg 2020-03-26 11:59:36        39743\n",
            "Dataset All Augmented/COVID-19/COVID-19 (255).jpg 2020-03-26 11:59:36        43943\n",
            "Dataset All Augmented/COVID-19/COVID-19 (256).jpg 2020-03-26 11:59:36        41605\n",
            "Dataset All Augmented/COVID-19/COVID-19 (257).jpg 2020-03-26 11:59:36        40178\n",
            "Dataset All Augmented/COVID-19/COVID-19 (258).jpg 2020-03-26 11:59:36        58376\n",
            "Dataset All Augmented/COVID-19/COVID-19 (259).jpg 2020-03-26 11:59:36        58077\n",
            "Dataset All Augmented/COVID-19/COVID-19 (26).jpeg 2020-03-26 12:00:22        54008\n",
            "Dataset All Augmented/COVID-19/COVID-19 (26).jpg 2020-03-26 11:59:34        91575\n",
            "Dataset All Augmented/COVID-19/COVID-19 (260).jpg 2020-03-26 11:59:36        58138\n",
            "Dataset All Augmented/COVID-19/COVID-19 (261).jpg 2020-03-26 11:59:36        58130\n",
            "Dataset All Augmented/COVID-19/COVID-19 (262).jpg 2020-03-26 11:59:36        57681\n",
            "Dataset All Augmented/COVID-19/COVID-19 (263).jpg 2020-03-26 11:59:36        58036\n",
            "Dataset All Augmented/COVID-19/COVID-19 (264).jpg 2020-03-26 11:59:36        57763\n",
            "Dataset All Augmented/COVID-19/COVID-19 (265).jpg 2020-03-26 11:59:36        57745\n",
            "Dataset All Augmented/COVID-19/COVID-19 (266).jpg 2020-03-26 11:59:36        57771\n",
            "Dataset All Augmented/COVID-19/COVID-19 (267).jpg 2020-03-26 11:59:36        53738\n",
            "Dataset All Augmented/COVID-19/COVID-19 (268).jpg 2020-03-26 11:59:36        54557\n",
            "Dataset All Augmented/COVID-19/COVID-19 (269).jpg 2020-03-26 11:59:38        53989\n",
            "Dataset All Augmented/COVID-19/COVID-19 (27).jpeg 2020-03-26 12:00:22        65118\n",
            "Dataset All Augmented/COVID-19/COVID-19 (27).jpg 2020-03-26 11:59:34        91506\n",
            "Dataset All Augmented/COVID-19/COVID-19 (270).jpg 2020-03-26 11:59:38        54527\n",
            "Dataset All Augmented/COVID-19/COVID-19 (271).jpg 2020-03-26 11:59:38        44860\n",
            "Dataset All Augmented/COVID-19/COVID-19 (272).jpg 2020-03-26 11:59:38        43788\n",
            "Dataset All Augmented/COVID-19/COVID-19 (273).jpg 2020-03-26 11:59:38        43749\n",
            "Dataset All Augmented/COVID-19/COVID-19 (274).jpg 2020-03-26 11:59:38        43963\n",
            "Dataset All Augmented/COVID-19/COVID-19 (275).jpg 2020-03-26 11:59:38        43839\n",
            "Dataset All Augmented/COVID-19/COVID-19 (276).jpg 2020-03-26 11:59:38        44697\n",
            "Dataset All Augmented/COVID-19/COVID-19 (277).jpg 2020-03-26 11:59:38        44820\n",
            "Dataset All Augmented/COVID-19/COVID-19 (278).jpg 2020-03-26 11:59:38        44023\n",
            "Dataset All Augmented/COVID-19/COVID-19 (279).jpg 2020-03-26 11:59:38        44236\n",
            "Dataset All Augmented/COVID-19/COVID-19 (28).jpeg 2020-03-26 12:00:22        58705\n",
            "Dataset All Augmented/COVID-19/COVID-19 (28).jpg 2020-03-26 11:59:34        91641\n",
            "Dataset All Augmented/COVID-19/COVID-19 (280).jpg 2020-03-26 11:59:38        44038\n",
            "Dataset All Augmented/COVID-19/COVID-19 (281).jpg 2020-03-26 11:59:38        45122\n",
            "Dataset All Augmented/COVID-19/COVID-19 (282).jpg 2020-03-26 11:59:38        44663\n",
            "Dataset All Augmented/COVID-19/COVID-19 (283).jpg 2020-03-26 11:59:38        44783\n",
            "Dataset All Augmented/COVID-19/COVID-19 (284).jpg 2020-03-26 11:59:38        44107\n",
            "Dataset All Augmented/COVID-19/COVID-19 (285).jpg 2020-03-26 11:59:38        41774\n",
            "Dataset All Augmented/COVID-19/COVID-19 (286).jpg 2020-03-26 11:59:38        43307\n",
            "Dataset All Augmented/COVID-19/COVID-19 (287).jpg 2020-03-26 11:59:38        44233\n",
            "Dataset All Augmented/COVID-19/COVID-19 (288).jpg 2020-03-26 11:59:38        42027\n",
            "Dataset All Augmented/COVID-19/COVID-19 (289).jpg 2020-03-26 11:59:38        44994\n",
            "Dataset All Augmented/COVID-19/COVID-19 (29).jpeg 2020-03-26 12:00:22        59297\n",
            "Dataset All Augmented/COVID-19/COVID-19 (29).jpg 2020-03-26 11:59:36        90935\n",
            "Dataset All Augmented/COVID-19/COVID-19 (290).jpg 2020-03-26 11:59:38        39103\n",
            "Dataset All Augmented/COVID-19/COVID-19 (291).jpg 2020-03-26 11:59:38        39134\n",
            "Dataset All Augmented/COVID-19/COVID-19 (292).jpg 2020-03-26 11:59:38        41440\n",
            "Dataset All Augmented/COVID-19/COVID-19 (293).jpg 2020-03-26 11:59:38        42342\n",
            "Dataset All Augmented/COVID-19/COVID-19 (294).jpg 2020-03-26 11:59:38        55887\n",
            "Dataset All Augmented/COVID-19/COVID-19 (295).jpg 2020-03-26 11:59:38        55751\n",
            "Dataset All Augmented/COVID-19/COVID-19 (296).jpg 2020-03-26 11:59:38        55299\n",
            "Dataset All Augmented/COVID-19/COVID-19 (297).jpg 2020-03-26 11:59:38        55037\n",
            "Dataset All Augmented/COVID-19/COVID-19 (298).jpg 2020-03-26 11:59:38        54856\n",
            "Dataset All Augmented/COVID-19/COVID-19 (299).jpg 2020-03-26 11:59:38        47833\n",
            "Dataset All Augmented/COVID-19/COVID-19 (3).jpeg 2020-03-26 12:00:24        48648\n",
            "Dataset All Augmented/COVID-19/COVID-19 (3).jpg 2020-03-26 11:59:26        40921\n",
            "Dataset All Augmented/COVID-19/COVID-19 (30).jpeg 2020-03-26 12:00:22        58787\n",
            "Dataset All Augmented/COVID-19/COVID-19 (30).jpg 2020-03-26 11:59:36        91714\n",
            "Dataset All Augmented/COVID-19/COVID-19 (300).jpg 2020-03-26 11:59:38        54374\n",
            "Dataset All Augmented/COVID-19/COVID-19 (301).jpg 2020-03-26 11:59:38        47398\n",
            "Dataset All Augmented/COVID-19/COVID-19 (302).jpg 2020-03-26 11:59:38        54283\n",
            "Dataset All Augmented/COVID-19/COVID-19 (303).jpg 2020-03-26 11:59:38        46168\n",
            "Dataset All Augmented/COVID-19/COVID-19 (304).jpg 2020-03-26 11:59:38        46332\n",
            "Dataset All Augmented/COVID-19/COVID-19 (305).jpg 2020-03-26 11:59:40        49353\n",
            "Dataset All Augmented/COVID-19/COVID-19 (306).jpg 2020-03-26 11:59:40        47148\n",
            "Dataset All Augmented/COVID-19/COVID-19 (307).jpg 2020-03-26 11:59:40        51292\n",
            "Dataset All Augmented/COVID-19/COVID-19 (308).jpg 2020-03-26 11:59:40        46520\n",
            "Dataset All Augmented/COVID-19/COVID-19 (309).jpg 2020-03-26 11:59:40        44513\n",
            "Dataset All Augmented/COVID-19/COVID-19 (31).jpeg 2020-03-26 12:00:24        55281\n",
            "Dataset All Augmented/COVID-19/COVID-19 (31).jpg 2020-03-26 11:59:36        90638\n",
            "Dataset All Augmented/COVID-19/COVID-19 (310).jpg 2020-03-26 11:59:40        53239\n",
            "Dataset All Augmented/COVID-19/COVID-19 (311).jpg 2020-03-26 11:59:40        44102\n",
            "Dataset All Augmented/COVID-19/COVID-19 (312).jpg 2020-03-26 11:59:40        60605\n",
            "Dataset All Augmented/COVID-19/COVID-19 (313).jpg 2020-03-26 11:59:40        60709\n",
            "Dataset All Augmented/COVID-19/COVID-19 (314).jpg 2020-03-26 11:59:40        60073\n",
            "Dataset All Augmented/COVID-19/COVID-19 (315).jpg 2020-03-26 11:59:40        59398\n",
            "Dataset All Augmented/COVID-19/COVID-19 (316).jpg 2020-03-26 11:59:40        59182\n",
            "Dataset All Augmented/COVID-19/COVID-19 (317).jpg 2020-03-26 11:59:40        51527\n",
            "Dataset All Augmented/COVID-19/COVID-19 (318).jpg 2020-03-26 11:59:40        58752\n",
            "Dataset All Augmented/COVID-19/COVID-19 (319).jpg 2020-03-26 11:59:40        51478\n",
            "Dataset All Augmented/COVID-19/COVID-19 (32).jpeg 2020-03-26 12:00:24        61910\n",
            "Dataset All Augmented/COVID-19/COVID-19 (32).jpg 2020-03-26 11:59:38        91257\n",
            "Dataset All Augmented/COVID-19/COVID-19 (320).jpg 2020-03-26 11:59:40        58518\n",
            "Dataset All Augmented/COVID-19/COVID-19 (321).jpg 2020-03-26 11:59:40        49439\n",
            "Dataset All Augmented/COVID-19/COVID-19 (322).jpg 2020-03-26 11:59:40        51472\n",
            "Dataset All Augmented/COVID-19/COVID-19 (323).jpg 2020-03-26 11:59:40        53512\n",
            "Dataset All Augmented/COVID-19/COVID-19 (324).jpg 2020-03-26 11:59:40        50040\n",
            "Dataset All Augmented/COVID-19/COVID-19 (325).jpg 2020-03-26 11:59:40        46817\n",
            "Dataset All Augmented/COVID-19/COVID-19 (326).jpg 2020-03-26 11:59:40        46963\n",
            "Dataset All Augmented/COVID-19/COVID-19 (327).jpg 2020-03-26 11:59:40        45540\n",
            "Dataset All Augmented/COVID-19/COVID-19 (328).jpg 2020-03-26 11:59:40        57511\n",
            "Dataset All Augmented/COVID-19/COVID-19 (329).jpg 2020-03-26 11:59:40        59753\n",
            "Dataset All Augmented/COVID-19/COVID-19 (33).jpg 2020-03-26 11:59:38        89242\n",
            "Dataset All Augmented/COVID-19/COVID-19 (330).jpg 2020-03-26 11:59:40        51634\n",
            "Dataset All Augmented/COVID-19/COVID-19 (331).jpg 2020-03-26 11:59:42        51608\n",
            "Dataset All Augmented/COVID-19/COVID-19 (332).jpg 2020-03-26 11:59:42        50836\n",
            "Dataset All Augmented/COVID-19/COVID-19 (333).jpg 2020-03-26 11:59:42        50984\n",
            "Dataset All Augmented/COVID-19/COVID-19 (334).jpg 2020-03-26 11:59:42        50529\n",
            "Dataset All Augmented/COVID-19/COVID-19 (335).jpg 2020-03-26 11:59:42        51868\n",
            "Dataset All Augmented/COVID-19/COVID-19 (336).jpg 2020-03-26 11:59:42        51347\n",
            "Dataset All Augmented/COVID-19/COVID-19 (337).jpg 2020-03-26 11:59:42        51253\n",
            "Dataset All Augmented/COVID-19/COVID-19 (338).jpg 2020-03-26 11:59:42        50548\n",
            "Dataset All Augmented/COVID-19/COVID-19 (339).jpg 2020-03-26 11:59:42        49318\n",
            "Dataset All Augmented/COVID-19/COVID-19 (34).jpg 2020-03-26 11:59:38        89269\n",
            "Dataset All Augmented/COVID-19/COVID-19 (340).jpg 2020-03-26 11:59:42        49549\n",
            "Dataset All Augmented/COVID-19/COVID-19 (341).jpg 2020-03-26 11:59:42        49998\n",
            "Dataset All Augmented/COVID-19/COVID-19 (342).jpg 2020-03-26 11:59:42        50510\n",
            "Dataset All Augmented/COVID-19/COVID-19 (343).jpg 2020-03-26 11:59:42        48113\n",
            "Dataset All Augmented/COVID-19/COVID-19 (344).jpg 2020-03-26 11:59:42        45698\n",
            "Dataset All Augmented/COVID-19/COVID-19 (345).jpg 2020-03-26 11:59:42        54268\n",
            "Dataset All Augmented/COVID-19/COVID-19 (346).jpg 2020-03-26 11:59:42        42634\n",
            "Dataset All Augmented/COVID-19/COVID-19 (347).jpg 2020-03-26 11:59:42        41743\n",
            "Dataset All Augmented/COVID-19/COVID-19 (348).jpg 2020-03-26 11:59:42        46081\n",
            "Dataset All Augmented/COVID-19/COVID-19 (349).jpg 2020-03-26 11:59:42        46076\n",
            "Dataset All Augmented/COVID-19/COVID-19 (35).jpg 2020-03-26 11:59:40        81775\n",
            "Dataset All Augmented/COVID-19/COVID-19 (350).jpg 2020-03-26 11:59:42        45497\n",
            "Dataset All Augmented/COVID-19/COVID-19 (351).jpg 2020-03-26 11:59:42        45480\n",
            "Dataset All Augmented/COVID-19/COVID-19 (352).jpg 2020-03-26 11:59:42        45505\n",
            "Dataset All Augmented/COVID-19/COVID-19 (353).jpg 2020-03-26 11:59:42        46362\n",
            "Dataset All Augmented/COVID-19/COVID-19 (354).jpg 2020-03-26 11:59:42        46007\n",
            "Dataset All Augmented/COVID-19/COVID-19 (355).jpg 2020-03-26 11:59:42        45926\n",
            "Dataset All Augmented/COVID-19/COVID-19 (356).jpg 2020-03-26 11:59:42        45561\n",
            "Dataset All Augmented/COVID-19/COVID-19 (357).jpg 2020-03-26 11:59:42        45829\n",
            "Dataset All Augmented/COVID-19/COVID-19 (358).jpg 2020-03-26 11:59:42        45945\n",
            "Dataset All Augmented/COVID-19/COVID-19 (359).jpg 2020-03-26 11:59:42        46225\n",
            "Dataset All Augmented/COVID-19/COVID-19 (36).jpg 2020-03-26 11:59:40        80570\n",
            "Dataset All Augmented/COVID-19/COVID-19 (360).jpg 2020-03-26 11:59:42        44361\n",
            "Dataset All Augmented/COVID-19/COVID-19 (361).jpg 2020-03-26 11:59:42        43586\n",
            "Dataset All Augmented/COVID-19/COVID-19 (362).jpg 2020-03-26 11:59:42        40032\n",
            "Dataset All Augmented/COVID-19/COVID-19 (363).jpg 2020-03-26 11:59:42        46413\n",
            "Dataset All Augmented/COVID-19/COVID-19 (364).jpg 2020-03-26 11:59:42        39104\n",
            "Dataset All Augmented/COVID-19/COVID-19 (365).jpg 2020-03-26 11:59:42        39049\n",
            "Dataset All Augmented/COVID-19/COVID-19 (366).jpg 2020-03-26 11:59:42        60586\n",
            "Dataset All Augmented/COVID-19/COVID-19 (367).jpg 2020-03-26 11:59:42        60999\n",
            "Dataset All Augmented/COVID-19/COVID-19 (368).jpg 2020-03-26 11:59:42        60043\n",
            "Dataset All Augmented/COVID-19/COVID-19 (369).jpg 2020-03-26 11:59:44        59997\n",
            "Dataset All Augmented/COVID-19/COVID-19 (37).jpg 2020-03-26 11:59:40        51301\n",
            "Dataset All Augmented/COVID-19/COVID-19 (370).jpg 2020-03-26 11:59:44        60569\n",
            "Dataset All Augmented/COVID-19/COVID-19 (371).jpg 2020-03-26 11:59:44        58456\n",
            "Dataset All Augmented/COVID-19/COVID-19 (372).jpg 2020-03-26 11:59:44        59771\n",
            "Dataset All Augmented/COVID-19/COVID-19 (373).jpg 2020-03-26 11:59:44        58360\n",
            "Dataset All Augmented/COVID-19/COVID-19 (374).jpg 2020-03-26 11:59:44        59433\n",
            "Dataset All Augmented/COVID-19/COVID-19 (375).jpg 2020-03-26 11:59:44        57275\n",
            "Dataset All Augmented/COVID-19/COVID-19 (376).jpg 2020-03-26 11:59:44        53978\n",
            "Dataset All Augmented/COVID-19/COVID-19 (377).jpg 2020-03-26 11:59:44        53364\n",
            "Dataset All Augmented/COVID-19/COVID-19 (378).jpg 2020-03-26 11:59:44        50030\n",
            "Dataset All Augmented/COVID-19/COVID-19 (379).jpg 2020-03-26 11:59:44        46943\n",
            "Dataset All Augmented/COVID-19/COVID-19 (38).jpg 2020-03-26 11:59:42        47255\n",
            "Dataset All Augmented/COVID-19/COVID-19 (380).jpg 2020-03-26 11:59:44        45531\n",
            "Dataset All Augmented/COVID-19/COVID-19 (381).jpg 2020-03-26 11:59:44        58697\n",
            "Dataset All Augmented/COVID-19/COVID-19 (382).jpg 2020-03-26 11:59:44        50485\n",
            "Dataset All Augmented/COVID-19/COVID-19 (383).jpg 2020-03-26 11:59:44        54722\n",
            "Dataset All Augmented/COVID-19/COVID-19 (384).jpg 2020-03-26 11:59:44        56493\n",
            "Dataset All Augmented/COVID-19/COVID-19 (385).jpg 2020-03-26 11:59:44        57223\n",
            "Dataset All Augmented/COVID-19/COVID-19 (386).jpg 2020-03-26 11:59:44        55659\n",
            "Dataset All Augmented/COVID-19/COVID-19 (387).jpg 2020-03-26 11:59:44        56577\n",
            "Dataset All Augmented/COVID-19/COVID-19 (388).jpg 2020-03-26 11:59:44        55656\n",
            "Dataset All Augmented/COVID-19/COVID-19 (389).jpg 2020-03-26 11:59:44        52382\n",
            "Dataset All Augmented/COVID-19/COVID-19 (39).jpg 2020-03-26 11:59:42        49873\n",
            "Dataset All Augmented/COVID-19/COVID-19 (390).jpg 2020-03-26 11:59:44        56161\n",
            "Dataset All Augmented/COVID-19/COVID-19 (391).jpg 2020-03-26 11:59:44        51994\n",
            "Dataset All Augmented/COVID-19/COVID-19 (392).jpg 2020-03-26 11:59:44        55615\n",
            "Dataset All Augmented/COVID-19/COVID-19 (393).jpg 2020-03-26 11:59:44        51900\n",
            "Dataset All Augmented/COVID-19/COVID-19 (394).jpg 2020-03-26 11:59:44        49279\n",
            "Dataset All Augmented/COVID-19/COVID-19 (395).jpg 2020-03-26 11:59:44        51019\n",
            "Dataset All Augmented/COVID-19/COVID-19 (396).jpg 2020-03-26 11:59:44        50317\n",
            "Dataset All Augmented/COVID-19/COVID-19 (397).jpg 2020-03-26 11:59:44        47223\n",
            "Dataset All Augmented/COVID-19/COVID-19 (398).jpg 2020-03-26 11:59:46        47912\n",
            "Dataset All Augmented/COVID-19/COVID-19 (399).jpg 2020-03-26 11:59:46        45703\n",
            "Dataset All Augmented/COVID-19/COVID-19 (4).jpeg 2020-03-26 12:00:24        49197\n",
            "Dataset All Augmented/COVID-19/COVID-19 (4).jpg 2020-03-26 11:59:26        52442\n",
            "Dataset All Augmented/COVID-19/COVID-19 (40).jpg 2020-03-26 11:59:42        50251\n",
            "Dataset All Augmented/COVID-19/COVID-19 (400).jpg 2020-03-26 11:59:46        44151\n",
            "Dataset All Augmented/COVID-19/COVID-19 (401).jpg 2020-03-26 11:59:46        43931\n",
            "Dataset All Augmented/COVID-19/COVID-19 (402).jpg 2020-03-26 11:59:46        56748\n",
            "Dataset All Augmented/COVID-19/COVID-19 (403).jpg 2020-03-26 11:59:46        56175\n",
            "Dataset All Augmented/COVID-19/COVID-19 (404).jpg 2020-03-26 11:59:46        56800\n",
            "Dataset All Augmented/COVID-19/COVID-19 (405).jpg 2020-03-26 11:59:46        56794\n",
            "Dataset All Augmented/COVID-19/COVID-19 (406).jpg 2020-03-26 11:59:46        56379\n",
            "Dataset All Augmented/COVID-19/COVID-19 (407).jpg 2020-03-26 11:59:46        53273\n",
            "Dataset All Augmented/COVID-19/COVID-19 (408).jpg 2020-03-26 11:59:46        56007\n",
            "Dataset All Augmented/COVID-19/COVID-19 (409).jpg 2020-03-26 11:59:46        52908\n",
            "Dataset All Augmented/COVID-19/COVID-19 (41).jpg 2020-03-26 11:59:42        45790\n",
            "Dataset All Augmented/COVID-19/COVID-19 (410).jpg 2020-03-26 11:59:46        56314\n",
            "Dataset All Augmented/COVID-19/COVID-19 (411).jpg 2020-03-26 11:59:46        50997\n",
            "Dataset All Augmented/COVID-19/COVID-19 (412).jpg 2020-03-26 11:59:46        49012\n",
            "Dataset All Augmented/COVID-19/COVID-19 (413).jpg 2020-03-26 11:59:46        53093\n",
            "Dataset All Augmented/COVID-19/COVID-19 (414).jpg 2020-03-26 11:59:46        47885\n",
            "Dataset All Augmented/COVID-19/COVID-19 (415).jpg 2020-03-26 11:59:46        50316\n",
            "Dataset All Augmented/COVID-19/COVID-19 (416).jpg 2020-03-26 11:59:46        60569\n",
            "Dataset All Augmented/COVID-19/COVID-19 (417).jpg 2020-03-26 11:59:46        46631\n",
            "Dataset All Augmented/COVID-19/COVID-19 (418).jpg 2020-03-26 11:59:46        46631\n",
            "Dataset All Augmented/COVID-19/COVID-19 (419).jpg 2020-03-26 11:59:46        60104\n",
            "Dataset All Augmented/COVID-19/COVID-19 (42).jpg 2020-03-26 11:59:44        41580\n",
            "Dataset All Augmented/COVID-19/COVID-19 (420).jpg 2020-03-26 11:59:46        62207\n",
            "Dataset All Augmented/COVID-19/COVID-19 (421).jpg 2020-03-26 11:59:46        61966\n",
            "Dataset All Augmented/COVID-19/COVID-19 (422).jpg 2020-03-26 11:59:46        62270\n",
            "Dataset All Augmented/COVID-19/COVID-19 (423).jpg 2020-03-26 11:59:46        61843\n",
            "Dataset All Augmented/COVID-19/COVID-19 (424).jpg 2020-03-26 11:59:46        61264\n",
            "Dataset All Augmented/COVID-19/COVID-19 (425).jpg 2020-03-26 11:59:46        57779\n",
            "Dataset All Augmented/COVID-19/COVID-19 (426).jpg 2020-03-26 11:59:46        61104\n",
            "Dataset All Augmented/COVID-19/COVID-19 (427).jpg 2020-03-26 11:59:46        57859\n",
            "Dataset All Augmented/COVID-19/COVID-19 (428).jpg 2020-03-26 11:59:46        61282\n",
            "Dataset All Augmented/COVID-19/COVID-19 (429).jpg 2020-03-26 11:59:46        55258\n",
            "Dataset All Augmented/COVID-19/COVID-19 (43).jpg 2020-03-26 11:59:44        41641\n",
            "Dataset All Augmented/COVID-19/COVID-19 (430).jpg 2020-03-26 11:59:46        54119\n",
            "Dataset All Augmented/COVID-19/COVID-19 (431).jpg 2020-03-26 11:59:46        57738\n",
            "Dataset All Augmented/COVID-19/COVID-19 (432).jpg 2020-03-26 11:59:46        53556\n",
            "Dataset All Augmented/COVID-19/COVID-19 (433).jpg 2020-03-26 11:59:46        50326\n",
            "Dataset All Augmented/COVID-19/COVID-19 (434).jpg 2020-03-26 11:59:46        48173\n",
            "Dataset All Augmented/COVID-19/COVID-19 (435).jpg 2020-03-26 11:59:48        50964\n",
            "Dataset All Augmented/COVID-19/COVID-19 (436).jpg 2020-03-26 11:59:48        48637\n",
            "Dataset All Augmented/COVID-19/COVID-19 (437).jpg 2020-03-26 11:59:48        57602\n",
            "Dataset All Augmented/COVID-19/COVID-19 (438).jpg 2020-03-26 11:59:48        59906\n",
            "Dataset All Augmented/COVID-19/COVID-19 (439).jpg 2020-03-26 11:59:48        59351\n",
            "Dataset All Augmented/COVID-19/COVID-19 (44).jpg 2020-03-26 11:59:44        41101\n",
            "Dataset All Augmented/COVID-19/COVID-19 (440).jpg 2020-03-26 11:59:48        59511\n",
            "Dataset All Augmented/COVID-19/COVID-19 (441).jpg 2020-03-26 11:59:48        59516\n",
            "Dataset All Augmented/COVID-19/COVID-19 (442).jpg 2020-03-26 11:59:48        59006\n",
            "Dataset All Augmented/COVID-19/COVID-19 (443).jpg 2020-03-26 11:59:48        57621\n",
            "Dataset All Augmented/COVID-19/COVID-19 (444).jpg 2020-03-26 11:59:48        59247\n",
            "Dataset All Augmented/COVID-19/COVID-19 (445).jpg 2020-03-26 11:59:48        57158\n",
            "Dataset All Augmented/COVID-19/COVID-19 (446).jpg 2020-03-26 11:59:48        58986\n",
            "Dataset All Augmented/COVID-19/COVID-19 (447).jpg 2020-03-26 11:59:48        52894\n",
            "Dataset All Augmented/COVID-19/COVID-19 (448).jpg 2020-03-26 11:59:48        52468\n",
            "Dataset All Augmented/COVID-19/COVID-19 (449).jpg 2020-03-26 11:59:48        54824\n",
            "Dataset All Augmented/COVID-19/COVID-19 (45).jpg 2020-03-26 11:59:46        40867\n",
            "Dataset All Augmented/COVID-19/COVID-19 (450).jpg 2020-03-26 11:59:48        53690\n",
            "Dataset All Augmented/COVID-19/COVID-19 (451).jpg 2020-03-26 11:59:48        49560\n",
            "Dataset All Augmented/COVID-19/COVID-19 (452).jpg 2020-03-26 11:59:48        54381\n",
            "Dataset All Augmented/COVID-19/COVID-19 (453).jpg 2020-03-26 11:59:48        54050\n",
            "Dataset All Augmented/COVID-19/COVID-19 (454).jpg 2020-03-26 11:59:48        58660\n",
            "Dataset All Augmented/COVID-19/COVID-19 (455).jpg 2020-03-26 11:59:48        52894\n",
            "Dataset All Augmented/COVID-19/COVID-19 (456).jpg 2020-03-26 11:59:48        63152\n",
            "Dataset All Augmented/COVID-19/COVID-19 (457).jpg 2020-03-26 11:59:48        63199\n",
            "Dataset All Augmented/COVID-19/COVID-19 (458).jpg 2020-03-26 11:59:48        63336\n",
            "Dataset All Augmented/COVID-19/COVID-19 (459).jpg 2020-03-26 11:59:48        63220\n",
            "Dataset All Augmented/COVID-19/COVID-19 (46).jpg 2020-03-26 11:59:46        40155\n",
            "Dataset All Augmented/COVID-19/COVID-19 (460).jpg 2020-03-26 11:59:48        63013\n",
            "Dataset All Augmented/COVID-19/COVID-19 (461).jpg 2020-03-26 11:59:48        63757\n",
            "Dataset All Augmented/COVID-19/COVID-19 (462).jpg 2020-03-26 11:59:48        62995\n",
            "Dataset All Augmented/COVID-19/COVID-19 (463).jpg 2020-03-26 11:59:48        63452\n",
            "Dataset All Augmented/COVID-19/COVID-19 (464).jpg 2020-03-26 11:59:48        63027\n",
            "Dataset All Augmented/COVID-19/COVID-19 (465).jpg 2020-03-26 11:59:50        62099\n",
            "Dataset All Augmented/COVID-19/COVID-19 (466).jpg 2020-03-26 11:59:50        62204\n",
            "Dataset All Augmented/COVID-19/COVID-19 (467).jpg 2020-03-26 11:59:50        62257\n",
            "Dataset All Augmented/COVID-19/COVID-19 (468).jpg 2020-03-26 11:59:50        59383\n",
            "Dataset All Augmented/COVID-19/COVID-19 (469).jpg 2020-03-26 11:59:50        50396\n",
            "Dataset All Augmented/COVID-19/COVID-19 (47).jpg 2020-03-26 11:59:46        41323\n",
            "Dataset All Augmented/COVID-19/COVID-19 (470).jpg 2020-03-26 11:59:50        53140\n",
            "Dataset All Augmented/COVID-19/COVID-19 (471).jpg 2020-03-26 11:59:50        46817\n",
            "Dataset All Augmented/COVID-19/COVID-19 (472).jpg 2020-03-26 11:59:50        46880\n",
            "Dataset All Augmented/COVID-19/COVID-19 (473).jpg 2020-03-26 11:59:50        47075\n",
            "Dataset All Augmented/COVID-19/COVID-19 (474).jpg 2020-03-26 11:59:50        76850\n",
            "Dataset All Augmented/COVID-19/COVID-19 (475).jpg 2020-03-26 11:59:50        76938\n",
            "Dataset All Augmented/COVID-19/COVID-19 (476).jpg 2020-03-26 11:59:50        76595\n",
            "Dataset All Augmented/COVID-19/COVID-19 (477).jpg 2020-03-26 11:59:50        76657\n",
            "Dataset All Augmented/COVID-19/COVID-19 (478).jpg 2020-03-26 11:59:50        76531\n",
            "Dataset All Augmented/COVID-19/COVID-19 (479).jpg 2020-03-26 11:59:50        77203\n",
            "Dataset All Augmented/COVID-19/COVID-19 (48).jpg 2020-03-26 11:59:46        41016\n",
            "Dataset All Augmented/COVID-19/COVID-19 (480).jpg 2020-03-26 11:59:50        76724\n",
            "Dataset All Augmented/COVID-19/COVID-19 (481).jpg 2020-03-26 11:59:50        76651\n",
            "Dataset All Augmented/COVID-19/COVID-19 (482).jpg 2020-03-26 11:59:50        76397\n",
            "Dataset All Augmented/COVID-19/COVID-19 (483).jpg 2020-03-26 11:59:50        75080\n",
            "Dataset All Augmented/COVID-19/COVID-19 (484).jpg 2020-03-26 11:59:50        74434\n",
            "Dataset All Augmented/COVID-19/COVID-19 (485).jpg 2020-03-26 11:59:50        76592\n",
            "Dataset All Augmented/COVID-19/COVID-19 (486).jpg 2020-03-26 11:59:50        73492\n",
            "Dataset All Augmented/COVID-19/COVID-19 (487).jpg 2020-03-26 11:59:50        59286\n",
            "Dataset All Augmented/COVID-19/COVID-19 (488).jpg 2020-03-26 11:59:50        55650\n",
            "Dataset All Augmented/COVID-19/COVID-19 (489).jpg 2020-03-26 11:59:50        59205\n",
            "Dataset All Augmented/COVID-19/COVID-19 (49).jpg 2020-03-26 11:59:48        40831\n",
            "Dataset All Augmented/COVID-19/COVID-19 (490).jpg 2020-03-26 11:59:50        61729\n",
            "Dataset All Augmented/COVID-19/COVID-19 (491).jpg 2020-03-26 11:59:50        64113\n",
            "Dataset All Augmented/COVID-19/COVID-19 (492).jpg 2020-03-26 11:59:50        41688\n",
            "Dataset All Augmented/COVID-19/COVID-19 (493).jpg 2020-03-26 11:59:50        41672\n",
            "Dataset All Augmented/COVID-19/COVID-19 (494).jpg 2020-03-26 11:59:50        42032\n",
            "Dataset All Augmented/COVID-19/COVID-19 (495).jpg 2020-03-26 11:59:50        42051\n",
            "Dataset All Augmented/COVID-19/COVID-19 (496).jpg 2020-03-26 11:59:50        42029\n",
            "Dataset All Augmented/COVID-19/COVID-19 (497).jpg 2020-03-26 11:59:50        42184\n",
            "Dataset All Augmented/COVID-19/COVID-19 (498).jpg 2020-03-26 11:59:50        41607\n",
            "Dataset All Augmented/COVID-19/COVID-19 (499).jpg 2020-03-26 11:59:50        42621\n",
            "Dataset All Augmented/COVID-19/COVID-19 (5).jpeg 2020-03-26 11:59:26        37876\n",
            "Dataset All Augmented/COVID-19/COVID-19 (5).jpg 2020-03-26 11:59:26        55737\n",
            "Dataset All Augmented/COVID-19/COVID-19 (50).jpg 2020-03-26 11:59:48        40488\n",
            "Dataset All Augmented/COVID-19/COVID-19 (500).jpg 2020-03-26 11:59:50        42037\n",
            "Dataset All Augmented/COVID-19/COVID-19 (501).jpg 2020-03-26 11:59:50        40870\n",
            "Dataset All Augmented/COVID-19/COVID-19 (502).jpg 2020-03-26 11:59:52        41377\n",
            "Dataset All Augmented/COVID-19/COVID-19 (503).jpg 2020-03-26 11:59:52        41090\n",
            "Dataset All Augmented/COVID-19/COVID-19 (504).jpg 2020-03-26 11:59:52        41092\n",
            "Dataset All Augmented/COVID-19/COVID-19 (505).jpg 2020-03-26 11:59:52        36855\n",
            "Dataset All Augmented/COVID-19/COVID-19 (506).jpg 2020-03-26 11:59:52        38995\n",
            "Dataset All Augmented/COVID-19/COVID-19 (507).jpg 2020-03-26 11:59:52        38235\n",
            "Dataset All Augmented/COVID-19/COVID-19 (508).jpg 2020-03-26 11:59:52        41998\n",
            "Dataset All Augmented/COVID-19/COVID-19 (509).jpg 2020-03-26 11:59:52        37731\n",
            "Dataset All Augmented/COVID-19/COVID-19 (51).jpg 2020-03-26 11:59:48        38683\n",
            "Dataset All Augmented/COVID-19/COVID-19 (510).jpg 2020-03-26 11:59:52        39554\n",
            "Dataset All Augmented/COVID-19/COVID-19 (511).jpg 2020-03-26 11:59:52        39474\n",
            "Dataset All Augmented/COVID-19/COVID-19 (512).jpg 2020-03-26 11:59:52        38850\n",
            "Dataset All Augmented/COVID-19/COVID-19 (513).jpg 2020-03-26 11:59:52        38923\n",
            "Dataset All Augmented/COVID-19/COVID-19 (514).jpg 2020-03-26 11:59:52        38305\n",
            "Dataset All Augmented/COVID-19/COVID-19 (515).jpg 2020-03-26 11:59:52        39587\n",
            "Dataset All Augmented/COVID-19/COVID-19 (516).jpg 2020-03-26 11:59:52        39090\n",
            "Dataset All Augmented/COVID-19/COVID-19 (517).jpg 2020-03-26 11:59:52        38843\n",
            "Dataset All Augmented/COVID-19/COVID-19 (518).jpg 2020-03-26 11:59:52        38381\n",
            "Dataset All Augmented/COVID-19/COVID-19 (519).jpg 2020-03-26 11:59:52        38773\n",
            "Dataset All Augmented/COVID-19/COVID-19 (52).jpg 2020-03-26 11:59:50        37336\n",
            "Dataset All Augmented/COVID-19/COVID-19 (520).jpg 2020-03-26 11:59:52        37524\n",
            "Dataset All Augmented/COVID-19/COVID-19 (521).jpg 2020-03-26 11:59:52        38124\n",
            "Dataset All Augmented/COVID-19/COVID-19 (522).jpg 2020-03-26 11:59:52        38770\n",
            "Dataset All Augmented/COVID-19/COVID-19 (523).jpg 2020-03-26 11:59:52        35049\n",
            "Dataset All Augmented/COVID-19/COVID-19 (524).jpg 2020-03-26 11:59:52        36016\n",
            "Dataset All Augmented/COVID-19/COVID-19 (525).jpg 2020-03-26 11:59:52        34876\n",
            "Dataset All Augmented/COVID-19/COVID-19 (526).jpg 2020-03-26 11:59:52        34722\n",
            "Dataset All Augmented/COVID-19/COVID-19 (527).jpg 2020-03-26 11:59:52        33832\n",
            "Dataset All Augmented/COVID-19/COVID-19 (528).jpg 2020-03-26 11:59:52        46971\n",
            "Dataset All Augmented/COVID-19/COVID-19 (529).jpg 2020-03-26 11:59:52        47234\n",
            "Dataset All Augmented/COVID-19/COVID-19 (53).jpg 2020-03-26 11:59:50        40192\n",
            "Dataset All Augmented/COVID-19/COVID-19 (530).jpg 2020-03-26 11:59:52        46220\n",
            "Dataset All Augmented/COVID-19/COVID-19 (531).jpg 2020-03-26 11:59:52        46530\n",
            "Dataset All Augmented/COVID-19/COVID-19 (532).jpg 2020-03-26 11:59:52        46237\n",
            "Dataset All Augmented/COVID-19/COVID-19 (533).jpg 2020-03-26 11:59:54        47591\n",
            "Dataset All Augmented/COVID-19/COVID-19 (534).jpg 2020-03-26 11:59:54        47006\n",
            "Dataset All Augmented/COVID-19/COVID-19 (535).jpg 2020-03-26 11:59:54        46732\n",
            "Dataset All Augmented/COVID-19/COVID-19 (536).jpg 2020-03-26 11:59:54        46343\n",
            "Dataset All Augmented/COVID-19/COVID-19 (537).jpg 2020-03-26 11:59:54        45441\n",
            "Dataset All Augmented/COVID-19/COVID-19 (538).jpg 2020-03-26 11:59:54        45505\n",
            "Dataset All Augmented/COVID-19/COVID-19 (539).jpg 2020-03-26 11:59:54        45114\n",
            "Dataset All Augmented/COVID-19/COVID-19 (54).jpg 2020-03-26 11:59:50        39948\n",
            "Dataset All Augmented/COVID-19/COVID-19 (540).jpg 2020-03-26 11:59:54        45744\n",
            "Dataset All Augmented/COVID-19/COVID-19 (541).jpg 2020-03-26 11:59:54        42097\n",
            "Dataset All Augmented/COVID-19/COVID-19 (542).jpg 2020-03-26 11:59:54        37163\n",
            "Dataset All Augmented/COVID-19/COVID-19 (543).jpg 2020-03-26 11:59:54        36103\n",
            "Dataset All Augmented/COVID-19/COVID-19 (544).jpg 2020-03-26 11:59:54        41807\n",
            "Dataset All Augmented/COVID-19/COVID-19 (545).jpg 2020-03-26 11:59:54        36135\n",
            "Dataset All Augmented/COVID-19/COVID-19 (546).jpg 2020-03-26 11:59:54        46433\n",
            "Dataset All Augmented/COVID-19/COVID-19 (547).jpg 2020-03-26 11:59:54        46152\n",
            "Dataset All Augmented/COVID-19/COVID-19 (548).jpg 2020-03-26 11:59:54        46115\n",
            "Dataset All Augmented/COVID-19/COVID-19 (549).jpg 2020-03-26 11:59:54        44636\n",
            "Dataset All Augmented/COVID-19/COVID-19 (55).jpg 2020-03-26 11:59:52        33424\n",
            "Dataset All Augmented/COVID-19/COVID-19 (550).jpg 2020-03-26 11:59:54        46245\n",
            "Dataset All Augmented/COVID-19/COVID-19 (551).jpg 2020-03-26 11:59:54        35674\n",
            "Dataset All Augmented/COVID-19/COVID-19 (552).jpg 2020-03-26 11:59:54        45255\n",
            "Dataset All Augmented/COVID-19/COVID-19 (553).jpg 2020-03-26 11:59:54        35341\n",
            "Dataset All Augmented/COVID-19/COVID-19 (554).jpg 2020-03-26 11:59:54        44953\n",
            "Dataset All Augmented/COVID-19/COVID-19 (555).jpg 2020-03-26 11:59:56        36426\n",
            "Dataset All Augmented/COVID-19/COVID-19 (556).jpg 2020-03-26 11:59:56        32955\n",
            "Dataset All Augmented/COVID-19/COVID-19 (557).jpg 2020-03-26 11:59:56        34750\n",
            "Dataset All Augmented/COVID-19/COVID-19 (558).jpg 2020-03-26 11:59:56        31106\n",
            "Dataset All Augmented/COVID-19/COVID-19 (559).jpg 2020-03-26 11:59:56        47588\n",
            "Dataset All Augmented/COVID-19/COVID-19 (56).jpg 2020-03-26 11:59:52        33663\n",
            "Dataset All Augmented/COVID-19/COVID-19 (560).jpg 2020-03-26 11:59:56        48513\n",
            "Dataset All Augmented/COVID-19/COVID-19 (561).jpg 2020-03-26 11:59:56        40856\n",
            "Dataset All Augmented/COVID-19/COVID-19 (562).jpg 2020-03-26 11:59:56        42967\n",
            "Dataset All Augmented/COVID-19/COVID-19 (563).jpg 2020-03-26 11:59:56        47804\n",
            "Dataset All Augmented/COVID-19/COVID-19 (564).jpg 2020-03-26 11:59:56        54227\n",
            "Dataset All Augmented/COVID-19/COVID-19 (565).jpg 2020-03-26 11:59:56        53954\n",
            "Dataset All Augmented/COVID-19/COVID-19 (566).jpg 2020-03-26 11:59:56        53338\n",
            "Dataset All Augmented/COVID-19/COVID-19 (567).jpg 2020-03-26 11:59:56        52115\n",
            "Dataset All Augmented/COVID-19/COVID-19 (568).jpg 2020-03-26 11:59:56        53911\n",
            "Dataset All Augmented/COVID-19/COVID-19 (569).jpg 2020-03-26 11:59:56        41023\n",
            "Dataset All Augmented/COVID-19/COVID-19 (57).jpg 2020-03-26 11:59:52        33996\n",
            "Dataset All Augmented/COVID-19/COVID-19 (570).jpg 2020-03-26 11:59:56        52847\n",
            "Dataset All Augmented/COVID-19/COVID-19 (571).jpg 2020-03-26 11:59:56        41116\n",
            "Dataset All Augmented/COVID-19/COVID-19 (572).jpg 2020-03-26 11:59:56        52743\n",
            "Dataset All Augmented/COVID-19/COVID-19 (573).jpg 2020-03-26 11:59:56        41054\n",
            "Dataset All Augmented/COVID-19/COVID-19 (574).jpg 2020-03-26 11:59:56        38679\n",
            "Dataset All Augmented/COVID-19/COVID-19 (575).jpg 2020-03-26 11:59:56        38606\n",
            "Dataset All Augmented/COVID-19/COVID-19 (576).jpg 2020-03-26 11:59:56        34935\n",
            "Dataset All Augmented/COVID-19/COVID-19 (577).jpg 2020-03-26 11:59:56        54127\n",
            "Dataset All Augmented/COVID-19/COVID-19 (578).jpg 2020-03-26 11:59:56        48076\n",
            "Dataset All Augmented/COVID-19/COVID-19 (579).jpg 2020-03-26 11:59:56        48411\n",
            "Dataset All Augmented/COVID-19/COVID-19 (58).jpg 2020-03-26 11:59:54        33470\n",
            "Dataset All Augmented/COVID-19/COVID-19 (580).jpg 2020-03-26 11:59:56        53852\n",
            "Dataset All Augmented/COVID-19/COVID-19 (581).jpg 2020-03-26 11:59:56        55748\n",
            "Dataset All Augmented/COVID-19/COVID-19 (582).jpg 2020-03-26 11:59:56        58685\n",
            "Dataset All Augmented/COVID-19/COVID-19 (583).jpg 2020-03-26 11:59:58        58100\n",
            "Dataset All Augmented/COVID-19/COVID-19 (584).jpg 2020-03-26 11:59:58        58079\n",
            "Dataset All Augmented/COVID-19/COVID-19 (585).jpg 2020-03-26 11:59:58        58089\n",
            "Dataset All Augmented/COVID-19/COVID-19 (586).jpg 2020-03-26 11:59:58        58909\n",
            "Dataset All Augmented/COVID-19/COVID-19 (587).jpg 2020-03-26 11:59:58        45346\n",
            "Dataset All Augmented/COVID-19/COVID-19 (588).jpg 2020-03-26 11:59:58        57174\n",
            "Dataset All Augmented/COVID-19/COVID-19 (589).jpg 2020-03-26 11:59:58        44840\n",
            "Dataset All Augmented/COVID-19/COVID-19 (59).jpg 2020-03-26 11:59:54        33942\n",
            "Dataset All Augmented/COVID-19/COVID-19 (590).jpg 2020-03-26 11:59:58        57291\n",
            "Dataset All Augmented/COVID-19/COVID-19 (591).jpg 2020-03-26 11:59:58        40751\n",
            "Dataset All Augmented/COVID-19/COVID-19 (592).jpg 2020-03-26 11:59:58        41043\n",
            "Dataset All Augmented/COVID-19/COVID-19 (593).jpg 2020-03-26 11:59:58        41898\n",
            "Dataset All Augmented/COVID-19/COVID-19 (594).jpg 2020-03-26 11:59:58        36886\n",
            "Dataset All Augmented/COVID-19/COVID-19 (595).jpg 2020-03-26 11:59:58        46046\n",
            "Dataset All Augmented/COVID-19/COVID-19 (596).jpg 2020-03-26 11:59:58        54952\n",
            "Dataset All Augmented/COVID-19/COVID-19 (597).jpg 2020-03-26 11:59:58        46829\n",
            "Dataset All Augmented/COVID-19/COVID-19 (598).jpg 2020-03-26 11:59:58        55431\n",
            "Dataset All Augmented/COVID-19/COVID-19 (599).jpg 2020-03-26 11:59:58        46033\n",
            "Dataset All Augmented/COVID-19/COVID-19 (6).jpeg 2020-03-26 11:59:32        36600\n",
            "Dataset All Augmented/COVID-19/COVID-19 (6).jpg 2020-03-26 11:59:26        41597\n",
            "Dataset All Augmented/COVID-19/COVID-19 (60).jpg 2020-03-26 11:59:56        53144\n",
            "Dataset All Augmented/COVID-19/COVID-19 (600).jpg 2020-03-26 11:59:58        49167\n",
            "Dataset All Augmented/COVID-19/COVID-19 (601).jpg 2020-03-26 11:59:58        49346\n",
            "Dataset All Augmented/COVID-19/COVID-19 (602).jpg 2020-03-26 11:59:58        49007\n",
            "Dataset All Augmented/COVID-19/COVID-19 (603).jpg 2020-03-26 11:59:58        48826\n",
            "Dataset All Augmented/COVID-19/COVID-19 (604).jpg 2020-03-26 11:59:58        48566\n",
            "Dataset All Augmented/COVID-19/COVID-19 (605).jpg 2020-03-26 11:59:58        49125\n",
            "Dataset All Augmented/COVID-19/COVID-19 (606).jpg 2020-03-26 11:59:58        48784\n",
            "Dataset All Augmented/COVID-19/COVID-19 (607).jpg 2020-03-26 11:59:58        49041\n",
            "Dataset All Augmented/COVID-19/COVID-19 (608).jpg 2020-03-26 11:59:58        48557\n",
            "Dataset All Augmented/COVID-19/COVID-19 (609).jpg 2020-03-26 12:00:00        45849\n",
            "Dataset All Augmented/COVID-19/COVID-19 (61).jpg 2020-03-26 11:59:56        53355\n",
            "Dataset All Augmented/COVID-19/COVID-19 (610).jpg 2020-03-26 12:00:00        45986\n",
            "Dataset All Augmented/COVID-19/COVID-19 (611).jpg 2020-03-26 12:00:00        47064\n",
            "Dataset All Augmented/COVID-19/COVID-19 (612).jpg 2020-03-26 12:00:00        44711\n",
            "Dataset All Augmented/COVID-19/COVID-19 (613).jpg 2020-03-26 12:00:00        50438\n",
            "Dataset All Augmented/COVID-19/COVID-19 (614).jpg 2020-03-26 12:00:00        41924\n",
            "Dataset All Augmented/COVID-19/COVID-19 (615).jpg 2020-03-26 12:00:00        50749\n",
            "Dataset All Augmented/COVID-19/COVID-19 (616).jpg 2020-03-26 12:00:00        42440\n",
            "Dataset All Augmented/COVID-19/COVID-19 (617).jpg 2020-03-26 12:00:00        51594\n",
            "Dataset All Augmented/COVID-19/COVID-19 (618).jpg 2020-03-26 12:00:00        73747\n",
            "Dataset All Augmented/COVID-19/COVID-19 (619).jpg 2020-03-26 12:00:02        73749\n",
            "Dataset All Augmented/COVID-19/COVID-19 (62).jpg 2020-03-26 11:59:56        52476\n",
            "Dataset All Augmented/COVID-19/COVID-19 (620).jpg 2020-03-26 12:00:02        73227\n",
            "Dataset All Augmented/COVID-19/COVID-19 (621).jpg 2020-03-26 12:00:02        73062\n",
            "Dataset All Augmented/COVID-19/COVID-19 (622).jpg 2020-03-26 12:00:02        72665\n",
            "Dataset All Augmented/COVID-19/COVID-19 (623).jpg 2020-03-26 12:00:02        73205\n",
            "Dataset All Augmented/COVID-19/COVID-19 (624).jpg 2020-03-26 12:00:02        73380\n",
            "Dataset All Augmented/COVID-19/COVID-19 (625).jpg 2020-03-26 12:00:02        72526\n",
            "Dataset All Augmented/COVID-19/COVID-19 (626).jpg 2020-03-26 12:00:02        72809\n",
            "Dataset All Augmented/COVID-19/COVID-19 (627).jpg 2020-03-26 12:00:02        68520\n",
            "Dataset All Augmented/COVID-19/COVID-19 (628).jpg 2020-03-26 12:00:02        70075\n",
            "Dataset All Augmented/COVID-19/COVID-19 (629).jpg 2020-03-26 12:00:02        65542\n",
            "Dataset All Augmented/COVID-19/COVID-19 (63).jpg 2020-03-26 11:59:58        52412\n",
            "Dataset All Augmented/COVID-19/COVID-19 (630).jpg 2020-03-26 12:00:02        65572\n",
            "Dataset All Augmented/COVID-19/COVID-19 (631).jpg 2020-03-26 12:00:02        47028\n",
            "Dataset All Augmented/COVID-19/COVID-19 (632).jpg 2020-03-26 12:00:02        65464\n",
            "Dataset All Augmented/COVID-19/COVID-19 (633).jpg 2020-03-26 12:00:02        48550\n",
            "Dataset All Augmented/COVID-19/COVID-19 (634).jpg 2020-03-26 12:00:02        47028\n",
            "Dataset All Augmented/COVID-19/COVID-19 (635).jpg 2020-03-26 12:00:02        46983\n",
            "Dataset All Augmented/COVID-19/COVID-19 (636).jpg 2020-03-26 12:00:02        55814\n",
            "Dataset All Augmented/COVID-19/COVID-19 (637).jpg 2020-03-26 12:00:02        55999\n",
            "Dataset All Augmented/COVID-19/COVID-19 (638).jpg 2020-03-26 12:00:02        55599\n",
            "Dataset All Augmented/COVID-19/COVID-19 (639).jpg 2020-03-26 12:00:02        55138\n",
            "Dataset All Augmented/COVID-19/COVID-19 (64).jpg 2020-03-26 11:59:58        51444\n",
            "Dataset All Augmented/COVID-19/COVID-19 (640).jpg 2020-03-26 12:00:02        55266\n",
            "Dataset All Augmented/COVID-19/COVID-19 (641).jpg 2020-03-26 12:00:04        51549\n",
            "Dataset All Augmented/COVID-19/COVID-19 (642).jpg 2020-03-26 12:00:04        54743\n",
            "Dataset All Augmented/COVID-19/COVID-19 (643).jpg 2020-03-26 12:00:04        51082\n",
            "Dataset All Augmented/COVID-19/COVID-19 (644).jpg 2020-03-26 12:00:04        55056\n",
            "Dataset All Augmented/COVID-19/COVID-19 (645).jpg 2020-03-26 12:00:04        48833\n",
            "Dataset All Augmented/COVID-19/COVID-19 (646).jpg 2020-03-26 12:00:04        48219\n",
            "Dataset All Augmented/COVID-19/COVID-19 (647).jpg 2020-03-26 12:00:04        49854\n",
            "Dataset All Augmented/COVID-19/COVID-19 (648).jpg 2020-03-26 12:00:04        44608\n",
            "Dataset All Augmented/COVID-19/COVID-19 (649).jpg 2020-03-26 12:00:04        57828\n",
            "Dataset All Augmented/COVID-19/COVID-19 (65).jpg 2020-03-26 11:59:58        52144\n",
            "Dataset All Augmented/COVID-19/COVID-19 (650).jpg 2020-03-26 12:00:04        49355\n",
            "Dataset All Augmented/COVID-19/COVID-19 (651).jpg 2020-03-26 12:00:04        46205\n",
            "Dataset All Augmented/COVID-19/COVID-19 (652).jpg 2020-03-26 12:00:04        55894\n",
            "Dataset All Augmented/COVID-19/COVID-19 (653).jpg 2020-03-26 12:00:04        53709\n",
            "Dataset All Augmented/COVID-19/COVID-19 (654).jpg 2020-03-26 12:00:04        37983\n",
            "Dataset All Augmented/COVID-19/COVID-19 (655).jpg 2020-03-26 12:00:04        38421\n",
            "Dataset All Augmented/COVID-19/COVID-19 (656).jpg 2020-03-26 12:00:04        37789\n",
            "Dataset All Augmented/COVID-19/COVID-19 (657).jpg 2020-03-26 12:00:04        38146\n",
            "Dataset All Augmented/COVID-19/COVID-19 (658).jpg 2020-03-26 12:00:04        37800\n",
            "Dataset All Augmented/COVID-19/COVID-19 (659).jpg 2020-03-26 12:00:04        38786\n",
            "Dataset All Augmented/COVID-19/COVID-19 (66).jpg 2020-03-26 12:00:00        52545\n",
            "Dataset All Augmented/COVID-19/COVID-19 (660).jpg 2020-03-26 12:00:04        37987\n",
            "Dataset All Augmented/COVID-19/COVID-19 (661).jpg 2020-03-26 12:00:04        38468\n",
            "Dataset All Augmented/COVID-19/COVID-19 (662).jpg 2020-03-26 12:00:04        37737\n",
            "Dataset All Augmented/COVID-19/COVID-19 (663).jpg 2020-03-26 12:00:04        38087\n",
            "Dataset All Augmented/COVID-19/COVID-19 (664).jpg 2020-03-26 12:00:04        37647\n",
            "Dataset All Augmented/COVID-19/COVID-19 (665).jpg 2020-03-26 12:00:04        36825\n",
            "Dataset All Augmented/COVID-19/COVID-19 (666).jpg 2020-03-26 12:00:04        37006\n",
            "Dataset All Augmented/COVID-19/COVID-19 (667).jpg 2020-03-26 12:00:04        34809\n",
            "Dataset All Augmented/COVID-19/COVID-19 (668).jpg 2020-03-26 12:00:06        34846\n",
            "Dataset All Augmented/COVID-19/COVID-19 (669).jpg 2020-03-26 12:00:06        33814\n",
            "Dataset All Augmented/COVID-19/COVID-19 (67).jpg 2020-03-26 12:00:02        51427\n",
            "Dataset All Augmented/COVID-19/COVID-19 (670).jpg 2020-03-26 12:00:06        41432\n",
            "Dataset All Augmented/COVID-19/COVID-19 (671).jpg 2020-03-26 12:00:06        34114\n",
            "Dataset All Augmented/COVID-19/COVID-19 (672).jpg 2020-03-26 12:00:06        54665\n",
            "Dataset All Augmented/COVID-19/COVID-19 (673).jpg 2020-03-26 12:00:06        54403\n",
            "Dataset All Augmented/COVID-19/COVID-19 (674).jpg 2020-03-26 12:00:06        54482\n",
            "Dataset All Augmented/COVID-19/COVID-19 (675).jpg 2020-03-26 12:00:06        54712\n",
            "Dataset All Augmented/COVID-19/COVID-19 (676).jpg 2020-03-26 12:00:06        54021\n",
            "Dataset All Augmented/COVID-19/COVID-19 (677).jpg 2020-03-26 12:00:06        54833\n",
            "Dataset All Augmented/COVID-19/COVID-19 (678).jpg 2020-03-26 12:00:06        53938\n",
            "Dataset All Augmented/COVID-19/COVID-19 (679).jpg 2020-03-26 12:00:06        54774\n",
            "Dataset All Augmented/COVID-19/COVID-19 (68).jpg 2020-03-26 12:00:02        51857\n",
            "Dataset All Augmented/COVID-19/COVID-19 (680).jpg 2020-03-26 12:00:06        54124\n",
            "Dataset All Augmented/COVID-19/COVID-19 (681).jpg 2020-03-26 12:00:06        52940\n",
            "Dataset All Augmented/COVID-19/COVID-19 (682).jpg 2020-03-26 12:00:06        51788\n",
            "Dataset All Augmented/COVID-19/COVID-19 (683).jpg 2020-03-26 12:00:06        51204\n",
            "Dataset All Augmented/COVID-19/COVID-19 (684).jpg 2020-03-26 12:00:06        51166\n",
            "Dataset All Augmented/COVID-19/COVID-19 (685).jpg 2020-03-26 12:00:06        44470\n",
            "Dataset All Augmented/COVID-19/COVID-19 (686).jpg 2020-03-26 12:00:06        43892\n",
            "Dataset All Augmented/COVID-19/COVID-19 (687).jpg 2020-03-26 12:00:06        46116\n",
            "Dataset All Augmented/COVID-19/COVID-19 (688).jpg 2020-03-26 12:00:06        47333\n",
            "Dataset All Augmented/COVID-19/COVID-19 (689).jpg 2020-03-26 12:00:06        45764\n",
            "Dataset All Augmented/COVID-19/COVID-19 (69).jpg 2020-03-26 12:00:04        49712\n",
            "Dataset All Augmented/COVID-19/COVID-19 (690).jpg 2020-03-26 12:00:06        65923\n",
            "Dataset All Augmented/COVID-19/COVID-19 (691).jpg 2020-03-26 12:00:06        65936\n",
            "Dataset All Augmented/COVID-19/COVID-19 (692).jpg 2020-03-26 12:00:06        65655\n",
            "Dataset All Augmented/COVID-19/COVID-19 (693).jpg 2020-03-26 12:00:06        65603\n",
            "Dataset All Augmented/COVID-19/COVID-19 (694).jpg 2020-03-26 12:00:08        64900\n",
            "Dataset All Augmented/COVID-19/COVID-19 (695).jpg 2020-03-26 12:00:08        61969\n",
            "Dataset All Augmented/COVID-19/COVID-19 (696).jpg 2020-03-26 12:00:08        65015\n",
            "Dataset All Augmented/COVID-19/COVID-19 (697).jpg 2020-03-26 12:00:08        61835\n",
            "Dataset All Augmented/COVID-19/COVID-19 (698).jpg 2020-03-26 12:00:08        64777\n",
            "Dataset All Augmented/COVID-19/COVID-19 (699).jpg 2020-03-26 12:00:08        60483\n",
            "Dataset All Augmented/COVID-19/COVID-19 (7).jpeg 2020-03-26 11:59:38        53109\n",
            "Dataset All Augmented/COVID-19/COVID-19 (7).jpg 2020-03-26 11:59:32        38047\n",
            "Dataset All Augmented/COVID-19/COVID-19 (70).jpg 2020-03-26 12:00:04        47475\n",
            "Dataset All Augmented/COVID-19/COVID-19 (700).jpg 2020-03-26 12:00:08        59822\n",
            "Dataset All Augmented/COVID-19/COVID-19 (701).jpg 2020-03-26 12:00:08        59368\n",
            "Dataset All Augmented/COVID-19/COVID-19 (702).jpg 2020-03-26 12:00:08        57020\n",
            "Dataset All Augmented/COVID-19/COVID-19 (703).jpg 2020-03-26 12:00:08        48652\n",
            "Dataset All Augmented/COVID-19/COVID-19 (704).jpg 2020-03-26 12:00:08        59531\n",
            "Dataset All Augmented/COVID-19/COVID-19 (705).jpg 2020-03-26 12:00:08        56543\n",
            "Dataset All Augmented/COVID-19/COVID-19 (706).jpg 2020-03-26 12:00:08        48900\n",
            "Dataset All Augmented/COVID-19/COVID-19 (707).jpg 2020-03-26 12:00:08        56121\n",
            "Dataset All Augmented/COVID-19/COVID-19 (708).jpg 2020-03-26 12:00:08        59443\n",
            "Dataset All Augmented/COVID-19/COVID-19 (709).jpg 2020-03-26 12:00:08        58707\n",
            "Dataset All Augmented/COVID-19/COVID-19 (71).jpg 2020-03-26 12:00:04        50013\n",
            "Dataset All Augmented/COVID-19/COVID-19 (710).jpg 2020-03-26 12:00:08        59136\n",
            "Dataset All Augmented/COVID-19/COVID-19 (711).jpg 2020-03-26 12:00:08        59144\n",
            "Dataset All Augmented/COVID-19/COVID-19 (712).jpg 2020-03-26 12:00:08        58479\n",
            "Dataset All Augmented/COVID-19/COVID-19 (713).jpg 2020-03-26 12:00:08        56297\n",
            "Dataset All Augmented/COVID-19/COVID-19 (714).jpg 2020-03-26 12:00:08        58633\n",
            "Dataset All Augmented/COVID-19/COVID-19 (715).jpg 2020-03-26 12:00:08        56111\n",
            "Dataset All Augmented/COVID-19/COVID-19 (716).jpg 2020-03-26 12:00:08        58422\n",
            "Dataset All Augmented/COVID-19/COVID-19 (717).jpg 2020-03-26 12:00:08        54927\n",
            "Dataset All Augmented/COVID-19/COVID-19 (718).jpg 2020-03-26 12:00:08        54259\n",
            "Dataset All Augmented/COVID-19/COVID-19 (719).jpg 2020-03-26 12:00:08        53548\n",
            "Dataset All Augmented/COVID-19/COVID-19 (72).jpg 2020-03-26 12:00:06        50655\n",
            "Dataset All Augmented/COVID-19/COVID-19 (720).jpg 2020-03-26 12:00:08        54558\n",
            "Dataset All Augmented/COVID-19/COVID-19 (721).jpg 2020-03-26 12:00:08        56523\n",
            "Dataset All Augmented/COVID-19/COVID-19 (722).jpg 2020-03-26 12:00:08        49596\n",
            "Dataset All Augmented/COVID-19/COVID-19 (723).jpg 2020-03-26 12:00:08        62192\n",
            "Dataset All Augmented/COVID-19/COVID-19 (724).jpg 2020-03-26 12:00:08        46322\n",
            "Dataset All Augmented/COVID-19/COVID-19 (725).jpg 2020-03-26 12:00:08        46763\n",
            "Dataset All Augmented/COVID-19/COVID-19 (726).jpg 2020-03-26 12:00:08        59573\n",
            "Dataset All Augmented/COVID-19/COVID-19 (727).jpg 2020-03-26 12:00:08        59295\n",
            "Dataset All Augmented/COVID-19/COVID-19 (728).jpg 2020-03-26 12:00:08        58995\n",
            "Dataset All Augmented/COVID-19/COVID-19 (729).jpg 2020-03-26 12:00:08        58995\n",
            "Dataset All Augmented/COVID-19/COVID-19 (73).jpg 2020-03-26 12:00:06        52096\n",
            "Dataset All Augmented/COVID-19/COVID-19 (730).jpg 2020-03-26 12:00:08        58606\n",
            "Dataset All Augmented/COVID-19/COVID-19 (731).jpg 2020-03-26 12:00:10        60057\n",
            "Dataset All Augmented/COVID-19/COVID-19 (732).jpg 2020-03-26 12:00:10        59284\n",
            "Dataset All Augmented/COVID-19/COVID-19 (733).jpg 2020-03-26 12:00:10        59756\n",
            "Dataset All Augmented/COVID-19/COVID-19 (734).jpg 2020-03-26 12:00:10        58871\n",
            "Dataset All Augmented/COVID-19/COVID-19 (735).jpg 2020-03-26 12:00:10        58039\n",
            "Dataset All Augmented/COVID-19/COVID-19 (736).jpg 2020-03-26 12:00:10        57594\n",
            "Dataset All Augmented/COVID-19/COVID-19 (737).jpg 2020-03-26 12:00:10        56535\n",
            "Dataset All Augmented/COVID-19/COVID-19 (738).jpg 2020-03-26 12:00:10        55784\n",
            "Dataset All Augmented/COVID-19/COVID-19 (739).jpg 2020-03-26 12:00:10        46005\n",
            "Dataset All Augmented/COVID-19/COVID-19 (74).jpg 2020-03-26 12:00:08        52821\n",
            "Dataset All Augmented/COVID-19/COVID-19 (740).jpg 2020-03-26 12:00:10        45751\n",
            "Dataset All Augmented/COVID-19/COVID-19 (741).jpg 2020-03-26 12:00:10        46126\n",
            "Dataset All Augmented/COVID-19/COVID-19 (742).jpg 2020-03-26 12:00:10        46718\n",
            "Dataset All Augmented/COVID-19/COVID-19 (743).jpg 2020-03-26 12:00:10        51884\n",
            "Dataset All Augmented/COVID-19/COVID-19 (744).jpg 2020-03-26 12:00:10        59637\n",
            "Dataset All Augmented/COVID-19/COVID-19 (745).jpg 2020-03-26 12:00:10        59468\n",
            "Dataset All Augmented/COVID-19/COVID-19 (746).jpg 2020-03-26 12:00:10        59204\n",
            "Dataset All Augmented/COVID-19/COVID-19 (747).jpg 2020-03-26 12:00:10        59037\n",
            "Dataset All Augmented/COVID-19/COVID-19 (748).jpg 2020-03-26 12:00:10        58647\n",
            "Dataset All Augmented/COVID-19/COVID-19 (749).jpg 2020-03-26 12:00:10        56164\n",
            "Dataset All Augmented/COVID-19/COVID-19 (75).jpg 2020-03-26 12:00:08        52096\n",
            "Dataset All Augmented/COVID-19/COVID-19 (750).jpg 2020-03-26 12:00:10        58686\n",
            "Dataset All Augmented/COVID-19/COVID-19 (751).jpg 2020-03-26 12:00:10        55622\n",
            "Dataset All Augmented/COVID-19/COVID-19 (752).jpg 2020-03-26 12:00:10        58391\n",
            "Dataset All Augmented/COVID-19/COVID-19 (753).jpg 2020-03-26 12:00:10        54985\n",
            "Dataset All Augmented/COVID-19/COVID-19 (754).jpg 2020-03-26 12:00:10        53891\n",
            "Dataset All Augmented/COVID-19/COVID-19 (755).jpg 2020-03-26 12:00:10        53739\n",
            "Dataset All Augmented/COVID-19/COVID-19 (756).jpg 2020-03-26 12:00:10        52669\n",
            "Dataset All Augmented/COVID-19/COVID-19 (757).jpg 2020-03-26 12:00:10        47770\n",
            "Dataset All Augmented/COVID-19/COVID-19 (758).jpg 2020-03-26 12:00:10        49572\n",
            "Dataset All Augmented/COVID-19/COVID-19 (759).jpg 2020-03-26 12:00:10        46989\n",
            "Dataset All Augmented/COVID-19/COVID-19 (76).jpg 2020-03-26 12:00:08        53383\n",
            "Dataset All Augmented/COVID-19/COVID-19 (760).jpg 2020-03-26 12:00:12        45377\n",
            "Dataset All Augmented/COVID-19/COVID-19 (761).jpg 2020-03-26 12:00:12        47561\n",
            "Dataset All Augmented/COVID-19/COVID-19 (762).jpg 2020-03-26 12:00:12        55595\n",
            "Dataset All Augmented/COVID-19/COVID-19 (763).jpg 2020-03-26 12:00:12        55526\n",
            "Dataset All Augmented/COVID-19/COVID-19 (764).jpg 2020-03-26 12:00:12        55679\n",
            "Dataset All Augmented/COVID-19/COVID-19 (765).jpg 2020-03-26 12:00:12        55720\n",
            "Dataset All Augmented/COVID-19/COVID-19 (766).jpg 2020-03-26 12:00:12        55439\n",
            "Dataset All Augmented/COVID-19/COVID-19 (767).jpg 2020-03-26 12:00:12        55560\n",
            "Dataset All Augmented/COVID-19/COVID-19 (768).jpg 2020-03-26 12:00:12        55110\n",
            "Dataset All Augmented/COVID-19/COVID-19 (769).jpg 2020-03-26 12:00:12        55826\n",
            "Dataset All Augmented/COVID-19/COVID-19 (77).jpg 2020-03-26 12:00:08        40482\n",
            "Dataset All Augmented/COVID-19/COVID-19 (770).jpg 2020-03-26 12:00:12        55482\n",
            "Dataset All Augmented/COVID-19/COVID-19 (771).jpg 2020-03-26 12:00:12        50976\n",
            "Dataset All Augmented/COVID-19/COVID-19 (772).jpg 2020-03-26 12:00:12        49942\n",
            "Dataset All Augmented/COVID-19/COVID-19 (773).jpg 2020-03-26 12:00:12        53204\n",
            "Dataset All Augmented/COVID-19/COVID-19 (774).jpg 2020-03-26 12:00:12        50889\n",
            "Dataset All Augmented/COVID-19/COVID-19 (775).jpg 2020-03-26 12:00:12        44994\n",
            "Dataset All Augmented/COVID-19/COVID-19 (776).jpg 2020-03-26 12:00:12        51737\n",
            "Dataset All Augmented/COVID-19/COVID-19 (777).jpg 2020-03-26 12:00:12        50124\n",
            "Dataset All Augmented/COVID-19/COVID-19 (778).jpg 2020-03-26 12:00:12        48587\n",
            "Dataset All Augmented/COVID-19/COVID-19 (779).jpg 2020-03-26 12:00:12        49245\n",
            "Dataset All Augmented/COVID-19/COVID-19 (78).jpg 2020-03-26 12:00:10        56480\n",
            "Dataset All Augmented/COVID-19/COVID-19 (780).jpg 2020-03-26 12:00:12        61706\n",
            "Dataset All Augmented/COVID-19/COVID-19 (781).jpg 2020-03-26 12:00:12        61787\n",
            "Dataset All Augmented/COVID-19/COVID-19 (782).jpg 2020-03-26 12:00:12        61716\n",
            "Dataset All Augmented/COVID-19/COVID-19 (783).jpg 2020-03-26 12:00:12        61684\n",
            "Dataset All Augmented/COVID-19/COVID-19 (784).jpg 2020-03-26 12:00:12        61580\n",
            "Dataset All Augmented/COVID-19/COVID-19 (785).jpg 2020-03-26 12:00:12        62217\n",
            "Dataset All Augmented/COVID-19/COVID-19 (786).jpg 2020-03-26 12:00:12        61696\n",
            "Dataset All Augmented/COVID-19/COVID-19 (787).jpg 2020-03-26 12:00:12        61896\n",
            "Dataset All Augmented/COVID-19/COVID-19 (788).jpg 2020-03-26 12:00:12        61587\n",
            "Dataset All Augmented/COVID-19/COVID-19 (789).jpg 2020-03-26 12:00:12        60493\n",
            "Dataset All Augmented/COVID-19/COVID-19 (79).jpg 2020-03-26 12:00:10        56396\n",
            "Dataset All Augmented/COVID-19/COVID-19 (790).jpg 2020-03-26 12:00:12        60914\n",
            "Dataset All Augmented/COVID-19/COVID-19 (791).jpg 2020-03-26 12:00:12        61277\n",
            "Dataset All Augmented/COVID-19/COVID-19 (792).jpg 2020-03-26 12:00:12        61810\n",
            "Dataset All Augmented/COVID-19/COVID-19 (793).jpg 2020-03-26 12:00:12        54267\n",
            "Dataset All Augmented/COVID-19/COVID-19 (794).jpg 2020-03-26 12:00:12        60693\n",
            "Dataset All Augmented/COVID-19/COVID-19 (795).jpg 2020-03-26 12:00:14        54453\n",
            "Dataset All Augmented/COVID-19/COVID-19 (796).jpg 2020-03-26 12:00:14        48312\n",
            "Dataset All Augmented/COVID-19/COVID-19 (797).jpg 2020-03-26 12:00:14        48563\n",
            "Dataset All Augmented/COVID-19/COVID-19 (798).jpg 2020-03-26 12:00:14        60503\n",
            "Dataset All Augmented/COVID-19/COVID-19 (799).jpg 2020-03-26 12:00:14        60448\n",
            "Dataset All Augmented/COVID-19/COVID-19 (8).jpeg 2020-03-26 12:00:08        50350\n",
            "Dataset All Augmented/COVID-19/COVID-19 (8).jpg 2020-03-26 11:59:40        38157\n",
            "Dataset All Augmented/COVID-19/COVID-19 (80).jpg 2020-03-26 12:00:10        55661\n",
            "Dataset All Augmented/COVID-19/COVID-19 (800).jpg 2020-03-26 12:00:14        60063\n",
            "Dataset All Augmented/COVID-19/COVID-19 (801).jpg 2020-03-26 12:00:14        59955\n",
            "Dataset All Augmented/COVID-19/COVID-19 (802).jpg 2020-03-26 12:00:14        59772\n",
            "Dataset All Augmented/COVID-19/COVID-19 (803).jpg 2020-03-26 12:00:14        60968\n",
            "Dataset All Augmented/COVID-19/COVID-19 (804).jpg 2020-03-26 12:00:14        60154\n",
            "Dataset All Augmented/COVID-19/COVID-19 (805).jpg 2020-03-26 12:00:14        60512\n",
            "Dataset All Augmented/COVID-19/COVID-19 (806).jpg 2020-03-26 12:00:14        59651\n",
            "Dataset All Augmented/COVID-19/COVID-19 (807).jpg 2020-03-26 12:00:14        57103\n",
            "Dataset All Augmented/COVID-19/COVID-19 (808).jpg 2020-03-26 12:00:14        57033\n",
            "Dataset All Augmented/COVID-19/COVID-19 (809).jpg 2020-03-26 12:00:14        57431\n",
            "Dataset All Augmented/COVID-19/COVID-19 (81).jpg 2020-03-26 12:00:12        55720\n",
            "Dataset All Augmented/COVID-19/COVID-19 (810).jpg 2020-03-26 12:00:14        56104\n",
            "Dataset All Augmented/COVID-19/COVID-19 (811).jpg 2020-03-26 12:00:14        54492\n",
            "Dataset All Augmented/COVID-19/COVID-19 (812).jpg 2020-03-26 12:00:14        54274\n",
            "Dataset All Augmented/COVID-19/COVID-19 (813).jpg 2020-03-26 12:00:14        53481\n",
            "Dataset All Augmented/COVID-19/COVID-19 (814).jpg 2020-03-26 12:00:14        53124\n",
            "Dataset All Augmented/COVID-19/COVID-19 (815).jpg 2020-03-26 12:00:14        49890\n",
            "Dataset All Augmented/COVID-19/COVID-19 (816).jpg 2020-03-26 12:00:14        37297\n",
            "Dataset All Augmented/COVID-19/COVID-19 (817).jpg 2020-03-26 12:00:14        37205\n",
            "Dataset All Augmented/COVID-19/COVID-19 (818).jpg 2020-03-26 12:00:14        37731\n",
            "Dataset All Augmented/COVID-19/COVID-19 (819).jpg 2020-03-26 12:00:14        37860\n",
            "Dataset All Augmented/COVID-19/COVID-19 (82).jpg 2020-03-26 12:00:12        54733\n",
            "Dataset All Augmented/COVID-19/COVID-19 (820).jpg 2020-03-26 12:00:14        37405\n",
            "Dataset All Augmented/COVID-19/COVID-19 (821).jpg 2020-03-26 12:00:14        37384\n",
            "Dataset All Augmented/COVID-19/COVID-19 (822).jpg 2020-03-26 12:00:14        36847\n",
            "Dataset All Augmented/COVID-19/COVID-19 (823).jpg 2020-03-26 12:00:16        37756\n",
            "Dataset All Augmented/COVID-19/COVID-19 (824).jpg 2020-03-26 12:00:16        37392\n",
            "Dataset All Augmented/COVID-19/COVID-19 (825).jpg 2020-03-26 12:00:16        35321\n",
            "Dataset All Augmented/COVID-19/COVID-19 (826).jpg 2020-03-26 12:00:16        35237\n",
            "Dataset All Augmented/COVID-19/COVID-19 (827).jpg 2020-03-26 12:00:16        36612\n",
            "Dataset All Augmented/COVID-19/COVID-19 (828).jpg 2020-03-26 12:00:16        34850\n",
            "Dataset All Augmented/COVID-19/COVID-19 (829).jpg 2020-03-26 12:00:16        38163\n",
            "Dataset All Augmented/COVID-19/COVID-19 (83).jpg 2020-03-26 12:00:12        54579\n",
            "Dataset All Augmented/COVID-19/COVID-19 (830).jpg 2020-03-26 12:00:16        41714\n",
            "Dataset All Augmented/COVID-19/COVID-19 (831).jpg 2020-03-26 12:00:16        41664\n",
            "Dataset All Augmented/COVID-19/COVID-19 (832).jpg 2020-03-26 12:00:16        37681\n",
            "Dataset All Augmented/COVID-19/COVID-19 (833).jpg 2020-03-26 12:00:16        38028\n",
            "Dataset All Augmented/COVID-19/COVID-19 (834).jpg 2020-03-26 12:00:16        49158\n",
            "Dataset All Augmented/COVID-19/COVID-19 (835).jpg 2020-03-26 12:00:16        49022\n",
            "Dataset All Augmented/COVID-19/COVID-19 (836).jpg 2020-03-26 12:00:16        48628\n",
            "Dataset All Augmented/COVID-19/COVID-19 (837).jpg 2020-03-26 12:00:16        48631\n",
            "Dataset All Augmented/COVID-19/COVID-19 (838).jpg 2020-03-26 12:00:16        48232\n",
            "Dataset All Augmented/COVID-19/COVID-19 (839).jpg 2020-03-26 12:00:16        48727\n",
            "Dataset All Augmented/COVID-19/COVID-19 (84).jpg 2020-03-26 12:00:12        55733\n",
            "Dataset All Augmented/COVID-19/COVID-19 (840).jpg 2020-03-26 12:00:16        48528\n",
            "Dataset All Augmented/COVID-19/COVID-19 (841).jpg 2020-03-26 12:00:16        48443\n",
            "Dataset All Augmented/COVID-19/COVID-19 (842).jpg 2020-03-26 12:00:16        48254\n",
            "Dataset All Augmented/COVID-19/COVID-19 (843).jpg 2020-03-26 12:00:16        44440\n",
            "Dataset All Augmented/COVID-19/COVID-19 (844).jpg 2020-03-26 12:00:16        45380\n",
            "Dataset All Augmented/COVID-19/COVID-19 (845).jpg 2020-03-26 12:00:16        47266\n",
            "Dataset All Augmented/COVID-19/COVID-19 (846).jpg 2020-03-26 12:00:16        43317\n",
            "Dataset All Augmented/COVID-19/COVID-19 (847).jpg 2020-03-26 12:00:16        47914\n",
            "Dataset All Augmented/COVID-19/COVID-19 (848).jpg 2020-03-26 12:00:16        40797\n",
            "Dataset All Augmented/COVID-19/COVID-19 (849).jpg 2020-03-26 12:00:16        48191\n",
            "Dataset All Augmented/COVID-19/COVID-19 (85).jpg 2020-03-26 12:00:14        54404\n",
            "Dataset All Augmented/COVID-19/COVID-19 (850).jpg 2020-03-26 12:00:16        40373\n",
            "Dataset All Augmented/COVID-19/COVID-19 (851).jpg 2020-03-26 12:00:18        49695\n",
            "Dataset All Augmented/COVID-19/COVID-19 (852).jpg 2020-03-26 12:00:18        49631\n",
            "Dataset All Augmented/COVID-19/COVID-19 (853).jpg 2020-03-26 12:00:18        49551\n",
            "Dataset All Augmented/COVID-19/COVID-19 (854).jpg 2020-03-26 12:00:18        48927\n",
            "Dataset All Augmented/COVID-19/COVID-19 (855).jpg 2020-03-26 12:00:18        49030\n",
            "Dataset All Augmented/COVID-19/COVID-19 (856).jpg 2020-03-26 12:00:18        48487\n",
            "Dataset All Augmented/COVID-19/COVID-19 (857).jpg 2020-03-26 12:00:18        49484\n",
            "Dataset All Augmented/COVID-19/COVID-19 (858).jpg 2020-03-26 12:00:18        49235\n",
            "Dataset All Augmented/COVID-19/COVID-19 (859).jpg 2020-03-26 12:00:18        48921\n",
            "Dataset All Augmented/COVID-19/COVID-19 (86).jpg 2020-03-26 12:00:14        55006\n",
            "Dataset All Augmented/COVID-19/COVID-19 (860).jpg 2020-03-26 12:00:18        48650\n",
            "Dataset All Augmented/COVID-19/COVID-19 (861).jpg 2020-03-26 12:00:18        46232\n",
            "Dataset All Augmented/COVID-19/COVID-19 (862).jpg 2020-03-26 12:00:18        45439\n",
            "Dataset All Augmented/COVID-19/COVID-19 (863).jpg 2020-03-26 12:00:18        47528\n",
            "Dataset All Augmented/COVID-19/COVID-19 (864).jpg 2020-03-26 12:00:18        43030\n",
            "Dataset All Augmented/COVID-19/COVID-19 (865).jpg 2020-03-26 12:00:18        50938\n",
            "Dataset All Augmented/COVID-19/COVID-19 (866).jpg 2020-03-26 12:00:18        47500\n",
            "Dataset All Augmented/COVID-19/COVID-19 (867).jpg 2020-03-26 12:00:18        40663\n",
            "Dataset All Augmented/COVID-19/COVID-19 (868).jpg 2020-03-26 12:00:18        52176\n",
            "Dataset All Augmented/COVID-19/COVID-19 (869).jpg 2020-03-26 12:00:18        45617\n",
            "Dataset All Augmented/COVID-19/COVID-19 (87).jpg 2020-03-26 12:00:16        52456\n",
            "Dataset All Augmented/COVID-19/COVID-19 (870).jpg 2020-03-26 12:00:22        38979\n",
            "Dataset All Augmented/COVID-19/COVID-19 (871).jpg 2020-03-26 12:00:22        46943\n",
            "Dataset All Augmented/COVID-19/COVID-19 (872).jpg 2020-03-26 12:00:20        62968\n",
            "Dataset All Augmented/COVID-19/COVID-19 (873).jpg 2020-03-26 12:00:22        41695\n",
            "Dataset All Augmented/COVID-19/COVID-19 (874).jpg 2020-03-26 12:00:22        45973\n",
            "Dataset All Augmented/COVID-19/COVID-19 (875).jpg 2020-03-26 12:00:22        53736\n",
            "Dataset All Augmented/COVID-19/COVID-19 (876).jpg 2020-03-26 12:00:22        58078\n",
            "Dataset All Augmented/COVID-19/COVID-19 (877).jpg 2020-03-26 12:00:22        49007\n",
            "Dataset All Augmented/COVID-19/COVID-19 (878).jpg 2020-03-26 12:00:22        73531\n",
            "Dataset All Augmented/COVID-19/COVID-19 (88).jpg 2020-03-26 12:00:16        50773\n",
            "Dataset All Augmented/COVID-19/COVID-19 (89).jpg 2020-03-26 12:00:16        52640\n",
            "Dataset All Augmented/COVID-19/COVID-19 (9).jpeg 2020-03-26 12:00:14        40466\n",
            "Dataset All Augmented/COVID-19/COVID-19 (9).jpg 2020-03-26 11:59:46        38246\n",
            "Dataset All Augmented/COVID-19/COVID-19 (90).jpg 2020-03-26 12:00:18        53424\n",
            "Dataset All Augmented/COVID-19/COVID-19 (91).jpg 2020-03-26 12:00:18        41162\n",
            "Dataset All Augmented/COVID-19/COVID-19 (92).jpg 2020-03-26 12:00:18        50459\n",
            "Dataset All Augmented/COVID-19/COVID-19 (93).jpg 2020-03-26 12:00:18        40340\n",
            "Dataset All Augmented/COVID-19/COVID-19 (94).jpg 2020-03-26 12:00:18        49905\n",
            "Dataset All Augmented/COVID-19/COVID-19 (95).jpg 2020-03-26 12:00:18        56491\n",
            "Dataset All Augmented/COVID-19/COVID-19 (96).jpg 2020-03-26 12:00:18        42080\n",
            "Dataset All Augmented/COVID-19/COVID-19 (97).jpg 2020-03-26 12:00:18        42151\n",
            "Dataset All Augmented/COVID-19/COVID-19 (98).jpg 2020-03-26 12:00:18        41767\n",
            "Dataset All Augmented/COVID-19/COVID-19 (99).jpg 2020-03-26 12:00:18        41597\n",
            "Dataset All Augmented/Non-COVID-19/            2020-03-26 12:01:58            0\n",
            "Dataset All Augmented/Non-COVID-19/Non-COVID-19 (1).jpeg 2020-03-26 12:01:26        40765\n",
            "Dataset All Augmented/Non-COVID-19/Non-COVID-19 (1).jpg 2020-03-26 12:00:48        36569\n",
            "Dataset All Augmented/Non-COVID-19/Non-COVID-19 (10).jpeg 2020-03-26 12:01:28        48208\n",
            "Dataset All Augmented/Non-COVID-19/Non-COVID-19 (10).jpg 2020-03-26 12:00:54        41270\n",
            "Dataset All Augmented/Non-COVID-19/Non-COVID-19 (100).jpg 2020-03-26 12:00:28        51835\n",
            "Dataset All Augmented/Non-COVID-19/Non-COVID-19 (101).jpg 2020-03-26 12:00:28        41625\n",
            "Dataset All Augmented/Non-COVID-19/Non-COVID-19 (102).jpg 2020-03-26 12:00:28        40548\n",
            "Dataset All Augmented/Non-COVID-19/Non-COVID-19 (103).jpg 2020-03-26 12:00:28        43163\n",
            "Dataset All Augmented/Non-COVID-19/Non-COVID-19 (104).jpg 2020-03-26 12:00:28        43357\n",
            "Dataset All Augmented/Non-COVID-19/Non-COVID-19 (105).jpg 2020-03-26 12:00:28        46309\n",
            "Dataset All Augmented/Non-COVID-19/Non-COVID-19 (106).jpg 2020-03-26 12:00:28        51999\n",
            "Dataset All Augmented/Non-COVID-19/Non-COVID-19 (107).jpg 2020-03-26 12:00:28        45128\n",
            "Dataset All Augmented/Non-COVID-19/Non-COVID-19 (108).jpg 2020-03-26 12:00:28        54798\n",
            "Dataset All Augmented/Non-COVID-19/Non-COVID-19 (109).jpg 2020-03-26 12:00:28        44740\n",
            "Dataset All Augmented/Non-COVID-19/Non-COVID-19 (11).jpeg 2020-03-26 12:01:28        39708\n",
            "Dataset All Augmented/Non-COVID-19/Non-COVID-19 (11).jpg 2020-03-26 12:00:54        33969\n",
            "Dataset All Augmented/Non-COVID-19/Non-COVID-19 (110).jpg 2020-03-26 12:00:28        38768\n",
            "Dataset All Augmented/Non-COVID-19/Non-COVID-19 (111).jpg 2020-03-26 12:00:30        38761\n",
            "Dataset All Augmented/Non-COVID-19/Non-COVID-19 (112).jpg 2020-03-26 12:00:30        37929\n",
            "Dataset All Augmented/Non-COVID-19/Non-COVID-19 (113).jpg 2020-03-26 12:00:30        37932\n",
            "Dataset All Augmented/Non-COVID-19/Non-COVID-19 (114).jpg 2020-03-26 12:00:30        37939\n",
            "Dataset All Augmented/Non-COVID-19/Non-COVID-19 (115).jpg 2020-03-26 12:00:30        38736\n",
            "Dataset All Augmented/Non-COVID-19/Non-COVID-19 (116).jpg 2020-03-26 12:00:30        38844\n",
            "Dataset All Augmented/Non-COVID-19/Non-COVID-19 (117).jpg 2020-03-26 12:00:30        37758\n",
            "Dataset All Augmented/Non-COVID-19/Non-COVID-19 (118).jpg 2020-03-26 12:00:30        38058\n",
            "Dataset All Augmented/Non-COVID-19/Non-COVID-19 (119).jpg 2020-03-26 12:00:30        30036\n",
            "Dataset All Augmented/Non-COVID-19/Non-COVID-19 (12).jpeg 2020-03-26 12:01:28        38418\n",
            "Dataset All Augmented/Non-COVID-19/Non-COVID-19 (12).jpg 2020-03-26 12:00:56        35663\n",
            "Dataset All Augmented/Non-COVID-19/Non-COVID-19 (120).jpg 2020-03-26 12:00:30        32733\n",
            "Dataset All Augmented/Non-COVID-19/Non-COVID-19 (121).jpg 2020-03-26 12:00:30        35792\n",
            "Dataset All Augmented/Non-COVID-19/Non-COVID-19 (122).jpg 2020-03-26 12:00:30        32044\n",
            "Dataset All Augmented/Non-COVID-19/Non-COVID-19 (123).jpg 2020-03-26 12:00:30        43183\n",
            "Dataset All Augmented/Non-COVID-19/Non-COVID-19 (124).jpg 2020-03-26 12:00:30        36243\n",
            "Dataset All Augmented/Non-COVID-19/Non-COVID-19 (125).jpg 2020-03-26 12:00:30        36972\n",
            "Dataset All Augmented/Non-COVID-19/Non-COVID-19 (126).jpg 2020-03-26 12:00:30        37083\n",
            "Dataset All Augmented/Non-COVID-19/Non-COVID-19 (127).jpg 2020-03-26 12:00:30        37083\n",
            "Dataset All Augmented/Non-COVID-19/Non-COVID-19 (128).jpg 2020-03-26 12:00:30        48198\n",
            "Dataset All Augmented/Non-COVID-19/Non-COVID-19 (129).jpg 2020-03-26 12:00:30        48209\n",
            "Dataset All Augmented/Non-COVID-19/Non-COVID-19 (13).jpeg 2020-03-26 12:01:28        44718\n",
            "Dataset All Augmented/Non-COVID-19/Non-COVID-19 (13).jpg 2020-03-26 12:00:56        36962\n",
            "Dataset All Augmented/Non-COVID-19/Non-COVID-19 (130).jpg 2020-03-26 12:00:30        47369\n",
            "Dataset All Augmented/Non-COVID-19/Non-COVID-19 (131).jpg 2020-03-26 12:00:30        47371\n",
            "Dataset All Augmented/Non-COVID-19/Non-COVID-19 (132).jpg 2020-03-26 12:00:30        47359\n",
            "Dataset All Augmented/Non-COVID-19/Non-COVID-19 (133).jpg 2020-03-26 12:00:30        48099\n",
            "Dataset All Augmented/Non-COVID-19/Non-COVID-19 (134).jpg 2020-03-26 12:00:30        48258\n",
            "Dataset All Augmented/Non-COVID-19/Non-COVID-19 (135).jpg 2020-03-26 12:00:30        46998\n",
            "Dataset All Augmented/Non-COVID-19/Non-COVID-19 (136).jpg 2020-03-26 12:00:30        47395\n",
            "Dataset All Augmented/Non-COVID-19/Non-COVID-19 (137).jpg 2020-03-26 12:00:30        38558\n",
            "Dataset All Augmented/Non-COVID-19/Non-COVID-19 (138).jpg 2020-03-26 12:00:30        38209\n",
            "Dataset All Augmented/Non-COVID-19/Non-COVID-19 (139).jpg 2020-03-26 12:00:30        42197\n",
            "Dataset All Augmented/Non-COVID-19/Non-COVID-19 (14).jpeg 2020-03-26 12:01:28        48439\n",
            "Dataset All Augmented/Non-COVID-19/Non-COVID-19 (14).jpg 2020-03-26 12:00:56        35678\n",
            "Dataset All Augmented/Non-COVID-19/Non-COVID-19 (140).jpg 2020-03-26 12:00:30        39519\n",
            "Dataset All Augmented/Non-COVID-19/Non-COVID-19 (141).jpg 2020-03-26 12:00:30        45865\n",
            "Dataset All Augmented/Non-COVID-19/Non-COVID-19 (142).jpg 2020-03-26 12:00:30        45330\n",
            "Dataset All Augmented/Non-COVID-19/Non-COVID-19 (143).jpg 2020-03-26 12:00:32        46578\n",
            "Dataset All Augmented/Non-COVID-19/Non-COVID-19 (144).jpg 2020-03-26 12:00:32        44783\n",
            "Dataset All Augmented/Non-COVID-19/Non-COVID-19 (145).jpg 2020-03-26 12:00:32        47066\n",
            "Dataset All Augmented/Non-COVID-19/Non-COVID-19 (146).jpg 2020-03-26 12:00:32        39702\n",
            "Dataset All Augmented/Non-COVID-19/Non-COVID-19 (147).jpg 2020-03-26 12:00:32        39706\n",
            "Dataset All Augmented/Non-COVID-19/Non-COVID-19 (148).jpg 2020-03-26 12:00:32        39062\n",
            "Dataset All Augmented/Non-COVID-19/Non-COVID-19 (149).jpg 2020-03-26 12:00:32        39054\n",
            "Dataset All Augmented/Non-COVID-19/Non-COVID-19 (15).jpeg 2020-03-26 12:01:28        49183\n",
            "Dataset All Augmented/Non-COVID-19/Non-COVID-19 (15).jpg 2020-03-26 12:00:58        41000\n",
            "Dataset All Augmented/Non-COVID-19/Non-COVID-19 (150).jpg 2020-03-26 12:00:32        39059\n",
            "Dataset All Augmented/Non-COVID-19/Non-COVID-19 (151).jpg 2020-03-26 12:00:32        39673\n",
            "Dataset All Augmented/Non-COVID-19/Non-COVID-19 (152).jpg 2020-03-26 12:00:32        39763\n",
            "Dataset All Augmented/Non-COVID-19/Non-COVID-19 (153).jpg 2020-03-26 12:00:32        38909\n",
            "Dataset All Augmented/Non-COVID-19/Non-COVID-19 (154).jpg 2020-03-26 12:00:32        39163\n",
            "Dataset All Augmented/Non-COVID-19/Non-COVID-19 (155).jpg 2020-03-26 12:00:32        32960\n",
            "Dataset All Augmented/Non-COVID-19/Non-COVID-19 (156).jpg 2020-03-26 12:00:32        32757\n",
            "Dataset All Augmented/Non-COVID-19/Non-COVID-19 (157).jpg 2020-03-26 12:00:32        35428\n",
            "Dataset All Augmented/Non-COVID-19/Non-COVID-19 (158).jpg 2020-03-26 12:00:32        33889\n",
            "Dataset All Augmented/Non-COVID-19/Non-COVID-19 (159).jpg 2020-03-26 12:00:32        39309\n",
            "Dataset All Augmented/Non-COVID-19/Non-COVID-19 (16).jpeg 2020-03-26 12:01:28        51098\n",
            "Dataset All Augmented/Non-COVID-19/Non-COVID-19 (16).jpg 2020-03-26 12:01:00        40921\n",
            "Dataset All Augmented/Non-COVID-19/Non-COVID-19 (160).jpg 2020-03-26 12:00:32        38122\n",
            "Dataset All Augmented/Non-COVID-19/Non-COVID-19 (161).jpg 2020-03-26 12:00:32        38751\n",
            "Dataset All Augmented/Non-COVID-19/Non-COVID-19 (162).jpg 2020-03-26 12:00:32        44348\n",
            "Dataset All Augmented/Non-COVID-19/Non-COVID-19 (163).jpg 2020-03-26 12:00:32        37525\n",
            "Dataset All Augmented/Non-COVID-19/Non-COVID-19 (164).jpg 2020-03-26 12:00:32        38414\n",
            "Dataset All Augmented/Non-COVID-19/Non-COVID-19 (165).jpg 2020-03-26 12:00:34        38422\n",
            "Dataset All Augmented/Non-COVID-19/Non-COVID-19 (166).jpg 2020-03-26 12:00:34        38145\n",
            "Dataset All Augmented/Non-COVID-19/Non-COVID-19 (167).jpg 2020-03-26 12:00:34        38137\n",
            "Dataset All Augmented/Non-COVID-19/Non-COVID-19 (168).jpg 2020-03-26 12:00:34        38137\n",
            "Dataset All Augmented/Non-COVID-19/Non-COVID-19 (169).jpg 2020-03-26 12:00:34        38421\n",
            "Dataset All Augmented/Non-COVID-19/Non-COVID-19 (17).jpeg 2020-03-26 12:01:28        42839\n",
            "Dataset All Augmented/Non-COVID-19/Non-COVID-19 (17).jpg 2020-03-26 12:01:02        42344\n",
            "Dataset All Augmented/Non-COVID-19/Non-COVID-19 (170).jpg 2020-03-26 12:00:34        38531\n",
            "Dataset All Augmented/Non-COVID-19/Non-COVID-19 (171).jpg 2020-03-26 12:00:34        37828\n",
            "Dataset All Augmented/Non-COVID-19/Non-COVID-19 (172).jpg 2020-03-26 12:00:34        38158\n",
            "Dataset All Augmented/Non-COVID-19/Non-COVID-19 (173).jpg 2020-03-26 12:00:34        31421\n",
            "Dataset All Augmented/Non-COVID-19/Non-COVID-19 (174).jpg 2020-03-26 12:00:34        32634\n",
            "Dataset All Augmented/Non-COVID-19/Non-COVID-19 (175).jpg 2020-03-26 12:00:34        34861\n",
            "Dataset All Augmented/Non-COVID-19/Non-COVID-19 (176).jpg 2020-03-26 12:00:34        33161\n",
            "Dataset All Augmented/Non-COVID-19/Non-COVID-19 (177).jpg 2020-03-26 12:00:34        39815\n",
            "Dataset All Augmented/Non-COVID-19/Non-COVID-19 (178).jpg 2020-03-26 12:00:34        42556\n",
            "Dataset All Augmented/Non-COVID-19/Non-COVID-19 (179).jpg 2020-03-26 12:00:34        38932\n",
            "Dataset All Augmented/Non-COVID-19/Non-COVID-19 (18).jpeg 2020-03-26 12:01:28        47262\n",
            "Dataset All Augmented/Non-COVID-19/Non-COVID-19 (18).jpg 2020-03-26 12:01:02        42084\n",
            "Dataset All Augmented/Non-COVID-19/Non-COVID-19 (180).jpg 2020-03-26 12:00:34        38586\n",
            "Dataset All Augmented/Non-COVID-19/Non-COVID-19 (181).jpg 2020-03-26 12:00:34        39309\n",
            "Dataset All Augmented/Non-COVID-19/Non-COVID-19 (182).jpg 2020-03-26 12:00:34        48449\n",
            "Dataset All Augmented/Non-COVID-19/Non-COVID-19 (183).jpg 2020-03-26 12:00:34        48434\n",
            "Dataset All Augmented/Non-COVID-19/Non-COVID-19 (184).jpg 2020-03-26 12:00:36        48194\n",
            "Dataset All Augmented/Non-COVID-19/Non-COVID-19 (185).jpg 2020-03-26 12:00:36        48206\n",
            "Dataset All Augmented/Non-COVID-19/Non-COVID-19 (186).jpg 2020-03-26 12:00:36        48195\n",
            "Dataset All Augmented/Non-COVID-19/Non-COVID-19 (187).jpg 2020-03-26 12:00:36        44940\n",
            "Dataset All Augmented/Non-COVID-19/Non-COVID-19 (188).jpg 2020-03-26 12:00:36        48436\n",
            "Dataset All Augmented/Non-COVID-19/Non-COVID-19 (189).jpg 2020-03-26 12:00:36        44192\n",
            "Dataset All Augmented/Non-COVID-19/Non-COVID-19 (19).jpeg 2020-03-26 12:01:28        48211\n",
            "Dataset All Augmented/Non-COVID-19/Non-COVID-19 (19).jpg 2020-03-26 12:01:04        40958\n",
            "Dataset All Augmented/Non-COVID-19/Non-COVID-19 (190).jpg 2020-03-26 12:00:36        47935\n",
            "Dataset All Augmented/Non-COVID-19/Non-COVID-19 (191).jpg 2020-03-26 12:00:36        28978\n",
            "Dataset All Augmented/Non-COVID-19/Non-COVID-19 (192).jpg 2020-03-26 12:00:36        27226\n",
            "Dataset All Augmented/Non-COVID-19/Non-COVID-19 (193).jpg 2020-03-26 12:00:36        29189\n",
            "Dataset All Augmented/Non-COVID-19/Non-COVID-19 (194).jpg 2020-03-26 12:00:36        29116\n",
            "Dataset All Augmented/Non-COVID-19/Non-COVID-19 (195).jpg 2020-03-26 12:00:36        45710\n",
            "Dataset All Augmented/Non-COVID-19/Non-COVID-19 (196).jpg 2020-03-26 12:00:36        44898\n",
            "Dataset All Augmented/Non-COVID-19/Non-COVID-19 (197).jpg 2020-03-26 12:00:36        41938\n",
            "Dataset All Augmented/Non-COVID-19/Non-COVID-19 (198).jpg 2020-03-26 12:00:36        43286\n",
            "Dataset All Augmented/Non-COVID-19/Non-COVID-19 (199).jpg 2020-03-26 12:00:36        50679\n",
            "Dataset All Augmented/Non-COVID-19/Non-COVID-19 (2).jpeg 2020-03-26 12:01:26        38356\n",
            "Dataset All Augmented/Non-COVID-19/Non-COVID-19 (2).jpg 2020-03-26 12:00:48        42527\n",
            "Dataset All Augmented/Non-COVID-19/Non-COVID-19 (20).jpeg 2020-03-26 12:01:28        53023\n",
            "Dataset All Augmented/Non-COVID-19/Non-COVID-19 (20).jpg 2020-03-26 12:01:04        38686\n",
            "Dataset All Augmented/Non-COVID-19/Non-COVID-19 (200).jpg 2020-03-26 12:00:36        48214\n",
            "Dataset All Augmented/Non-COVID-19/Non-COVID-19 (201).jpg 2020-03-26 12:00:36        48214\n",
            "Dataset All Augmented/Non-COVID-19/Non-COVID-19 (202).jpg 2020-03-26 12:00:38        48201\n",
            "Dataset All Augmented/Non-COVID-19/Non-COVID-19 (203).jpg 2020-03-26 12:00:38        48216\n",
            "Dataset All Augmented/Non-COVID-19/Non-COVID-19 (204).jpg 2020-03-26 12:00:38        48208\n",
            "Dataset All Augmented/Non-COVID-19/Non-COVID-19 (205).jpg 2020-03-26 12:00:38        43918\n",
            "Dataset All Augmented/Non-COVID-19/Non-COVID-19 (206).jpg 2020-03-26 12:00:38        48213\n",
            "Dataset All Augmented/Non-COVID-19/Non-COVID-19 (207).jpg 2020-03-26 12:00:38        43516\n",
            "Dataset All Augmented/Non-COVID-19/Non-COVID-19 (208).jpg 2020-03-26 12:00:38        47754\n",
            "Dataset All Augmented/Non-COVID-19/Non-COVID-19 (209).jpg 2020-03-26 12:00:38        27775\n",
            "Dataset All Augmented/Non-COVID-19/Non-COVID-19 (21).jpeg 2020-03-26 12:01:28        46570\n",
            "Dataset All Augmented/Non-COVID-19/Non-COVID-19 (21).jpg 2020-03-26 12:01:04        38681\n",
            "Dataset All Augmented/Non-COVID-19/Non-COVID-19 (210).jpg 2020-03-26 12:00:38        30414\n",
            "Dataset All Augmented/Non-COVID-19/Non-COVID-19 (211).jpg 2020-03-26 12:00:38        29310\n",
            "Dataset All Augmented/Non-COVID-19/Non-COVID-19 (212).jpg 2020-03-26 12:00:38        28866\n",
            "Dataset All Augmented/Non-COVID-19/Non-COVID-19 (213).jpg 2020-03-26 12:00:38        45756\n",
            "Dataset All Augmented/Non-COVID-19/Non-COVID-19 (214).jpg 2020-03-26 12:00:38        43445\n",
            "Dataset All Augmented/Non-COVID-19/Non-COVID-19 (215).jpg 2020-03-26 12:00:38        43978\n",
            "Dataset All Augmented/Non-COVID-19/Non-COVID-19 (216).jpg 2020-03-26 12:00:38        43262\n",
            "Dataset All Augmented/Non-COVID-19/Non-COVID-19 (217).jpg 2020-03-26 12:00:38        48432\n",
            "Dataset All Augmented/Non-COVID-19/Non-COVID-19 (218).jpg 2020-03-26 12:00:38        53006\n",
            "Dataset All Augmented/Non-COVID-19/Non-COVID-19 (219).jpg 2020-03-26 12:00:38        53005\n",
            "Dataset All Augmented/Non-COVID-19/Non-COVID-19 (22).jpeg 2020-03-26 12:01:28        48896\n",
            "Dataset All Augmented/Non-COVID-19/Non-COVID-19 (22).jpg 2020-03-26 12:01:06        38193\n",
            "Dataset All Augmented/Non-COVID-19/Non-COVID-19 (220).jpg 2020-03-26 12:00:38        53521\n",
            "Dataset All Augmented/Non-COVID-19/Non-COVID-19 (221).jpg 2020-03-26 12:00:38        53525\n",
            "Dataset All Augmented/Non-COVID-19/Non-COVID-19 (222).jpg 2020-03-26 12:00:38        53537\n",
            "Dataset All Augmented/Non-COVID-19/Non-COVID-19 (223).jpg 2020-03-26 12:00:38        48349\n",
            "Dataset All Augmented/Non-COVID-19/Non-COVID-19 (224).jpg 2020-03-26 12:00:40        53023\n",
            "Dataset All Augmented/Non-COVID-19/Non-COVID-19 (225).jpg 2020-03-26 12:00:40        48468\n",
            "Dataset All Augmented/Non-COVID-19/Non-COVID-19 (226).jpg 2020-03-26 12:00:40        52895\n",
            "Dataset All Augmented/Non-COVID-19/Non-COVID-19 (227).jpg 2020-03-26 12:00:40        30643\n",
            "Dataset All Augmented/Non-COVID-19/Non-COVID-19 (228).jpg 2020-03-26 12:00:40        31018\n",
            "Dataset All Augmented/Non-COVID-19/Non-COVID-19 (229).jpg 2020-03-26 12:00:40        30961\n",
            "Dataset All Augmented/Non-COVID-19/Non-COVID-19 (23).jpeg 2020-03-26 12:01:28        50891\n",
            "Dataset All Augmented/Non-COVID-19/Non-COVID-19 (23).jpg 2020-03-26 12:01:06        38186\n",
            "Dataset All Augmented/Non-COVID-19/Non-COVID-19 (230).jpg 2020-03-26 12:00:40        30656\n",
            "Dataset All Augmented/Non-COVID-19/Non-COVID-19 (231).jpg 2020-03-26 12:00:40        49535\n",
            "Dataset All Augmented/Non-COVID-19/Non-COVID-19 (232).jpg 2020-03-26 12:00:40        51136\n",
            "Dataset All Augmented/Non-COVID-19/Non-COVID-19 (233).jpg 2020-03-26 12:00:40        48824\n",
            "Dataset All Augmented/Non-COVID-19/Non-COVID-19 (234).jpg 2020-03-26 12:00:40        46214\n",
            "Dataset All Augmented/Non-COVID-19/Non-COVID-19 (235).jpg 2020-03-26 12:00:40        45800\n",
            "Dataset All Augmented/Non-COVID-19/Non-COVID-19 (236).jpg 2020-03-26 12:00:40        46574\n",
            "Dataset All Augmented/Non-COVID-19/Non-COVID-19 (237).jpg 2020-03-26 12:00:40        46571\n",
            "Dataset All Augmented/Non-COVID-19/Non-COVID-19 (238).jpg 2020-03-26 12:00:40        46420\n",
            "Dataset All Augmented/Non-COVID-19/Non-COVID-19 (239).jpg 2020-03-26 12:00:40        46417\n",
            "Dataset All Augmented/Non-COVID-19/Non-COVID-19 (24).jpeg 2020-03-26 12:01:28        44828\n",
            "Dataset All Augmented/Non-COVID-19/Non-COVID-19 (24).jpg 2020-03-26 12:01:06        38197\n",
            "Dataset All Augmented/Non-COVID-19/Non-COVID-19 (240).jpg 2020-03-26 12:00:40        46416\n",
            "Dataset All Augmented/Non-COVID-19/Non-COVID-19 (241).jpg 2020-03-26 12:00:40        43137\n",
            "Dataset All Augmented/Non-COVID-19/Non-COVID-19 (242).jpg 2020-03-26 12:00:40        46568\n",
            "Dataset All Augmented/Non-COVID-19/Non-COVID-19 (243).jpg 2020-03-26 12:00:40        42320\n",
            "Dataset All Augmented/Non-COVID-19/Non-COVID-19 (244).jpg 2020-03-26 12:00:42        46000\n",
            "Dataset All Augmented/Non-COVID-19/Non-COVID-19 (245).jpg 2020-03-26 12:00:42        26734\n",
            "Dataset All Augmented/Non-COVID-19/Non-COVID-19 (246).jpg 2020-03-26 12:00:42        27116\n",
            "Dataset All Augmented/Non-COVID-19/Non-COVID-19 (247).jpg 2020-03-26 12:00:42        28260\n",
            "Dataset All Augmented/Non-COVID-19/Non-COVID-19 (248).jpg 2020-03-26 12:00:42        28182\n",
            "Dataset All Augmented/Non-COVID-19/Non-COVID-19 (249).jpg 2020-03-26 12:00:42        43614\n",
            "Dataset All Augmented/Non-COVID-19/Non-COVID-19 (25).jpeg 2020-03-26 12:01:28        49291\n",
            "Dataset All Augmented/Non-COVID-19/Non-COVID-19 (25).jpg 2020-03-26 12:01:06        38706\n",
            "Dataset All Augmented/Non-COVID-19/Non-COVID-19 (250).jpg 2020-03-26 12:00:42        42373\n",
            "Dataset All Augmented/Non-COVID-19/Non-COVID-19 (251).jpg 2020-03-26 12:00:42        42873\n",
            "Dataset All Augmented/Non-COVID-19/Non-COVID-19 (252).jpg 2020-03-26 12:00:42        41065\n",
            "Dataset All Augmented/Non-COVID-19/Non-COVID-19 (253).jpg 2020-03-26 12:00:42        42138\n",
            "Dataset All Augmented/Non-COVID-19/Non-COVID-19 (254).jpg 2020-03-26 12:00:42        48891\n",
            "Dataset All Augmented/Non-COVID-19/Non-COVID-19 (255).jpg 2020-03-26 12:00:42        48886\n",
            "Dataset All Augmented/Non-COVID-19/Non-COVID-19 (256).jpg 2020-03-26 12:00:42        48721\n",
            "Dataset All Augmented/Non-COVID-19/Non-COVID-19 (257).jpg 2020-03-26 12:00:42        48714\n",
            "Dataset All Augmented/Non-COVID-19/Non-COVID-19 (258).jpg 2020-03-26 12:00:42        48722\n",
            "Dataset All Augmented/Non-COVID-19/Non-COVID-19 (259).jpg 2020-03-26 12:00:42        45107\n",
            "Dataset All Augmented/Non-COVID-19/Non-COVID-19 (26).jpeg 2020-03-26 12:01:28        44829\n",
            "Dataset All Augmented/Non-COVID-19/Non-COVID-19 (26).jpg 2020-03-26 12:01:08        38805\n",
            "Dataset All Augmented/Non-COVID-19/Non-COVID-19 (260).jpg 2020-03-26 12:00:42        48895\n",
            "Dataset All Augmented/Non-COVID-19/Non-COVID-19 (261).jpg 2020-03-26 12:00:42        44441\n",
            "Dataset All Augmented/Non-COVID-19/Non-COVID-19 (262).jpg 2020-03-26 12:00:42        48270\n",
            "Dataset All Augmented/Non-COVID-19/Non-COVID-19 (263).jpg 2020-03-26 12:00:42        27601\n",
            "Dataset All Augmented/Non-COVID-19/Non-COVID-19 (264).jpg 2020-03-26 12:00:42        28871\n",
            "Dataset All Augmented/Non-COVID-19/Non-COVID-19 (265).jpg 2020-03-26 12:00:44        30622\n",
            "Dataset All Augmented/Non-COVID-19/Non-COVID-19 (266).jpg 2020-03-26 12:00:44        28085\n",
            "Dataset All Augmented/Non-COVID-19/Non-COVID-19 (267).jpg 2020-03-26 12:00:44        42907\n",
            "Dataset All Augmented/Non-COVID-19/Non-COVID-19 (268).jpg 2020-03-26 12:00:44        43220\n",
            "Dataset All Augmented/Non-COVID-19/Non-COVID-19 (269).jpg 2020-03-26 12:00:44        48917\n",
            "Dataset All Augmented/Non-COVID-19/Non-COVID-19 (27).jpeg 2020-03-26 12:01:28        50312\n",
            "Dataset All Augmented/Non-COVID-19/Non-COVID-19 (27).jpg 2020-03-26 12:01:08        38173\n",
            "Dataset All Augmented/Non-COVID-19/Non-COVID-19 (270).jpg 2020-03-26 12:00:44        49413\n",
            "Dataset All Augmented/Non-COVID-19/Non-COVID-19 (271).jpg 2020-03-26 12:00:44        47330\n",
            "Dataset All Augmented/Non-COVID-19/Non-COVID-19 (272).jpg 2020-03-26 12:00:44        50893\n",
            "Dataset All Augmented/Non-COVID-19/Non-COVID-19 (273).jpg 2020-03-26 12:00:44        50888\n",
            "Dataset All Augmented/Non-COVID-19/Non-COVID-19 (274).jpg 2020-03-26 12:00:44        51296\n",
            "Dataset All Augmented/Non-COVID-19/Non-COVID-19 (275).jpg 2020-03-26 12:00:44        51291\n",
            "Dataset All Augmented/Non-COVID-19/Non-COVID-19 (276).jpg 2020-03-26 12:00:44        51288\n",
            "Dataset All Augmented/Non-COVID-19/Non-COVID-19 (277).jpg 2020-03-26 12:00:44        45899\n",
            "Dataset All Augmented/Non-COVID-19/Non-COVID-19 (278).jpg 2020-03-26 12:00:44        50891\n",
            "Dataset All Augmented/Non-COVID-19/Non-COVID-19 (279).jpg 2020-03-26 12:00:44        45635\n",
            "Dataset All Augmented/Non-COVID-19/Non-COVID-19 (28).jpeg 2020-03-26 12:01:28        46849\n",
            "Dataset All Augmented/Non-COVID-19/Non-COVID-19 (28).jpg 2020-03-26 12:01:08        38320\n",
            "Dataset All Augmented/Non-COVID-19/Non-COVID-19 (280).jpg 2020-03-26 12:00:44        50709\n",
            "Dataset All Augmented/Non-COVID-19/Non-COVID-19 (281).jpg 2020-03-26 12:00:44        29248\n",
            "Dataset All Augmented/Non-COVID-19/Non-COVID-19 (282).jpg 2020-03-26 12:00:44        30097\n",
            "Dataset All Augmented/Non-COVID-19/Non-COVID-19 (283).jpg 2020-03-26 12:00:44        31749\n",
            "Dataset All Augmented/Non-COVID-19/Non-COVID-19 (284).jpg 2020-03-26 12:00:44        27866\n",
            "Dataset All Augmented/Non-COVID-19/Non-COVID-19 (285).jpg 2020-03-26 12:00:46        44691\n",
            "Dataset All Augmented/Non-COVID-19/Non-COVID-19 (286).jpg 2020-03-26 12:00:46        54927\n",
            "Dataset All Augmented/Non-COVID-19/Non-COVID-19 (287).jpg 2020-03-26 12:00:46        48289\n",
            "Dataset All Augmented/Non-COVID-19/Non-COVID-19 (288).jpg 2020-03-26 12:00:46        51230\n",
            "Dataset All Augmented/Non-COVID-19/Non-COVID-19 (289).jpg 2020-03-26 12:00:46        44541\n",
            "Dataset All Augmented/Non-COVID-19/Non-COVID-19 (29).jpeg 2020-03-26 12:01:28        48139\n",
            "Dataset All Augmented/Non-COVID-19/Non-COVID-19 (29).jpg 2020-03-26 12:01:10        30699\n",
            "Dataset All Augmented/Non-COVID-19/Non-COVID-19 (290).jpg 2020-03-26 12:00:46        44837\n",
            "Dataset All Augmented/Non-COVID-19/Non-COVID-19 (291).jpg 2020-03-26 12:00:46        44840\n",
            "Dataset All Augmented/Non-COVID-19/Non-COVID-19 (292).jpg 2020-03-26 12:00:46        44048\n",
            "Dataset All Augmented/Non-COVID-19/Non-COVID-19 (293).jpg 2020-03-26 12:00:46        44047\n",
            "Dataset All Augmented/Non-COVID-19/Non-COVID-19 (294).jpg 2020-03-26 12:00:46        44058\n",
            "Dataset All Augmented/Non-COVID-19/Non-COVID-19 (295).jpg 2020-03-26 12:00:46        42033\n",
            "Dataset All Augmented/Non-COVID-19/Non-COVID-19 (296).jpg 2020-03-26 12:00:46        44820\n",
            "Dataset All Augmented/Non-COVID-19/Non-COVID-19 (297).jpg 2020-03-26 12:00:46        40334\n",
            "Dataset All Augmented/Non-COVID-19/Non-COVID-19 (298).jpg 2020-03-26 12:00:46        43686\n",
            "Dataset All Augmented/Non-COVID-19/Non-COVID-19 (299).jpg 2020-03-26 12:00:46        26339\n",
            "Dataset All Augmented/Non-COVID-19/Non-COVID-19 (3).jpeg 2020-03-26 12:01:26        42527\n",
            "Dataset All Augmented/Non-COVID-19/Non-COVID-19 (3).jpg 2020-03-26 12:00:50        42528\n",
            "Dataset All Augmented/Non-COVID-19/Non-COVID-19 (30).jpeg 2020-03-26 12:01:28        50229\n",
            "Dataset All Augmented/Non-COVID-19/Non-COVID-19 (30).jpg 2020-03-26 12:01:10        32754\n",
            "Dataset All Augmented/Non-COVID-19/Non-COVID-19 (300).jpg 2020-03-26 12:00:46        25886\n",
            "Dataset All Augmented/Non-COVID-19/Non-COVID-19 (301).jpg 2020-03-26 12:00:46        28172\n",
            "Dataset All Augmented/Non-COVID-19/Non-COVID-19 (302).jpg 2020-03-26 12:00:46        27006\n",
            "Dataset All Augmented/Non-COVID-19/Non-COVID-19 (303).jpg 2020-03-26 12:00:46        45982\n",
            "Dataset All Augmented/Non-COVID-19/Non-COVID-19 (304).jpg 2020-03-26 12:00:46        43934\n",
            "Dataset All Augmented/Non-COVID-19/Non-COVID-19 (305).jpg 2020-03-26 12:00:46        44087\n",
            "Dataset All Augmented/Non-COVID-19/Non-COVID-19 (306).jpg 2020-03-26 12:00:46        45709\n",
            "Dataset All Augmented/Non-COVID-19/Non-COVID-19 (307).jpg 2020-03-26 12:00:46        45345\n",
            "Dataset All Augmented/Non-COVID-19/Non-COVID-19 (308).jpg 2020-03-26 12:00:46        49185\n",
            "Dataset All Augmented/Non-COVID-19/Non-COVID-19 (309).jpg 2020-03-26 12:00:46        49182\n",
            "Dataset All Augmented/Non-COVID-19/Non-COVID-19 (31).jpeg 2020-03-26 12:01:28        43671\n",
            "Dataset All Augmented/Non-COVID-19/Non-COVID-19 (31).jpg 2020-03-26 12:01:12        34544\n",
            "Dataset All Augmented/Non-COVID-19/Non-COVID-19 (310).jpg 2020-03-26 12:00:46        49948\n",
            "Dataset All Augmented/Non-COVID-19/Non-COVID-19 (311).jpg 2020-03-26 12:00:46        49951\n",
            "Dataset All Augmented/Non-COVID-19/Non-COVID-19 (312).jpg 2020-03-26 12:00:46        49923\n",
            "Dataset All Augmented/Non-COVID-19/Non-COVID-19 (313).jpg 2020-03-26 12:00:46        44694\n",
            "Dataset All Augmented/Non-COVID-19/Non-COVID-19 (314).jpg 2020-03-26 12:00:46        49171\n",
            "Dataset All Augmented/Non-COVID-19/Non-COVID-19 (315).jpg 2020-03-26 12:00:46        44801\n",
            "Dataset All Augmented/Non-COVID-19/Non-COVID-19 (316).jpg 2020-03-26 12:00:46        49327\n",
            "Dataset All Augmented/Non-COVID-19/Non-COVID-19 (317).jpg 2020-03-26 12:00:46        29361\n",
            "Dataset All Augmented/Non-COVID-19/Non-COVID-19 (318).jpg 2020-03-26 12:00:48        28680\n",
            "Dataset All Augmented/Non-COVID-19/Non-COVID-19 (319).jpg 2020-03-26 12:00:48        30026\n",
            "Dataset All Augmented/Non-COVID-19/Non-COVID-19 (32).jpeg 2020-03-26 12:01:28        49617\n",
            "Dataset All Augmented/Non-COVID-19/Non-COVID-19 (32).jpg 2020-03-26 12:01:14        32601\n",
            "Dataset All Augmented/Non-COVID-19/Non-COVID-19 (320).jpg 2020-03-26 12:00:48        27477\n",
            "Dataset All Augmented/Non-COVID-19/Non-COVID-19 (321).jpg 2020-03-26 12:00:48        51122\n",
            "Dataset All Augmented/Non-COVID-19/Non-COVID-19 (322).jpg 2020-03-26 12:00:48        45155\n",
            "Dataset All Augmented/Non-COVID-19/Non-COVID-19 (323).jpg 2020-03-26 12:00:48        50642\n",
            "Dataset All Augmented/Non-COVID-19/Non-COVID-19 (324).jpg 2020-03-26 12:00:48        44744\n",
            "Dataset All Augmented/Non-COVID-19/Non-COVID-19 (325).jpg 2020-03-26 12:00:48        43578\n",
            "Dataset All Augmented/Non-COVID-19/Non-COVID-19 (326).jpg 2020-03-26 12:00:48        51098\n",
            "Dataset All Augmented/Non-COVID-19/Non-COVID-19 (327).jpg 2020-03-26 12:00:48        51104\n",
            "Dataset All Augmented/Non-COVID-19/Non-COVID-19 (328).jpg 2020-03-26 12:00:48        51123\n",
            "Dataset All Augmented/Non-COVID-19/Non-COVID-19 (329).jpg 2020-03-26 12:00:48        51119\n",
            "Dataset All Augmented/Non-COVID-19/Non-COVID-19 (33).jpeg 2020-03-26 12:01:28        49847\n",
            "Dataset All Augmented/Non-COVID-19/Non-COVID-19 (33).jpg 2020-03-26 12:01:14        38775\n",
            "Dataset All Augmented/Non-COVID-19/Non-COVID-19 (330).jpg 2020-03-26 12:00:48        51138\n",
            "Dataset All Augmented/Non-COVID-19/Non-COVID-19 (331).jpg 2020-03-26 12:00:48        46624\n",
            "Dataset All Augmented/Non-COVID-19/Non-COVID-19 (332).jpg 2020-03-26 12:00:48        51098\n",
            "Dataset All Augmented/Non-COVID-19/Non-COVID-19 (333).jpg 2020-03-26 12:00:48        45847\n",
            "Dataset All Augmented/Non-COVID-19/Non-COVID-19 (334).jpg 2020-03-26 12:00:48        50644\n",
            "Dataset All Augmented/Non-COVID-19/Non-COVID-19 (335).jpg 2020-03-26 12:00:48        30973\n",
            "Dataset All Augmented/Non-COVID-19/Non-COVID-19 (336).jpg 2020-03-26 12:00:48        28064\n",
            "Dataset All Augmented/Non-COVID-19/Non-COVID-19 (337).jpg 2020-03-26 12:00:48        30886\n",
            "Dataset All Augmented/Non-COVID-19/Non-COVID-19 (338).jpg 2020-03-26 12:00:48        29615\n",
            "Dataset All Augmented/Non-COVID-19/Non-COVID-19 (339).jpg 2020-03-26 12:00:48        45348\n",
            "Dataset All Augmented/Non-COVID-19/Non-COVID-19 (34).jpeg 2020-03-26 12:01:28        51275\n",
            "Dataset All Augmented/Non-COVID-19/Non-COVID-19 (34).jpg 2020-03-26 12:01:14        42460\n",
            "Dataset All Augmented/Non-COVID-19/Non-COVID-19 (340).jpg 2020-03-26 12:00:48        51038\n",
            "Dataset All Augmented/Non-COVID-19/Non-COVID-19 (341).jpg 2020-03-26 12:00:48        45557\n",
            "Dataset All Augmented/Non-COVID-19/Non-COVID-19 (342).jpg 2020-03-26 12:00:48        53657\n",
            "Dataset All Augmented/Non-COVID-19/Non-COVID-19 (343).jpg 2020-03-26 12:00:50        44327\n",
            "Dataset All Augmented/Non-COVID-19/Non-COVID-19 (344).jpg 2020-03-26 12:00:50        44726\n",
            "Dataset All Augmented/Non-COVID-19/Non-COVID-19 (345).jpg 2020-03-26 12:00:50        44721\n",
            "Dataset All Augmented/Non-COVID-19/Non-COVID-19 (346).jpg 2020-03-26 12:00:50        43791\n",
            "Dataset All Augmented/Non-COVID-19/Non-COVID-19 (347).jpg 2020-03-26 12:00:50        43790\n",
            "Dataset All Augmented/Non-COVID-19/Non-COVID-19 (348).jpg 2020-03-26 12:00:50        43800\n",
            "Dataset All Augmented/Non-COVID-19/Non-COVID-19 (349).jpg 2020-03-26 12:00:50        41922\n",
            "Dataset All Augmented/Non-COVID-19/Non-COVID-19 (35).jpeg 2020-03-26 12:01:28        47952\n",
            "Dataset All Augmented/Non-COVID-19/Non-COVID-19 (35).jpg 2020-03-26 12:01:16        36271\n",
            "Dataset All Augmented/Non-COVID-19/Non-COVID-19 (350).jpg 2020-03-26 12:00:50        44723\n",
            "Dataset All Augmented/Non-COVID-19/Non-COVID-19 (351).jpg 2020-03-26 12:00:50        40381\n",
            "Dataset All Augmented/Non-COVID-19/Non-COVID-19 (352).jpg 2020-03-26 12:00:50        43529\n",
            "Dataset All Augmented/Non-COVID-19/Non-COVID-19 (353).jpg 2020-03-26 12:00:50        27383\n",
            "Dataset All Augmented/Non-COVID-19/Non-COVID-19 (354).jpg 2020-03-26 12:00:50        26358\n",
            "Dataset All Augmented/Non-COVID-19/Non-COVID-19 (355).jpg 2020-03-26 12:00:50        27893\n",
            "Dataset All Augmented/Non-COVID-19/Non-COVID-19 (356).jpg 2020-03-26 12:00:50        27636\n",
            "Dataset All Augmented/Non-COVID-19/Non-COVID-19 (357).jpg 2020-03-26 12:00:50        48729\n",
            "Dataset All Augmented/Non-COVID-19/Non-COVID-19 (358).jpg 2020-03-26 12:00:50        40839\n",
            "Dataset All Augmented/Non-COVID-19/Non-COVID-19 (359).jpg 2020-03-26 12:00:50        40922\n",
            "Dataset All Augmented/Non-COVID-19/Non-COVID-19 (36).jpeg 2020-03-26 12:01:28        42287\n",
            "Dataset All Augmented/Non-COVID-19/Non-COVID-19 (36).jpg 2020-03-26 12:01:16        38775\n",
            "Dataset All Augmented/Non-COVID-19/Non-COVID-19 (360).jpg 2020-03-26 12:00:50        41294\n",
            "Dataset All Augmented/Non-COVID-19/Non-COVID-19 (361).jpg 2020-03-26 12:00:50        42462\n",
            "Dataset All Augmented/Non-COVID-19/Non-COVID-19 (362).jpg 2020-03-26 12:00:50        42865\n",
            "Dataset All Augmented/Non-COVID-19/Non-COVID-19 (363).jpg 2020-03-26 12:00:50        42860\n",
            "Dataset All Augmented/Non-COVID-19/Non-COVID-19 (364).jpg 2020-03-26 12:00:50        42380\n",
            "Dataset All Augmented/Non-COVID-19/Non-COVID-19 (365).jpg 2020-03-26 12:00:50        42385\n",
            "Dataset All Augmented/Non-COVID-19/Non-COVID-19 (366).jpg 2020-03-26 12:00:50        42381\n",
            "Dataset All Augmented/Non-COVID-19/Non-COVID-19 (367).jpg 2020-03-26 12:00:50        40243\n",
            "Dataset All Augmented/Non-COVID-19/Non-COVID-19 (368).jpg 2020-03-26 12:00:50        42833\n",
            "Dataset All Augmented/Non-COVID-19/Non-COVID-19 (369).jpg 2020-03-26 12:00:50        39021\n",
            "Dataset All Augmented/Non-COVID-19/Non-COVID-19 (37).jpeg 2020-03-26 12:01:28        44566\n",
            "Dataset All Augmented/Non-COVID-19/Non-COVID-19 (37).jpg 2020-03-26 12:01:18        43912\n",
            "Dataset All Augmented/Non-COVID-19/Non-COVID-19 (370).jpg 2020-03-26 12:00:50        41997\n",
            "Dataset All Augmented/Non-COVID-19/Non-COVID-19 (371).jpg 2020-03-26 12:00:52        26591\n",
            "Dataset All Augmented/Non-COVID-19/Non-COVID-19 (372).jpg 2020-03-26 12:00:52        24556\n",
            "Dataset All Augmented/Non-COVID-19/Non-COVID-19 (373).jpg 2020-03-26 12:00:52        27927\n",
            "Dataset All Augmented/Non-COVID-19/Non-COVID-19 (374).jpg 2020-03-26 12:00:52        25290\n",
            "Dataset All Augmented/Non-COVID-19/Non-COVID-19 (375).jpg 2020-03-26 12:00:52        40780\n",
            "Dataset All Augmented/Non-COVID-19/Non-COVID-19 (376).jpg 2020-03-26 12:00:52        40440\n",
            "Dataset All Augmented/Non-COVID-19/Non-COVID-19 (377).jpg 2020-03-26 12:00:52        42481\n",
            "Dataset All Augmented/Non-COVID-19/Non-COVID-19 (378).jpg 2020-03-26 12:00:52        39954\n",
            "Dataset All Augmented/Non-COVID-19/Non-COVID-19 (379).jpg 2020-03-26 12:00:52        45893\n",
            "Dataset All Augmented/Non-COVID-19/Non-COVID-19 (38).jpeg 2020-03-26 12:01:28        39895\n",
            "Dataset All Augmented/Non-COVID-19/Non-COVID-19 (38).jpg 2020-03-26 12:01:18        42399\n",
            "Dataset All Augmented/Non-COVID-19/Non-COVID-19 (380).jpg 2020-03-26 12:00:52        47274\n",
            "Dataset All Augmented/Non-COVID-19/Non-COVID-19 (381).jpg 2020-03-26 12:00:52        47269\n",
            "Dataset All Augmented/Non-COVID-19/Non-COVID-19 (382).jpg 2020-03-26 12:00:52        46852\n",
            "Dataset All Augmented/Non-COVID-19/Non-COVID-19 (383).jpg 2020-03-26 12:00:52        46850\n",
            "Dataset All Augmented/Non-COVID-19/Non-COVID-19 (384).jpg 2020-03-26 12:00:52        46832\n",
            "Dataset All Augmented/Non-COVID-19/Non-COVID-19 (385).jpg 2020-03-26 12:00:52        42977\n",
            "Dataset All Augmented/Non-COVID-19/Non-COVID-19 (386).jpg 2020-03-26 12:00:52        47261\n",
            "Dataset All Augmented/Non-COVID-19/Non-COVID-19 (387).jpg 2020-03-26 12:00:52        41722\n",
            "Dataset All Augmented/Non-COVID-19/Non-COVID-19 (388).jpg 2020-03-26 12:00:52        46501\n",
            "Dataset All Augmented/Non-COVID-19/Non-COVID-19 (389).jpg 2020-03-26 12:00:52        28989\n",
            "Dataset All Augmented/Non-COVID-19/Non-COVID-19 (39).jpeg 2020-03-26 12:01:28        38071\n",
            "Dataset All Augmented/Non-COVID-19/Non-COVID-19 (39).jpg 2020-03-26 12:01:18        42399\n",
            "Dataset All Augmented/Non-COVID-19/Non-COVID-19 (390).jpg 2020-03-26 12:00:52        27937\n",
            "Dataset All Augmented/Non-COVID-19/Non-COVID-19 (391).jpg 2020-03-26 12:00:52        28888\n",
            "Dataset All Augmented/Non-COVID-19/Non-COVID-19 (392).jpg 2020-03-26 12:00:52        28262\n",
            "Dataset All Augmented/Non-COVID-19/Non-COVID-19 (393).jpg 2020-03-26 12:00:52        43539\n",
            "Dataset All Augmented/Non-COVID-19/Non-COVID-19 (394).jpg 2020-03-26 12:00:52        43143\n",
            "Dataset All Augmented/Non-COVID-19/Non-COVID-19 (395).jpg 2020-03-26 12:00:52        49819\n",
            "Dataset All Augmented/Non-COVID-19/Non-COVID-19 (396).jpg 2020-03-26 12:00:52        44842\n",
            "Dataset All Augmented/Non-COVID-19/Non-COVID-19 (397).jpg 2020-03-26 12:00:52        42858\n",
            "Dataset All Augmented/Non-COVID-19/Non-COVID-19 (398).jpg 2020-03-26 12:00:52        49294\n",
            "Dataset All Augmented/Non-COVID-19/Non-COVID-19 (399).jpg 2020-03-26 12:00:52        49299\n",
            "Dataset All Augmented/Non-COVID-19/Non-COVID-19 (4).jpeg 2020-03-26 12:01:26        38684\n",
            "Dataset All Augmented/Non-COVID-19/Non-COVID-19 (4).jpg 2020-03-26 12:00:50        41148\n",
            "Dataset All Augmented/Non-COVID-19/Non-COVID-19 (40).jpeg 2020-03-26 12:01:28        47930\n",
            "Dataset All Augmented/Non-COVID-19/Non-COVID-19 (40).jpg 2020-03-26 12:01:20        41828\n",
            "Dataset All Augmented/Non-COVID-19/Non-COVID-19 (400).jpg 2020-03-26 12:00:52        49366\n",
            "Dataset All Augmented/Non-COVID-19/Non-COVID-19 (401).jpg 2020-03-26 12:00:52        49367\n",
            "Dataset All Augmented/Non-COVID-19/Non-COVID-19 (402).jpg 2020-03-26 12:00:52        49359\n",
            "Dataset All Augmented/Non-COVID-19/Non-COVID-19 (403).jpg 2020-03-26 12:00:52        49217\n",
            "Dataset All Augmented/Non-COVID-19/Non-COVID-19 (404).jpg 2020-03-26 12:00:54        49335\n",
            "Dataset All Augmented/Non-COVID-19/Non-COVID-19 (405).jpg 2020-03-26 12:00:54        48728\n",
            "Dataset All Augmented/Non-COVID-19/Non-COVID-19 (406).jpg 2020-03-26 12:00:54        49302\n",
            "Dataset All Augmented/Non-COVID-19/Non-COVID-19 (407).jpg 2020-03-26 12:00:54        39439\n",
            "Dataset All Augmented/Non-COVID-19/Non-COVID-19 (408).jpg 2020-03-26 12:00:54        39857\n",
            "Dataset All Augmented/Non-COVID-19/Non-COVID-19 (409).jpg 2020-03-26 12:00:54        42413\n",
            "Dataset All Augmented/Non-COVID-19/Non-COVID-19 (41).jpeg 2020-03-26 12:01:28        37982\n",
            "Dataset All Augmented/Non-COVID-19/Non-COVID-19 (41).jpg 2020-03-26 12:01:20        41827\n",
            "Dataset All Augmented/Non-COVID-19/Non-COVID-19 (410).jpg 2020-03-26 12:00:54        40554\n",
            "Dataset All Augmented/Non-COVID-19/Non-COVID-19 (411).jpg 2020-03-26 12:00:54        48180\n",
            "Dataset All Augmented/Non-COVID-19/Non-COVID-19 (412).jpg 2020-03-26 12:00:54        50272\n",
            "Dataset All Augmented/Non-COVID-19/Non-COVID-19 (413).jpg 2020-03-26 12:00:54        43552\n",
            "Dataset All Augmented/Non-COVID-19/Non-COVID-19 (414).jpg 2020-03-26 12:00:54        45961\n",
            "Dataset All Augmented/Non-COVID-19/Non-COVID-19 (415).jpg 2020-03-26 12:00:54        47963\n",
            "Dataset All Augmented/Non-COVID-19/Non-COVID-19 (416).jpg 2020-03-26 12:00:54        44832\n",
            "Dataset All Augmented/Non-COVID-19/Non-COVID-19 (417).jpg 2020-03-26 12:00:54        44843\n",
            "Dataset All Augmented/Non-COVID-19/Non-COVID-19 (418).jpg 2020-03-26 12:00:54        44883\n",
            "Dataset All Augmented/Non-COVID-19/Non-COVID-19 (419).jpg 2020-03-26 12:00:54        44893\n",
            "Dataset All Augmented/Non-COVID-19/Non-COVID-19 (42).jpeg 2020-03-26 12:01:28        38526\n",
            "Dataset All Augmented/Non-COVID-19/Non-COVID-19 (42).jpg 2020-03-26 12:01:20        41834\n",
            "Dataset All Augmented/Non-COVID-19/Non-COVID-19 (420).jpg 2020-03-26 12:00:54        44887\n",
            "Dataset All Augmented/Non-COVID-19/Non-COVID-19 (421).jpg 2020-03-26 12:00:54        44842\n",
            "Dataset All Augmented/Non-COVID-19/Non-COVID-19 (422).jpg 2020-03-26 12:00:54        44934\n",
            "Dataset All Augmented/Non-COVID-19/Non-COVID-19 (423).jpg 2020-03-26 12:00:54        44432\n",
            "Dataset All Augmented/Non-COVID-19/Non-COVID-19 (424).jpg 2020-03-26 12:00:54        44833\n",
            "Dataset All Augmented/Non-COVID-19/Non-COVID-19 (425).jpg 2020-03-26 12:00:54        37012\n",
            "Dataset All Augmented/Non-COVID-19/Non-COVID-19 (426).jpg 2020-03-26 12:00:54        38145\n",
            "Dataset All Augmented/Non-COVID-19/Non-COVID-19 (427).jpg 2020-03-26 12:00:54        39550\n",
            "Dataset All Augmented/Non-COVID-19/Non-COVID-19 (428).jpg 2020-03-26 12:00:54        37590\n",
            "Dataset All Augmented/Non-COVID-19/Non-COVID-19 (429).jpg 2020-03-26 12:00:54        50442\n",
            "Dataset All Augmented/Non-COVID-19/Non-COVID-19 (43).jpeg 2020-03-26 12:01:28        43873\n",
            "Dataset All Augmented/Non-COVID-19/Non-COVID-19 (43).jpg 2020-03-26 12:01:20        42309\n",
            "Dataset All Augmented/Non-COVID-19/Non-COVID-19 (430).jpg 2020-03-26 12:00:54        46023\n",
            "Dataset All Augmented/Non-COVID-19/Non-COVID-19 (431).jpg 2020-03-26 12:00:54        45251\n",
            "Dataset All Augmented/Non-COVID-19/Non-COVID-19 (432).jpg 2020-03-26 12:00:54        51317\n",
            "Dataset All Augmented/Non-COVID-19/Non-COVID-19 (433).jpg 2020-03-26 12:00:54        44824\n",
            "Dataset All Augmented/Non-COVID-19/Non-COVID-19 (434).jpg 2020-03-26 12:00:54        50306\n",
            "Dataset All Augmented/Non-COVID-19/Non-COVID-19 (435).jpg 2020-03-26 12:00:56        50317\n",
            "Dataset All Augmented/Non-COVID-19/Non-COVID-19 (436).jpg 2020-03-26 12:00:56        50517\n",
            "Dataset All Augmented/Non-COVID-19/Non-COVID-19 (437).jpg 2020-03-26 12:00:56        50514\n",
            "Dataset All Augmented/Non-COVID-19/Non-COVID-19 (438).jpg 2020-03-26 12:00:56        50517\n",
            "Dataset All Augmented/Non-COVID-19/Non-COVID-19 (439).jpg 2020-03-26 12:00:56        50159\n",
            "Dataset All Augmented/Non-COVID-19/Non-COVID-19 (44).jpeg 2020-03-26 12:01:28        43101\n",
            "Dataset All Augmented/Non-COVID-19/Non-COVID-19 (44).jpg 2020-03-26 12:01:22        42518\n",
            "Dataset All Augmented/Non-COVID-19/Non-COVID-19 (440).jpg 2020-03-26 12:00:56        50299\n",
            "Dataset All Augmented/Non-COVID-19/Non-COVID-19 (441).jpg 2020-03-26 12:00:56        49929\n",
            "Dataset All Augmented/Non-COVID-19/Non-COVID-19 (442).jpg 2020-03-26 12:00:56        50429\n",
            "Dataset All Augmented/Non-COVID-19/Non-COVID-19 (443).jpg 2020-03-26 12:00:56        41218\n",
            "Dataset All Augmented/Non-COVID-19/Non-COVID-19 (444).jpg 2020-03-26 12:00:56        39956\n",
            "Dataset All Augmented/Non-COVID-19/Non-COVID-19 (445).jpg 2020-03-26 12:00:56        43273\n",
            "Dataset All Augmented/Non-COVID-19/Non-COVID-19 (446).jpg 2020-03-26 12:00:56        40713\n",
            "Dataset All Augmented/Non-COVID-19/Non-COVID-19 (447).jpg 2020-03-26 12:00:56        43722\n",
            "Dataset All Augmented/Non-COVID-19/Non-COVID-19 (448).jpg 2020-03-26 12:00:56        43393\n",
            "Dataset All Augmented/Non-COVID-19/Non-COVID-19 (449).jpg 2020-03-26 12:00:56        46755\n",
            "Dataset All Augmented/Non-COVID-19/Non-COVID-19 (45).jpeg 2020-03-26 12:01:28        37061\n",
            "Dataset All Augmented/Non-COVID-19/Non-COVID-19 (45).jpg 2020-03-26 12:01:22        41711\n",
            "Dataset All Augmented/Non-COVID-19/Non-COVID-19 (450).jpg 2020-03-26 12:00:56        52759\n",
            "Dataset All Augmented/Non-COVID-19/Non-COVID-19 (451).jpg 2020-03-26 12:00:56        43488\n",
            "Dataset All Augmented/Non-COVID-19/Non-COVID-19 (452).jpg 2020-03-26 12:00:56        46852\n",
            "Dataset All Augmented/Non-COVID-19/Non-COVID-19 (453).jpg 2020-03-26 12:00:56        46853\n",
            "Dataset All Augmented/Non-COVID-19/Non-COVID-19 (454).jpg 2020-03-26 12:00:56        45971\n",
            "Dataset All Augmented/Non-COVID-19/Non-COVID-19 (455).jpg 2020-03-26 12:00:58        45967\n",
            "Dataset All Augmented/Non-COVID-19/Non-COVID-19 (456).jpg 2020-03-26 12:00:58        45976\n",
            "Dataset All Augmented/Non-COVID-19/Non-COVID-19 (457).jpg 2020-03-26 12:00:58        46739\n",
            "Dataset All Augmented/Non-COVID-19/Non-COVID-19 (458).jpg 2020-03-26 12:00:58        46869\n",
            "Dataset All Augmented/Non-COVID-19/Non-COVID-19 (459).jpg 2020-03-26 12:00:58        45595\n",
            "Dataset All Augmented/Non-COVID-19/Non-COVID-19 (46).jpeg 2020-03-26 12:01:28        43448\n",
            "Dataset All Augmented/Non-COVID-19/Non-COVID-19 (46).jpg 2020-03-26 12:01:22        41942\n",
            "Dataset All Augmented/Non-COVID-19/Non-COVID-19 (460).jpg 2020-03-26 12:00:58        45893\n",
            "Dataset All Augmented/Non-COVID-19/Non-COVID-19 (461).jpg 2020-03-26 12:00:58        38830\n",
            "Dataset All Augmented/Non-COVID-19/Non-COVID-19 (462).jpg 2020-03-26 12:00:58        38869\n",
            "Dataset All Augmented/Non-COVID-19/Non-COVID-19 (463).jpg 2020-03-26 12:00:58        40251\n",
            "Dataset All Augmented/Non-COVID-19/Non-COVID-19 (464).jpg 2020-03-26 12:00:58        38671\n",
            "Dataset All Augmented/Non-COVID-19/Non-COVID-19 (465).jpg 2020-03-26 12:00:58        42452\n",
            "Dataset All Augmented/Non-COVID-19/Non-COVID-19 (466).jpg 2020-03-26 12:00:58        40544\n",
            "Dataset All Augmented/Non-COVID-19/Non-COVID-19 (467).jpg 2020-03-26 12:00:58        41339\n",
            "Dataset All Augmented/Non-COVID-19/Non-COVID-19 (468).jpg 2020-03-26 12:00:58        40986\n",
            "Dataset All Augmented/Non-COVID-19/Non-COVID-19 (469).jpg 2020-03-26 12:01:00        43303\n",
            "Dataset All Augmented/Non-COVID-19/Non-COVID-19 (47).jpeg 2020-03-26 12:01:28        42749\n",
            "Dataset All Augmented/Non-COVID-19/Non-COVID-19 (47).jpg 2020-03-26 12:01:24        33226\n",
            "Dataset All Augmented/Non-COVID-19/Non-COVID-19 (470).jpg 2020-03-26 12:01:00        48135\n",
            "Dataset All Augmented/Non-COVID-19/Non-COVID-19 (471).jpg 2020-03-26 12:01:00        48127\n",
            "Dataset All Augmented/Non-COVID-19/Non-COVID-19 (472).jpg 2020-03-26 12:01:00        48216\n",
            "Dataset All Augmented/Non-COVID-19/Non-COVID-19 (473).jpg 2020-03-26 12:01:00        48213\n",
            "Dataset All Augmented/Non-COVID-19/Non-COVID-19 (474).jpg 2020-03-26 12:01:00        48203\n",
            "Dataset All Augmented/Non-COVID-19/Non-COVID-19 (475).jpg 2020-03-26 12:01:00        47992\n",
            "Dataset All Augmented/Non-COVID-19/Non-COVID-19 (476).jpg 2020-03-26 12:01:00        48072\n",
            "Dataset All Augmented/Non-COVID-19/Non-COVID-19 (477).jpg 2020-03-26 12:01:00        47669\n",
            "Dataset All Augmented/Non-COVID-19/Non-COVID-19 (478).jpg 2020-03-26 12:01:00        48079\n",
            "Dataset All Augmented/Non-COVID-19/Non-COVID-19 (479).jpg 2020-03-26 12:01:00        38398\n",
            "Dataset All Augmented/Non-COVID-19/Non-COVID-19 (48).jpeg 2020-03-26 12:01:28        43821\n",
            "Dataset All Augmented/Non-COVID-19/Non-COVID-19 (48).jpg 2020-03-26 12:01:24        35944\n",
            "Dataset All Augmented/Non-COVID-19/Non-COVID-19 (480).jpg 2020-03-26 12:01:00        40038\n",
            "Dataset All Augmented/Non-COVID-19/Non-COVID-19 (481).jpg 2020-03-26 12:01:00        41724\n",
            "Dataset All Augmented/Non-COVID-19/Non-COVID-19 (482).jpg 2020-03-26 12:01:00        39651\n",
            "Dataset All Augmented/Non-COVID-19/Non-COVID-19 (483).jpg 2020-03-26 12:01:00        42026\n",
            "Dataset All Augmented/Non-COVID-19/Non-COVID-19 (484).jpg 2020-03-26 12:01:00        50445\n",
            "Dataset All Augmented/Non-COVID-19/Non-COVID-19 (485).jpg 2020-03-26 12:01:02        40915\n",
            "Dataset All Augmented/Non-COVID-19/Non-COVID-19 (486).jpg 2020-03-26 12:01:02        41064\n",
            "Dataset All Augmented/Non-COVID-19/Non-COVID-19 (487).jpg 2020-03-26 12:01:02        48996\n",
            "Dataset All Augmented/Non-COVID-19/Non-COVID-19 (488).jpg 2020-03-26 12:01:02        50240\n",
            "Dataset All Augmented/Non-COVID-19/Non-COVID-19 (489).jpg 2020-03-26 12:01:02        50249\n",
            "Dataset All Augmented/Non-COVID-19/Non-COVID-19 (49).jpg 2020-03-26 12:01:24        36938\n",
            "Dataset All Augmented/Non-COVID-19/Non-COVID-19 (490).jpg 2020-03-26 12:01:02        50600\n",
            "Dataset All Augmented/Non-COVID-19/Non-COVID-19 (491).jpg 2020-03-26 12:01:02        50596\n",
            "Dataset All Augmented/Non-COVID-19/Non-COVID-19 (492).jpg 2020-03-26 12:01:02        50591\n",
            "Dataset All Augmented/Non-COVID-19/Non-COVID-19 (493).jpg 2020-03-26 12:01:02        50077\n",
            "Dataset All Augmented/Non-COVID-19/Non-COVID-19 (494).jpg 2020-03-26 12:01:02        50237\n",
            "Dataset All Augmented/Non-COVID-19/Non-COVID-19 (495).jpg 2020-03-26 12:01:02        50011\n",
            "Dataset All Augmented/Non-COVID-19/Non-COVID-19 (496).jpg 2020-03-26 12:01:02        50520\n",
            "Dataset All Augmented/Non-COVID-19/Non-COVID-19 (497).jpg 2020-03-26 12:01:02        39722\n",
            "Dataset All Augmented/Non-COVID-19/Non-COVID-19 (498).jpg 2020-03-26 12:01:02        41330\n",
            "Dataset All Augmented/Non-COVID-19/Non-COVID-19 (499).jpg 2020-03-26 12:01:02        42183\n",
            "Dataset All Augmented/Non-COVID-19/Non-COVID-19 (5).jpeg 2020-03-26 12:01:26        42405\n",
            "Dataset All Augmented/Non-COVID-19/Non-COVID-19 (5).jpg 2020-03-26 12:00:50        41149\n",
            "Dataset All Augmented/Non-COVID-19/Non-COVID-19 (50).jpg 2020-03-26 12:01:24        35888\n",
            "Dataset All Augmented/Non-COVID-19/Non-COVID-19 (500).jpg 2020-03-26 12:01:02        42074\n",
            "Dataset All Augmented/Non-COVID-19/Non-COVID-19 (501).jpg 2020-03-26 12:01:04        45903\n",
            "Dataset All Augmented/Non-COVID-19/Non-COVID-19 (502).jpg 2020-03-26 12:01:04        43658\n",
            "Dataset All Augmented/Non-COVID-19/Non-COVID-19 (503).jpg 2020-03-26 12:01:04        51996\n",
            "Dataset All Augmented/Non-COVID-19/Non-COVID-19 (504).jpg 2020-03-26 12:01:04        54891\n",
            "Dataset All Augmented/Non-COVID-19/Non-COVID-19 (505).jpg 2020-03-26 12:01:04        44438\n",
            "Dataset All Augmented/Non-COVID-19/Non-COVID-19 (506).jpg 2020-03-26 12:01:04        43669\n",
            "Dataset All Augmented/Non-COVID-19/Non-COVID-19 (507).jpg 2020-03-26 12:01:04        43678\n",
            "Dataset All Augmented/Non-COVID-19/Non-COVID-19 (508).jpg 2020-03-26 12:01:04        43430\n",
            "Dataset All Augmented/Non-COVID-19/Non-COVID-19 (509).jpg 2020-03-26 12:01:04        43423\n",
            "Dataset All Augmented/Non-COVID-19/Non-COVID-19 (51).jpg 2020-03-26 12:01:26        42484\n",
            "Dataset All Augmented/Non-COVID-19/Non-COVID-19 (510).jpg 2020-03-26 12:01:04        43424\n",
            "Dataset All Augmented/Non-COVID-19/Non-COVID-19 (511).jpg 2020-03-26 12:01:04        43681\n",
            "Dataset All Augmented/Non-COVID-19/Non-COVID-19 (512).jpg 2020-03-26 12:01:04        43663\n",
            "Dataset All Augmented/Non-COVID-19/Non-COVID-19 (513).jpg 2020-03-26 12:01:04        43087\n",
            "Dataset All Augmented/Non-COVID-19/Non-COVID-19 (514).jpg 2020-03-26 12:01:04        43449\n",
            "Dataset All Augmented/Non-COVID-19/Non-COVID-19 (515).jpg 2020-03-26 12:01:04        35929\n",
            "Dataset All Augmented/Non-COVID-19/Non-COVID-19 (516).jpg 2020-03-26 12:01:04        36962\n",
            "Dataset All Augmented/Non-COVID-19/Non-COVID-19 (517).jpg 2020-03-26 12:01:04        37364\n",
            "Dataset All Augmented/Non-COVID-19/Non-COVID-19 (518).jpg 2020-03-26 12:01:04        36464\n",
            "Dataset All Augmented/Non-COVID-19/Non-COVID-19 (519).jpg 2020-03-26 12:01:04        39787\n",
            "Dataset All Augmented/Non-COVID-19/Non-COVID-19 (52).jpg 2020-03-26 12:01:26        40954\n",
            "Dataset All Augmented/Non-COVID-19/Non-COVID-19 (520).jpg 2020-03-26 12:01:04        37952\n",
            "Dataset All Augmented/Non-COVID-19/Non-COVID-19 (521).jpg 2020-03-26 12:01:04        45273\n",
            "Dataset All Augmented/Non-COVID-19/Non-COVID-19 (522).jpg 2020-03-26 12:01:04        45894\n",
            "Dataset All Augmented/Non-COVID-19/Non-COVID-19 (523).jpg 2020-03-26 12:01:04        42735\n",
            "Dataset All Augmented/Non-COVID-19/Non-COVID-19 (524).jpg 2020-03-26 12:01:04        49617\n",
            "Dataset All Augmented/Non-COVID-19/Non-COVID-19 (525).jpg 2020-03-26 12:01:04        49626\n",
            "Dataset All Augmented/Non-COVID-19/Non-COVID-19 (526).jpg 2020-03-26 12:01:04        49449\n",
            "Dataset All Augmented/Non-COVID-19/Non-COVID-19 (527).jpg 2020-03-26 12:01:04        49445\n",
            "Dataset All Augmented/Non-COVID-19/Non-COVID-19 (528).jpg 2020-03-26 12:01:04        49451\n",
            "Dataset All Augmented/Non-COVID-19/Non-COVID-19 (529).jpg 2020-03-26 12:01:04        49493\n",
            "Dataset All Augmented/Non-COVID-19/Non-COVID-19 (53).jpg 2020-03-26 12:01:26        44237\n",
            "Dataset All Augmented/Non-COVID-19/Non-COVID-19 (530).jpg 2020-03-26 12:01:04        49615\n",
            "Dataset All Augmented/Non-COVID-19/Non-COVID-19 (531).jpg 2020-03-26 12:01:04        48756\n",
            "Dataset All Augmented/Non-COVID-19/Non-COVID-19 (532).jpg 2020-03-26 12:01:06        49382\n",
            "Dataset All Augmented/Non-COVID-19/Non-COVID-19 (533).jpg 2020-03-26 12:01:06        40395\n",
            "Dataset All Augmented/Non-COVID-19/Non-COVID-19 (534).jpg 2020-03-26 12:01:06        40626\n",
            "Dataset All Augmented/Non-COVID-19/Non-COVID-19 (535).jpg 2020-03-26 12:01:06        43157\n",
            "Dataset All Augmented/Non-COVID-19/Non-COVID-19 (536).jpg 2020-03-26 12:01:06        40487\n",
            "Dataset All Augmented/Non-COVID-19/Non-COVID-19 (537).jpg 2020-03-26 12:01:06        43020\n",
            "Dataset All Augmented/Non-COVID-19/Non-COVID-19 (538).jpg 2020-03-26 12:01:06        46928\n",
            "Dataset All Augmented/Non-COVID-19/Non-COVID-19 (539).jpg 2020-03-26 12:01:06        46928\n",
            "Dataset All Augmented/Non-COVID-19/Non-COVID-19 (54).jpg 2020-03-26 12:01:26        43210\n",
            "Dataset All Augmented/Non-COVID-19/Non-COVID-19 (540).jpg 2020-03-26 12:01:06        53326\n",
            "Dataset All Augmented/Non-COVID-19/Non-COVID-19 (541).jpg 2020-03-26 12:01:06        49287\n",
            "Dataset All Augmented/Non-COVID-19/Non-COVID-19 (542).jpg 2020-03-26 12:01:06        49844\n",
            "Dataset All Augmented/Non-COVID-19/Non-COVID-19 (543).jpg 2020-03-26 12:01:06        49846\n",
            "Dataset All Augmented/Non-COVID-19/Non-COVID-19 (544).jpg 2020-03-26 12:01:06        49339\n",
            "Dataset All Augmented/Non-COVID-19/Non-COVID-19 (545).jpg 2020-03-26 12:01:06        49338\n",
            "Dataset All Augmented/Non-COVID-19/Non-COVID-19 (546).jpg 2020-03-26 12:01:06        49345\n",
            "Dataset All Augmented/Non-COVID-19/Non-COVID-19 (547).jpg 2020-03-26 12:01:06        49687\n",
            "Dataset All Augmented/Non-COVID-19/Non-COVID-19 (548).jpg 2020-03-26 12:01:06        49806\n",
            "Dataset All Augmented/Non-COVID-19/Non-COVID-19 (549).jpg 2020-03-26 12:01:06        48784\n",
            "Dataset All Augmented/Non-COVID-19/Non-COVID-19 (55).jpg 2020-03-26 12:01:26        41046\n",
            "Dataset All Augmented/Non-COVID-19/Non-COVID-19 (550).jpg 2020-03-26 12:01:06        49297\n",
            "Dataset All Augmented/Non-COVID-19/Non-COVID-19 (551).jpg 2020-03-26 12:01:06        39224\n",
            "Dataset All Augmented/Non-COVID-19/Non-COVID-19 (552).jpg 2020-03-26 12:01:06        41206\n",
            "Dataset All Augmented/Non-COVID-19/Non-COVID-19 (553).jpg 2020-03-26 12:01:06        42900\n",
            "Dataset All Augmented/Non-COVID-19/Non-COVID-19 (554).jpg 2020-03-26 12:01:06        40518\n",
            "Dataset All Augmented/Non-COVID-19/Non-COVID-19 (555).jpg 2020-03-26 12:01:06        45642\n",
            "Dataset All Augmented/Non-COVID-19/Non-COVID-19 (556).jpg 2020-03-26 12:01:06        42128\n",
            "Dataset All Augmented/Non-COVID-19/Non-COVID-19 (557).jpg 2020-03-26 12:01:06        46095\n",
            "Dataset All Augmented/Non-COVID-19/Non-COVID-19 (558).jpg 2020-03-26 12:01:06        42424\n",
            "Dataset All Augmented/Non-COVID-19/Non-COVID-19 (559).jpg 2020-03-26 12:01:06        46250\n",
            "Dataset All Augmented/Non-COVID-19/Non-COVID-19 (56).jpg 2020-03-26 12:01:26        42188\n",
            "Dataset All Augmented/Non-COVID-19/Non-COVID-19 (560).jpg 2020-03-26 12:01:06        51281\n",
            "Dataset All Augmented/Non-COVID-19/Non-COVID-19 (561).jpg 2020-03-26 12:01:06        51276\n",
            "Dataset All Augmented/Non-COVID-19/Non-COVID-19 (562).jpg 2020-03-26 12:01:06        51379\n",
            "Dataset All Augmented/Non-COVID-19/Non-COVID-19 (563).jpg 2020-03-26 12:01:06        51376\n",
            "Dataset All Augmented/Non-COVID-19/Non-COVID-19 (564).jpg 2020-03-26 12:01:06        51386\n",
            "Dataset All Augmented/Non-COVID-19/Non-COVID-19 (565).jpg 2020-03-26 12:01:06        51076\n",
            "Dataset All Augmented/Non-COVID-19/Non-COVID-19 (566).jpg 2020-03-26 12:01:06        51283\n",
            "Dataset All Augmented/Non-COVID-19/Non-COVID-19 (567).jpg 2020-03-26 12:01:06        50712\n",
            "Dataset All Augmented/Non-COVID-19/Non-COVID-19 (568).jpg 2020-03-26 12:01:08        51353\n",
            "Dataset All Augmented/Non-COVID-19/Non-COVID-19 (569).jpg 2020-03-26 12:01:08        40812\n",
            "Dataset All Augmented/Non-COVID-19/Non-COVID-19 (57).jpg 2020-03-26 12:01:26        42180\n",
            "Dataset All Augmented/Non-COVID-19/Non-COVID-19 (570).jpg 2020-03-26 12:01:08        41066\n",
            "Dataset All Augmented/Non-COVID-19/Non-COVID-19 (571).jpg 2020-03-26 12:01:08        43781\n",
            "Dataset All Augmented/Non-COVID-19/Non-COVID-19 (572).jpg 2020-03-26 12:01:08        42482\n",
            "Dataset All Augmented/Non-COVID-19/Non-COVID-19 (573).jpg 2020-03-26 12:01:08        47543\n",
            "Dataset All Augmented/Non-COVID-19/Non-COVID-19 (574).jpg 2020-03-26 12:01:08        43518\n",
            "Dataset All Augmented/Non-COVID-19/Non-COVID-19 (575).jpg 2020-03-26 12:01:08        46145\n",
            "Dataset All Augmented/Non-COVID-19/Non-COVID-19 (576).jpg 2020-03-26 12:01:08        44026\n",
            "Dataset All Augmented/Non-COVID-19/Non-COVID-19 (577).jpg 2020-03-26 12:01:08        43329\n",
            "Dataset All Augmented/Non-COVID-19/Non-COVID-19 (578).jpg 2020-03-26 12:01:08        47940\n",
            "Dataset All Augmented/Non-COVID-19/Non-COVID-19 (579).jpg 2020-03-26 12:01:08        47934\n",
            "Dataset All Augmented/Non-COVID-19/Non-COVID-19 (58).jpg 2020-03-26 12:01:26        42311\n",
            "Dataset All Augmented/Non-COVID-19/Non-COVID-19 (580).jpg 2020-03-26 12:01:08        47844\n",
            "Dataset All Augmented/Non-COVID-19/Non-COVID-19 (581).jpg 2020-03-26 12:01:08        47838\n",
            "Dataset All Augmented/Non-COVID-19/Non-COVID-19 (582).jpg 2020-03-26 12:01:08        47858\n",
            "Dataset All Augmented/Non-COVID-19/Non-COVID-19 (583).jpg 2020-03-26 12:01:08        47908\n",
            "Dataset All Augmented/Non-COVID-19/Non-COVID-19 (584).jpg 2020-03-26 12:01:08        47918\n",
            "Dataset All Augmented/Non-COVID-19/Non-COVID-19 (585).jpg 2020-03-26 12:01:08        47323\n",
            "Dataset All Augmented/Non-COVID-19/Non-COVID-19 (586).jpg 2020-03-26 12:01:08        47899\n",
            "Dataset All Augmented/Non-COVID-19/Non-COVID-19 (587).jpg 2020-03-26 12:01:08        39387\n",
            "Dataset All Augmented/Non-COVID-19/Non-COVID-19 (588).jpg 2020-03-26 12:01:08        39179\n",
            "Dataset All Augmented/Non-COVID-19/Non-COVID-19 (589).jpg 2020-03-26 12:01:08        42051\n",
            "Dataset All Augmented/Non-COVID-19/Non-COVID-19 (59).jpg 2020-03-26 12:01:26        42308\n",
            "Dataset All Augmented/Non-COVID-19/Non-COVID-19 (590).jpg 2020-03-26 12:01:08        38595\n",
            "Dataset All Augmented/Non-COVID-19/Non-COVID-19 (591).jpg 2020-03-26 12:01:08        51500\n",
            "Dataset All Augmented/Non-COVID-19/Non-COVID-19 (592).jpg 2020-03-26 12:01:08        43490\n",
            "Dataset All Augmented/Non-COVID-19/Non-COVID-19 (593).jpg 2020-03-26 12:01:08        50180\n",
            "Dataset All Augmented/Non-COVID-19/Non-COVID-19 (594).jpg 2020-03-26 12:01:08        44642\n",
            "Dataset All Augmented/Non-COVID-19/Non-COVID-19 (595).jpg 2020-03-26 12:01:08        48696\n",
            "Dataset All Augmented/Non-COVID-19/Non-COVID-19 (596).jpg 2020-03-26 12:01:08        42286\n",
            "Dataset All Augmented/Non-COVID-19/Non-COVID-19 (597).jpg 2020-03-26 12:01:08        42289\n",
            "Dataset All Augmented/Non-COVID-19/Non-COVID-19 (598).jpg 2020-03-26 12:01:08        41831\n",
            "Dataset All Augmented/Non-COVID-19/Non-COVID-19 (599).jpg 2020-03-26 12:01:08        41834\n",
            "Dataset All Augmented/Non-COVID-19/Non-COVID-19 (6).jpeg 2020-03-26 12:01:26        42188\n",
            "Dataset All Augmented/Non-COVID-19/Non-COVID-19 (6).jpg 2020-03-26 12:00:52        41139\n",
            "Dataset All Augmented/Non-COVID-19/Non-COVID-19 (60).jpg 2020-03-26 12:01:26        42298\n",
            "Dataset All Augmented/Non-COVID-19/Non-COVID-19 (600).jpg 2020-03-26 12:01:08        41829\n",
            "Dataset All Augmented/Non-COVID-19/Non-COVID-19 (601).jpg 2020-03-26 12:01:08        42258\n",
            "Dataset All Augmented/Non-COVID-19/Non-COVID-19 (602).jpg 2020-03-26 12:01:08        42339\n",
            "Dataset All Augmented/Non-COVID-19/Non-COVID-19 (603).jpg 2020-03-26 12:01:08        41636\n",
            "Dataset All Augmented/Non-COVID-19/Non-COVID-19 (604).jpg 2020-03-26 12:01:08        41885\n",
            "Dataset All Augmented/Non-COVID-19/Non-COVID-19 (605).jpg 2020-03-26 12:01:10        33821\n",
            "Dataset All Augmented/Non-COVID-19/Non-COVID-19 (606).jpg 2020-03-26 12:01:10        33169\n",
            "Dataset All Augmented/Non-COVID-19/Non-COVID-19 (607).jpg 2020-03-26 12:01:10        38101\n",
            "Dataset All Augmented/Non-COVID-19/Non-COVID-19 (608).jpg 2020-03-26 12:01:10        36158\n",
            "Dataset All Augmented/Non-COVID-19/Non-COVID-19 (609).jpg 2020-03-26 12:01:10        38477\n",
            "Dataset All Augmented/Non-COVID-19/Non-COVID-19 (61).jpg 2020-03-26 12:01:26        42040\n",
            "Dataset All Augmented/Non-COVID-19/Non-COVID-19 (610).jpg 2020-03-26 12:01:10        38058\n",
            "Dataset All Augmented/Non-COVID-19/Non-COVID-19 (611).jpg 2020-03-26 12:01:10        39120\n",
            "Dataset All Augmented/Non-COVID-19/Non-COVID-19 (612).jpg 2020-03-26 12:01:10        37789\n",
            "Dataset All Augmented/Non-COVID-19/Non-COVID-19 (613).jpg 2020-03-26 12:01:10        40810\n",
            "Dataset All Augmented/Non-COVID-19/Non-COVID-19 (614).jpg 2020-03-26 12:01:10        43444\n",
            "Dataset All Augmented/Non-COVID-19/Non-COVID-19 (615).jpg 2020-03-26 12:01:10        43460\n",
            "Dataset All Augmented/Non-COVID-19/Non-COVID-19 (616).jpg 2020-03-26 12:01:10        43173\n",
            "Dataset All Augmented/Non-COVID-19/Non-COVID-19 (617).jpg 2020-03-26 12:01:10        43179\n",
            "Dataset All Augmented/Non-COVID-19/Non-COVID-19 (618).jpg 2020-03-26 12:01:10        43165\n",
            "Dataset All Augmented/Non-COVID-19/Non-COVID-19 (619).jpg 2020-03-26 12:01:12        43350\n",
            "Dataset All Augmented/Non-COVID-19/Non-COVID-19 (62).jpg 2020-03-26 12:01:26        42290\n",
            "Dataset All Augmented/Non-COVID-19/Non-COVID-19 (620).jpg 2020-03-26 12:01:12        43542\n",
            "Dataset All Augmented/Non-COVID-19/Non-COVID-19 (621).jpg 2020-03-26 12:01:12        42794\n",
            "Dataset All Augmented/Non-COVID-19/Non-COVID-19 (622).jpg 2020-03-26 12:01:12        43196\n",
            "Dataset All Augmented/Non-COVID-19/Non-COVID-19 (623).jpg 2020-03-26 12:01:12        34671\n",
            "Dataset All Augmented/Non-COVID-19/Non-COVID-19 (624).jpg 2020-03-26 12:01:12        34841\n",
            "Dataset All Augmented/Non-COVID-19/Non-COVID-19 (625).jpg 2020-03-26 12:01:12        37783\n",
            "Dataset All Augmented/Non-COVID-19/Non-COVID-19 (626).jpg 2020-03-26 12:01:12        36502\n",
            "Dataset All Augmented/Non-COVID-19/Non-COVID-19 (627).jpg 2020-03-26 12:01:12        46067\n",
            "Dataset All Augmented/Non-COVID-19/Non-COVID-19 (628).jpg 2020-03-26 12:01:12        48794\n",
            "Dataset All Augmented/Non-COVID-19/Non-COVID-19 (629).jpg 2020-03-26 12:01:12        39263\n",
            "Dataset All Augmented/Non-COVID-19/Non-COVID-19 (63).jpg 2020-03-26 12:01:26        41875\n",
            "Dataset All Augmented/Non-COVID-19/Non-COVID-19 (630).jpg 2020-03-26 12:01:12        45612\n",
            "Dataset All Augmented/Non-COVID-19/Non-COVID-19 (631).jpg 2020-03-26 12:01:12        45108\n",
            "Dataset All Augmented/Non-COVID-19/Non-COVID-19 (632).jpg 2020-03-26 12:01:12        42748\n",
            "Dataset All Augmented/Non-COVID-19/Non-COVID-19 (633).jpg 2020-03-26 12:01:12        42751\n",
            "Dataset All Augmented/Non-COVID-19/Non-COVID-19 (634).jpg 2020-03-26 12:01:12        42328\n",
            "Dataset All Augmented/Non-COVID-19/Non-COVID-19 (635).jpg 2020-03-26 12:01:14        42329\n",
            "Dataset All Augmented/Non-COVID-19/Non-COVID-19 (636).jpg 2020-03-26 12:01:14        42323\n",
            "Dataset All Augmented/Non-COVID-19/Non-COVID-19 (637).jpg 2020-03-26 12:01:14        42783\n",
            "Dataset All Augmented/Non-COVID-19/Non-COVID-19 (638).jpg 2020-03-26 12:01:14        42804\n",
            "Dataset All Augmented/Non-COVID-19/Non-COVID-19 (639).jpg 2020-03-26 12:01:14        42132\n",
            "Dataset All Augmented/Non-COVID-19/Non-COVID-19 (64).jpg 2020-03-26 12:01:26        42335\n",
            "Dataset All Augmented/Non-COVID-19/Non-COVID-19 (640).jpg 2020-03-26 12:01:14        42418\n",
            "Dataset All Augmented/Non-COVID-19/Non-COVID-19 (641).jpg 2020-03-26 12:01:14        34662\n",
            "Dataset All Augmented/Non-COVID-19/Non-COVID-19 (642).jpg 2020-03-26 12:01:14        35119\n",
            "Dataset All Augmented/Non-COVID-19/Non-COVID-19 (643).jpg 2020-03-26 12:01:14        37994\n",
            "Dataset All Augmented/Non-COVID-19/Non-COVID-19 (644).jpg 2020-03-26 12:01:14        35275\n",
            "Dataset All Augmented/Non-COVID-19/Non-COVID-19 (645).jpg 2020-03-26 12:01:14        37111\n",
            "Dataset All Augmented/Non-COVID-19/Non-COVID-19 (646).jpg 2020-03-26 12:01:14        41273\n",
            "Dataset All Augmented/Non-COVID-19/Non-COVID-19 (647).jpg 2020-03-26 12:01:14        44418\n",
            "Dataset All Augmented/Non-COVID-19/Non-COVID-19 (648).jpg 2020-03-26 12:01:14        37438\n",
            "Dataset All Augmented/Non-COVID-19/Non-COVID-19 (649).jpg 2020-03-26 12:01:14        42023\n",
            "Dataset All Augmented/Non-COVID-19/Non-COVID-19 (65).jpg 2020-03-26 12:00:24        32994\n",
            "Dataset All Augmented/Non-COVID-19/Non-COVID-19 (650).jpg 2020-03-26 12:01:14        43826\n",
            "Dataset All Augmented/Non-COVID-19/Non-COVID-19 (651).jpg 2020-03-26 12:01:14        43825\n",
            "Dataset All Augmented/Non-COVID-19/Non-COVID-19 (652).jpg 2020-03-26 12:01:14        43453\n",
            "Dataset All Augmented/Non-COVID-19/Non-COVID-19 (653).jpg 2020-03-26 12:01:14        43445\n",
            "Dataset All Augmented/Non-COVID-19/Non-COVID-19 (654).jpg 2020-03-26 12:01:14        43449\n",
            "Dataset All Augmented/Non-COVID-19/Non-COVID-19 (655).jpg 2020-03-26 12:01:16        43786\n",
            "Dataset All Augmented/Non-COVID-19/Non-COVID-19 (656).jpg 2020-03-26 12:01:16        43863\n",
            "Dataset All Augmented/Non-COVID-19/Non-COVID-19 (657).jpg 2020-03-26 12:01:16        43147\n",
            "Dataset All Augmented/Non-COVID-19/Non-COVID-19 (658).jpg 2020-03-26 12:01:16        43522\n",
            "Dataset All Augmented/Non-COVID-19/Non-COVID-19 (659).jpg 2020-03-26 12:01:16        34477\n",
            "Dataset All Augmented/Non-COVID-19/Non-COVID-19 (66).jpg 2020-03-26 12:00:24        34241\n",
            "Dataset All Augmented/Non-COVID-19/Non-COVID-19 (660).jpg 2020-03-26 12:01:16        35363\n",
            "Dataset All Augmented/Non-COVID-19/Non-COVID-19 (661).jpg 2020-03-26 12:01:16        39064\n",
            "Dataset All Augmented/Non-COVID-19/Non-COVID-19 (662).jpg 2020-03-26 12:01:16        36811\n",
            "Dataset All Augmented/Non-COVID-19/Non-COVID-19 (663).jpg 2020-03-26 12:01:16        40059\n",
            "Dataset All Augmented/Non-COVID-19/Non-COVID-19 (664).jpg 2020-03-26 12:01:16        49247\n",
            "Dataset All Augmented/Non-COVID-19/Non-COVID-19 (665).jpg 2020-03-26 12:01:16        48037\n",
            "Dataset All Augmented/Non-COVID-19/Non-COVID-19 (666).jpg 2020-03-26 12:01:16        40107\n",
            "Dataset All Augmented/Non-COVID-19/Non-COVID-19 (667).jpg 2020-03-26 12:01:16        40270\n",
            "Dataset All Augmented/Non-COVID-19/Non-COVID-19 (668).jpg 2020-03-26 12:01:16        38070\n",
            "Dataset All Augmented/Non-COVID-19/Non-COVID-19 (669).jpg 2020-03-26 12:01:16        38073\n",
            "Dataset All Augmented/Non-COVID-19/Non-COVID-19 (67).jpg 2020-03-26 12:00:24        37324\n",
            "Dataset All Augmented/Non-COVID-19/Non-COVID-19 (670).jpg 2020-03-26 12:01:16        37260\n",
            "Dataset All Augmented/Non-COVID-19/Non-COVID-19 (671).jpg 2020-03-26 12:01:16        37263\n",
            "Dataset All Augmented/Non-COVID-19/Non-COVID-19 (672).jpg 2020-03-26 12:01:16        37264\n",
            "Dataset All Augmented/Non-COVID-19/Non-COVID-19 (673).jpg 2020-03-26 12:01:16        38079\n",
            "Dataset All Augmented/Non-COVID-19/Non-COVID-19 (674).jpg 2020-03-26 12:01:16        38192\n",
            "Dataset All Augmented/Non-COVID-19/Non-COVID-19 (675).jpg 2020-03-26 12:01:16        37115\n",
            "Dataset All Augmented/Non-COVID-19/Non-COVID-19 (676).jpg 2020-03-26 12:01:16        37442\n",
            "Dataset All Augmented/Non-COVID-19/Non-COVID-19 (677).jpg 2020-03-26 12:01:16        30627\n",
            "Dataset All Augmented/Non-COVID-19/Non-COVID-19 (678).jpg 2020-03-26 12:01:16        30891\n",
            "Dataset All Augmented/Non-COVID-19/Non-COVID-19 (679).jpg 2020-03-26 12:01:16        33147\n",
            "Dataset All Augmented/Non-COVID-19/Non-COVID-19 (68).jpg 2020-03-26 12:00:24        33493\n",
            "Dataset All Augmented/Non-COVID-19/Non-COVID-19 (680).jpg 2020-03-26 12:01:18        32750\n",
            "Dataset All Augmented/Non-COVID-19/Non-COVID-19 (681).jpg 2020-03-26 12:01:18        40937\n",
            "Dataset All Augmented/Non-COVID-19/Non-COVID-19 (682).jpg 2020-03-26 12:01:18        34516\n",
            "Dataset All Augmented/Non-COVID-19/Non-COVID-19 (683).jpg 2020-03-26 12:01:18        40395\n",
            "Dataset All Augmented/Non-COVID-19/Non-COVID-19 (684).jpg 2020-03-26 12:01:18        34367\n",
            "Dataset All Augmented/Non-COVID-19/Non-COVID-19 (685).jpg 2020-03-26 12:01:18        37797\n",
            "Dataset All Augmented/Non-COVID-19/Non-COVID-19 (686).jpg 2020-03-26 12:01:18        47940\n",
            "Dataset All Augmented/Non-COVID-19/Non-COVID-19 (687).jpg 2020-03-26 12:01:18        47929\n",
            "Dataset All Augmented/Non-COVID-19/Non-COVID-19 (688).jpg 2020-03-26 12:01:18        47074\n",
            "Dataset All Augmented/Non-COVID-19/Non-COVID-19 (689).jpg 2020-03-26 12:01:18        47072\n",
            "Dataset All Augmented/Non-COVID-19/Non-COVID-19 (69).jpg 2020-03-26 12:00:24        39455\n",
            "Dataset All Augmented/Non-COVID-19/Non-COVID-19 (690).jpg 2020-03-26 12:01:18        47082\n",
            "Dataset All Augmented/Non-COVID-19/Non-COVID-19 (691).jpg 2020-03-26 12:01:18        47852\n",
            "Dataset All Augmented/Non-COVID-19/Non-COVID-19 (692).jpg 2020-03-26 12:01:18        47926\n",
            "Dataset All Augmented/Non-COVID-19/Non-COVID-19 (693).jpg 2020-03-26 12:01:18        46733\n",
            "Dataset All Augmented/Non-COVID-19/Non-COVID-19 (694).jpg 2020-03-26 12:01:18        47034\n",
            "Dataset All Augmented/Non-COVID-19/Non-COVID-19 (695).jpg 2020-03-26 12:01:18        38761\n",
            "Dataset All Augmented/Non-COVID-19/Non-COVID-19 (696).jpg 2020-03-26 12:01:18        39609\n",
            "Dataset All Augmented/Non-COVID-19/Non-COVID-19 (697).jpg 2020-03-26 12:01:18        40832\n",
            "Dataset All Augmented/Non-COVID-19/Non-COVID-19 (698).jpg 2020-03-26 12:01:18        38704\n",
            "Dataset All Augmented/Non-COVID-19/Non-COVID-19 (699).jpg 2020-03-26 12:01:18        47927\n",
            "Dataset All Augmented/Non-COVID-19/Non-COVID-19 (7).jpeg 2020-03-26 12:01:26        42364\n",
            "Dataset All Augmented/Non-COVID-19/Non-COVID-19 (7).jpg 2020-03-26 12:00:52        42491\n",
            "Dataset All Augmented/Non-COVID-19/Non-COVID-19 (70).jpg 2020-03-26 12:00:24        43922\n",
            "Dataset All Augmented/Non-COVID-19/Non-COVID-19 (700).jpg 2020-03-26 12:01:18        43061\n",
            "Dataset All Augmented/Non-COVID-19/Non-COVID-19 (701).jpg 2020-03-26 12:01:18        49346\n",
            "Dataset All Augmented/Non-COVID-19/Non-COVID-19 (702).jpg 2020-03-26 12:01:18        43065\n",
            "Dataset All Augmented/Non-COVID-19/Non-COVID-19 (703).jpg 2020-03-26 12:01:18        41506\n",
            "Dataset All Augmented/Non-COVID-19/Non-COVID-19 (704).jpg 2020-03-26 12:01:18        37982\n",
            "Dataset All Augmented/Non-COVID-19/Non-COVID-19 (705).jpg 2020-03-26 12:01:18        37977\n",
            "Dataset All Augmented/Non-COVID-19/Non-COVID-19 (706).jpg 2020-03-26 12:01:18        37605\n",
            "Dataset All Augmented/Non-COVID-19/Non-COVID-19 (707).jpg 2020-03-26 12:01:18        37598\n",
            "Dataset All Augmented/Non-COVID-19/Non-COVID-19 (708).jpg 2020-03-26 12:01:18        37595\n",
            "Dataset All Augmented/Non-COVID-19/Non-COVID-19 (709).jpg 2020-03-26 12:01:18        38006\n",
            "Dataset All Augmented/Non-COVID-19/Non-COVID-19 (71).jpg 2020-03-26 12:00:24        39792\n",
            "Dataset All Augmented/Non-COVID-19/Non-COVID-19 (710).jpg 2020-03-26 12:01:20        38056\n",
            "Dataset All Augmented/Non-COVID-19/Non-COVID-19 (711).jpg 2020-03-26 12:01:20        37435\n",
            "Dataset All Augmented/Non-COVID-19/Non-COVID-19 (712).jpg 2020-03-26 12:01:20        37673\n",
            "Dataset All Augmented/Non-COVID-19/Non-COVID-19 (713).jpg 2020-03-26 12:01:20        31927\n",
            "Dataset All Augmented/Non-COVID-19/Non-COVID-19 (714).jpg 2020-03-26 12:01:20        29446\n",
            "Dataset All Augmented/Non-COVID-19/Non-COVID-19 (715).jpg 2020-03-26 12:01:20        35747\n",
            "Dataset All Augmented/Non-COVID-19/Non-COVID-19 (716).jpg 2020-03-26 12:01:20        31524\n",
            "Dataset All Augmented/Non-COVID-19/Non-COVID-19 (717).jpg 2020-03-26 12:01:20        36317\n",
            "Dataset All Augmented/Non-COVID-19/Non-COVID-19 (718).jpg 2020-03-26 12:01:20        36981\n",
            "Dataset All Augmented/Non-COVID-19/Non-COVID-19 (719).jpg 2020-03-26 12:01:20        39254\n",
            "Dataset All Augmented/Non-COVID-19/Non-COVID-19 (72).jpg 2020-03-26 12:00:24        40694\n",
            "Dataset All Augmented/Non-COVID-19/Non-COVID-19 (720).jpg 2020-03-26 12:01:20        36407\n",
            "Dataset All Augmented/Non-COVID-19/Non-COVID-19 (721).jpg 2020-03-26 12:01:20        42067\n",
            "Dataset All Augmented/Non-COVID-19/Non-COVID-19 (722).jpg 2020-03-26 12:01:20        38521\n",
            "Dataset All Augmented/Non-COVID-19/Non-COVID-19 (723).jpg 2020-03-26 12:01:20        38525\n",
            "Dataset All Augmented/Non-COVID-19/Non-COVID-19 (724).jpg 2020-03-26 12:01:20        37808\n",
            "Dataset All Augmented/Non-COVID-19/Non-COVID-19 (725).jpg 2020-03-26 12:01:20        37814\n",
            "Dataset All Augmented/Non-COVID-19/Non-COVID-19 (726).jpg 2020-03-26 12:01:20        37818\n",
            "Dataset All Augmented/Non-COVID-19/Non-COVID-19 (727).jpg 2020-03-26 12:01:20        38597\n",
            "Dataset All Augmented/Non-COVID-19/Non-COVID-19 (728).jpg 2020-03-26 12:01:20        38587\n",
            "Dataset All Augmented/Non-COVID-19/Non-COVID-19 (729).jpg 2020-03-26 12:01:20        37732\n",
            "Dataset All Augmented/Non-COVID-19/Non-COVID-19 (73).jpg 2020-03-26 12:00:26        39028\n",
            "Dataset All Augmented/Non-COVID-19/Non-COVID-19 (730).jpg 2020-03-26 12:01:20        37932\n",
            "Dataset All Augmented/Non-COVID-19/Non-COVID-19 (731).jpg 2020-03-26 12:01:20        31185\n",
            "Dataset All Augmented/Non-COVID-19/Non-COVID-19 (732).jpg 2020-03-26 12:01:20        32100\n",
            "Dataset All Augmented/Non-COVID-19/Non-COVID-19 (733).jpg 2020-03-26 12:01:20        33491\n",
            "Dataset All Augmented/Non-COVID-19/Non-COVID-19 (734).jpg 2020-03-26 12:01:20        33239\n",
            "Dataset All Augmented/Non-COVID-19/Non-COVID-19 (735).jpg 2020-03-26 12:01:20        42253\n",
            "Dataset All Augmented/Non-COVID-19/Non-COVID-19 (736).jpg 2020-03-26 12:01:20        39602\n",
            "Dataset All Augmented/Non-COVID-19/Non-COVID-19 (737).jpg 2020-03-26 12:01:20        35911\n",
            "Dataset All Augmented/Non-COVID-19/Non-COVID-19 (738).jpg 2020-03-26 12:01:20        34440\n",
            "Dataset All Augmented/Non-COVID-19/Non-COVID-19 (739).jpg 2020-03-26 12:01:20        40032\n",
            "Dataset All Augmented/Non-COVID-19/Non-COVID-19 (74).jpg 2020-03-26 12:00:26        42362\n",
            "Dataset All Augmented/Non-COVID-19/Non-COVID-19 (740).jpg 2020-03-26 12:01:20        43881\n",
            "Dataset All Augmented/Non-COVID-19/Non-COVID-19 (741).jpg 2020-03-26 12:01:20        43883\n",
            "Dataset All Augmented/Non-COVID-19/Non-COVID-19 (742).jpg 2020-03-26 12:01:20        43156\n",
            "Dataset All Augmented/Non-COVID-19/Non-COVID-19 (743).jpg 2020-03-26 12:01:20        43145\n",
            "Dataset All Augmented/Non-COVID-19/Non-COVID-19 (744).jpg 2020-03-26 12:01:20        43159\n",
            "Dataset All Augmented/Non-COVID-19/Non-COVID-19 (745).jpg 2020-03-26 12:01:20        43843\n",
            "Dataset All Augmented/Non-COVID-19/Non-COVID-19 (746).jpg 2020-03-26 12:01:22        43867\n",
            "Dataset All Augmented/Non-COVID-19/Non-COVID-19 (747).jpg 2020-03-26 12:01:22        42868\n",
            "Dataset All Augmented/Non-COVID-19/Non-COVID-19 (748).jpg 2020-03-26 12:01:22        43168\n",
            "Dataset All Augmented/Non-COVID-19/Non-COVID-19 (749).jpg 2020-03-26 12:01:22        33848\n",
            "Dataset All Augmented/Non-COVID-19/Non-COVID-19 (75).jpg 2020-03-26 12:00:26        42362\n",
            "Dataset All Augmented/Non-COVID-19/Non-COVID-19 (750).jpg 2020-03-26 12:01:22        36505\n",
            "Dataset All Augmented/Non-COVID-19/Non-COVID-19 (751).jpg 2020-03-26 12:01:22        38486\n",
            "Dataset All Augmented/Non-COVID-19/Non-COVID-19 (752).jpg 2020-03-26 12:01:22        37236\n",
            "Dataset All Augmented/Non-COVID-19/Non-COVID-19 (753).jpg 2020-03-26 12:01:22        40626\n",
            "Dataset All Augmented/Non-COVID-19/Non-COVID-19 (754).jpg 2020-03-26 12:01:22        38808\n",
            "Dataset All Augmented/Non-COVID-19/Non-COVID-19 (755).jpg 2020-03-26 12:01:22        41106\n",
            "Dataset All Augmented/Non-COVID-19/Non-COVID-19 (756).jpg 2020-03-26 12:01:22        38370\n",
            "Dataset All Augmented/Non-COVID-19/Non-COVID-19 (757).jpg 2020-03-26 12:01:22        41637\n",
            "Dataset All Augmented/Non-COVID-19/Non-COVID-19 (758).jpg 2020-03-26 12:01:22        44569\n",
            "Dataset All Augmented/Non-COVID-19/Non-COVID-19 (759).jpg 2020-03-26 12:01:22        44572\n",
            "Dataset All Augmented/Non-COVID-19/Non-COVID-19 (76).jpg 2020-03-26 12:00:26        42172\n",
            "Dataset All Augmented/Non-COVID-19/Non-COVID-19 (760).jpg 2020-03-26 12:01:22        43879\n",
            "Dataset All Augmented/Non-COVID-19/Non-COVID-19 (761).jpg 2020-03-26 12:01:22        43887\n",
            "Dataset All Augmented/Non-COVID-19/Non-COVID-19 (762).jpg 2020-03-26 12:01:22        43892\n",
            "Dataset All Augmented/Non-COVID-19/Non-COVID-19 (763).jpg 2020-03-26 12:01:22        44468\n",
            "Dataset All Augmented/Non-COVID-19/Non-COVID-19 (764).jpg 2020-03-26 12:01:22        44614\n",
            "Dataset All Augmented/Non-COVID-19/Non-COVID-19 (765).jpg 2020-03-26 12:01:22        43472\n",
            "Dataset All Augmented/Non-COVID-19/Non-COVID-19 (766).jpg 2020-03-26 12:01:22        43841\n",
            "Dataset All Augmented/Non-COVID-19/Non-COVID-19 (767).jpg 2020-03-26 12:01:22        36294\n",
            "Dataset All Augmented/Non-COVID-19/Non-COVID-19 (768).jpg 2020-03-26 12:01:22        36360\n",
            "Dataset All Augmented/Non-COVID-19/Non-COVID-19 (769).jpg 2020-03-26 12:01:22        37466\n",
            "Dataset All Augmented/Non-COVID-19/Non-COVID-19 (77).jpg 2020-03-26 12:00:26        42190\n",
            "Dataset All Augmented/Non-COVID-19/Non-COVID-19 (770).jpg 2020-03-26 12:01:22        37165\n",
            "Dataset All Augmented/Non-COVID-19/Non-COVID-19 (771).jpg 2020-03-26 12:01:22        39732\n",
            "Dataset All Augmented/Non-COVID-19/Non-COVID-19 (772).jpg 2020-03-26 12:01:22        39438\n",
            "Dataset All Augmented/Non-COVID-19/Non-COVID-19 (773).jpg 2020-03-26 12:01:22        38106\n",
            "Dataset All Augmented/Non-COVID-19/Non-COVID-19 (774).jpg 2020-03-26 12:01:22        38251\n",
            "Dataset All Augmented/Non-COVID-19/Non-COVID-19 (775).jpg 2020-03-26 12:01:22        44576\n",
            "Dataset All Augmented/Non-COVID-19/Non-COVID-19 (776).jpg 2020-03-26 12:01:22        39897\n",
            "Dataset All Augmented/Non-COVID-19/Non-COVID-19 (777).jpg 2020-03-26 12:01:22        39887\n",
            "Dataset All Augmented/Non-COVID-19/Non-COVID-19 (778).jpg 2020-03-26 12:01:22        38701\n",
            "Dataset All Augmented/Non-COVID-19/Non-COVID-19 (779).jpg 2020-03-26 12:01:22        38704\n",
            "Dataset All Augmented/Non-COVID-19/Non-COVID-19 (78).jpg 2020-03-26 12:00:26        42181\n",
            "Dataset All Augmented/Non-COVID-19/Non-COVID-19 (780).jpg 2020-03-26 12:01:24        38710\n",
            "Dataset All Augmented/Non-COVID-19/Non-COVID-19 (781).jpg 2020-03-26 12:01:24        39903\n",
            "Dataset All Augmented/Non-COVID-19/Non-COVID-19 (782).jpg 2020-03-26 12:01:24        40001\n",
            "Dataset All Augmented/Non-COVID-19/Non-COVID-19 (783).jpg 2020-03-26 12:01:24        38642\n",
            "Dataset All Augmented/Non-COVID-19/Non-COVID-19 (784).jpg 2020-03-26 12:01:24        38860\n",
            "Dataset All Augmented/Non-COVID-19/Non-COVID-19 (785).jpg 2020-03-26 12:01:24        32033\n",
            "Dataset All Augmented/Non-COVID-19/Non-COVID-19 (786).jpg 2020-03-26 12:01:24        31880\n",
            "Dataset All Augmented/Non-COVID-19/Non-COVID-19 (787).jpg 2020-03-26 12:01:24        35014\n",
            "Dataset All Augmented/Non-COVID-19/Non-COVID-19 (788).jpg 2020-03-26 12:01:24        34527\n",
            "Dataset All Augmented/Non-COVID-19/Non-COVID-19 (789).jpg 2020-03-26 12:01:24        36237\n",
            "Dataset All Augmented/Non-COVID-19/Non-COVID-19 (79).jpg 2020-03-26 12:00:26        42284\n",
            "Dataset All Augmented/Non-COVID-19/Non-COVID-19 (790).jpg 2020-03-26 12:01:24        36295\n",
            "Dataset All Augmented/Non-COVID-19/Non-COVID-19 (791).jpg 2020-03-26 12:01:24        36744\n",
            "Dataset All Augmented/Non-COVID-19/Non-COVID-19 (792).jpg 2020-03-26 12:01:24        39143\n",
            "Dataset All Augmented/Non-COVID-19/Non-COVID-19 (793).jpg 2020-03-26 12:01:24        38708\n",
            "Dataset All Augmented/Non-COVID-19/Non-COVID-19 (794).jpg 2020-03-26 12:01:24        43089\n",
            "Dataset All Augmented/Non-COVID-19/Non-COVID-19 (795).jpg 2020-03-26 12:01:24        43096\n",
            "Dataset All Augmented/Non-COVID-19/Non-COVID-19 (796).jpg 2020-03-26 12:01:24        42420\n",
            "Dataset All Augmented/Non-COVID-19/Non-COVID-19 (797).jpg 2020-03-26 12:01:24        42432\n",
            "Dataset All Augmented/Non-COVID-19/Non-COVID-19 (798).jpg 2020-03-26 12:01:24        42418\n",
            "Dataset All Augmented/Non-COVID-19/Non-COVID-19 (799).jpg 2020-03-26 12:01:24        43015\n",
            "Dataset All Augmented/Non-COVID-19/Non-COVID-19 (8).jpeg 2020-03-26 12:01:26        52036\n",
            "Dataset All Augmented/Non-COVID-19/Non-COVID-19 (8).jpg 2020-03-26 12:00:52        42567\n",
            "Dataset All Augmented/Non-COVID-19/Non-COVID-19 (80).jpg 2020-03-26 12:00:26        42452\n",
            "Dataset All Augmented/Non-COVID-19/Non-COVID-19 (800).jpg 2020-03-26 12:01:24        43171\n",
            "Dataset All Augmented/Non-COVID-19/Non-COVID-19 (801).jpg 2020-03-26 12:01:24        41956\n",
            "Dataset All Augmented/Non-COVID-19/Non-COVID-19 (802).jpg 2020-03-26 12:01:24        42375\n",
            "Dataset All Augmented/Non-COVID-19/Non-COVID-19 (803).jpg 2020-03-26 12:01:24        35324\n",
            "Dataset All Augmented/Non-COVID-19/Non-COVID-19 (804).jpg 2020-03-26 12:01:24        33690\n",
            "Dataset All Augmented/Non-COVID-19/Non-COVID-19 (805).jpg 2020-03-26 12:01:24        37026\n",
            "Dataset All Augmented/Non-COVID-19/Non-COVID-19 (806).jpg 2020-03-26 12:01:24        36927\n",
            "Dataset All Augmented/Non-COVID-19/Non-COVID-19 (807).jpg 2020-03-26 12:01:24        44637\n",
            "Dataset All Augmented/Non-COVID-19/Non-COVID-19 (808).jpg 2020-03-26 12:01:24        45057\n",
            "Dataset All Augmented/Non-COVID-19/Non-COVID-19 (809).jpg 2020-03-26 12:01:24        38010\n",
            "Dataset All Augmented/Non-COVID-19/Non-COVID-19 (81).jpg 2020-03-26 12:00:26        41761\n",
            "Dataset All Augmented/Non-COVID-19/Non-COVID-19 (810).jpg 2020-03-26 12:01:24        40289\n",
            "Dataset All Augmented/Non-COVID-19/Non-COVID-19 (811).jpg 2020-03-26 12:01:24        45071\n",
            "Dataset All Augmented/Non-COVID-19/Non-COVID-19 (812).jpg 2020-03-26 12:01:24        37054\n",
            "Dataset All Augmented/Non-COVID-19/Non-COVID-19 (813).jpg 2020-03-26 12:01:24        37055\n",
            "Dataset All Augmented/Non-COVID-19/Non-COVID-19 (814).jpg 2020-03-26 12:01:24        35780\n",
            "Dataset All Augmented/Non-COVID-19/Non-COVID-19 (815).jpg 2020-03-26 12:01:24        35773\n",
            "Dataset All Augmented/Non-COVID-19/Non-COVID-19 (816).jpg 2020-03-26 12:01:26        35788\n",
            "Dataset All Augmented/Non-COVID-19/Non-COVID-19 (817).jpg 2020-03-26 12:01:26        37102\n",
            "Dataset All Augmented/Non-COVID-19/Non-COVID-19 (818).jpg 2020-03-26 12:01:26        37156\n",
            "Dataset All Augmented/Non-COVID-19/Non-COVID-19 (819).jpg 2020-03-26 12:01:26        35690\n",
            "Dataset All Augmented/Non-COVID-19/Non-COVID-19 (82).jpg 2020-03-26 12:00:26        42220\n",
            "Dataset All Augmented/Non-COVID-19/Non-COVID-19 (820).jpg 2020-03-26 12:01:26        35907\n",
            "Dataset All Augmented/Non-COVID-19/Non-COVID-19 (821).jpg 2020-03-26 12:01:26        29772\n",
            "Dataset All Augmented/Non-COVID-19/Non-COVID-19 (822).jpg 2020-03-26 12:01:26        31406\n",
            "Dataset All Augmented/Non-COVID-19/Non-COVID-19 (823).jpg 2020-03-26 12:01:26        34122\n",
            "Dataset All Augmented/Non-COVID-19/Non-COVID-19 (824).jpg 2020-03-26 12:01:26        31544\n",
            "Dataset All Augmented/Non-COVID-19/Non-COVID-19 (825).jpg 2020-03-26 12:01:26        37451\n",
            "Dataset All Augmented/Non-COVID-19/Non-COVID-19 (826).jpg 2020-03-26 12:01:26        38300\n",
            "Dataset All Augmented/Non-COVID-19/Non-COVID-19 (827).jpg 2020-03-26 12:01:26        35688\n",
            "Dataset All Augmented/Non-COVID-19/Non-COVID-19 (828).jpg 2020-03-26 12:01:26        36815\n",
            "Dataset All Augmented/Non-COVID-19/Non-COVID-19 (829).jpg 2020-03-26 12:01:26        35982\n",
            "Dataset All Augmented/Non-COVID-19/Non-COVID-19 (83).jpg 2020-03-26 12:00:26        33374\n",
            "Dataset All Augmented/Non-COVID-19/Non-COVID-19 (830).jpg 2020-03-26 12:00:24        40760\n",
            "Dataset All Augmented/Non-COVID-19/Non-COVID-19 (831).jpg 2020-03-26 12:00:34        40762\n",
            "Dataset All Augmented/Non-COVID-19/Non-COVID-19 (832).jpg 2020-03-26 12:00:42        40020\n",
            "Dataset All Augmented/Non-COVID-19/Non-COVID-19 (833).jpg 2020-03-26 12:00:50        40024\n",
            "Dataset All Augmented/Non-COVID-19/Non-COVID-19 (834).jpg 2020-03-26 12:00:58        40021\n",
            "Dataset All Augmented/Non-COVID-19/Non-COVID-19 (835).jpg 2020-03-26 12:01:06        40690\n",
            "Dataset All Augmented/Non-COVID-19/Non-COVID-19 (836).jpg 2020-03-26 12:01:16        40859\n",
            "Dataset All Augmented/Non-COVID-19/Non-COVID-19 (837).jpg 2020-03-26 12:01:22        39820\n",
            "Dataset All Augmented/Non-COVID-19/Non-COVID-19 (838).jpg 2020-03-26 12:01:26        40133\n",
            "Dataset All Augmented/Non-COVID-19/Non-COVID-19 (839).jpg 2020-03-26 12:00:24        33065\n",
            "Dataset All Augmented/Non-COVID-19/Non-COVID-19 (84).jpg 2020-03-26 12:00:26        34092\n",
            "Dataset All Augmented/Non-COVID-19/Non-COVID-19 (840).jpg 2020-03-26 12:00:26        33097\n",
            "Dataset All Augmented/Non-COVID-19/Non-COVID-19 (841).jpg 2020-03-26 12:00:26        37925\n",
            "Dataset All Augmented/Non-COVID-19/Non-COVID-19 (842).jpg 2020-03-26 12:00:28        32790\n",
            "Dataset All Augmented/Non-COVID-19/Non-COVID-19 (843).jpg 2020-03-26 12:00:28        45320\n",
            "Dataset All Augmented/Non-COVID-19/Non-COVID-19 (844).jpg 2020-03-26 12:00:30        38850\n",
            "Dataset All Augmented/Non-COVID-19/Non-COVID-19 (845).jpg 2020-03-26 12:00:30        38495\n",
            "Dataset All Augmented/Non-COVID-19/Non-COVID-19 (846).jpg 2020-03-26 12:00:30        38859\n",
            "Dataset All Augmented/Non-COVID-19/Non-COVID-19 (847).jpg 2020-03-26 12:00:32        42916\n",
            "Dataset All Augmented/Non-COVID-19/Non-COVID-19 (848).jpg 2020-03-26 12:00:32        38350\n",
            "Dataset All Augmented/Non-COVID-19/Non-COVID-19 (849).jpg 2020-03-26 12:00:34        38351\n",
            "Dataset All Augmented/Non-COVID-19/Non-COVID-19 (85).jpg 2020-03-26 12:00:26        36626\n",
            "Dataset All Augmented/Non-COVID-19/Non-COVID-19 (850).jpg 2020-03-26 12:00:34        37466\n",
            "Dataset All Augmented/Non-COVID-19/Non-COVID-19 (851).jpg 2020-03-26 12:00:36        37468\n",
            "Dataset All Augmented/Non-COVID-19/Non-COVID-19 (852).jpg 2020-03-26 12:00:36        37467\n",
            "Dataset All Augmented/Non-COVID-19/Non-COVID-19 (853).jpg 2020-03-26 12:00:38        38366\n",
            "Dataset All Augmented/Non-COVID-19/Non-COVID-19 (854).jpg 2020-03-26 12:00:38        38469\n",
            "Dataset All Augmented/Non-COVID-19/Non-COVID-19 (855).jpg 2020-03-26 12:00:40        37337\n",
            "Dataset All Augmented/Non-COVID-19/Non-COVID-19 (856).jpg 2020-03-26 12:00:40        37687\n",
            "Dataset All Augmented/Non-COVID-19/Non-COVID-19 (857).jpg 2020-03-26 12:00:42        30498\n",
            "Dataset All Augmented/Non-COVID-19/Non-COVID-19 (858).jpg 2020-03-26 12:00:42        32042\n",
            "Dataset All Augmented/Non-COVID-19/Non-COVID-19 (859).jpg 2020-03-26 12:00:42        34533\n",
            "Dataset All Augmented/Non-COVID-19/Non-COVID-19 (86).jpg 2020-03-26 12:00:26        35995\n",
            "Dataset All Augmented/Non-COVID-19/Non-COVID-19 (860).jpg 2020-03-26 12:00:44        32414\n",
            "Dataset All Augmented/Non-COVID-19/Non-COVID-19 (861).jpg 2020-03-26 12:00:44        41778\n",
            "Dataset All Augmented/Non-COVID-19/Non-COVID-19 (862).jpg 2020-03-26 12:00:46        36443\n",
            "Dataset All Augmented/Non-COVID-19/Non-COVID-19 (863).jpg 2020-03-26 12:00:46        39027\n",
            "Dataset All Augmented/Non-COVID-19/Non-COVID-19 (864).jpg 2020-03-26 12:00:46        42968\n",
            "Dataset All Augmented/Non-COVID-19/Non-COVID-19 (87).jpg 2020-03-26 12:00:26        41988\n",
            "Dataset All Augmented/Non-COVID-19/Non-COVID-19 (88).jpg 2020-03-26 12:00:26        39997\n",
            "Dataset All Augmented/Non-COVID-19/Non-COVID-19 (89).jpg 2020-03-26 12:00:26        47297\n",
            "Dataset All Augmented/Non-COVID-19/Non-COVID-19 (9).jpeg 2020-03-26 12:01:28        38775\n",
            "Dataset All Augmented/Non-COVID-19/Non-COVID-19 (9).jpg 2020-03-26 12:00:54        41002\n",
            "Dataset All Augmented/Non-COVID-19/Non-COVID-19 (90).jpg 2020-03-26 12:00:26        39117\n",
            "Dataset All Augmented/Non-COVID-19/Non-COVID-19 (91).jpg 2020-03-26 12:00:26        40786\n",
            "Dataset All Augmented/Non-COVID-19/Non-COVID-19 (92).jpg 2020-03-26 12:00:28        52045\n",
            "Dataset All Augmented/Non-COVID-19/Non-COVID-19 (93).jpg 2020-03-26 12:00:28        52039\n",
            "Dataset All Augmented/Non-COVID-19/Non-COVID-19 (94).jpg 2020-03-26 12:00:28        51944\n",
            "Dataset All Augmented/Non-COVID-19/Non-COVID-19 (95).jpg 2020-03-26 12:00:28        51945\n",
            "Dataset All Augmented/Non-COVID-19/Non-COVID-19 (96).jpg 2020-03-26 12:00:28        51954\n",
            "Dataset All Augmented/Non-COVID-19/Non-COVID-19 (97).jpg 2020-03-26 12:00:28        51918\n",
            "Dataset All Augmented/Non-COVID-19/Non-COVID-19 (98).jpg 2020-03-26 12:00:28        52036\n",
            "Dataset All Augmented/Non-COVID-19/Non-COVID-19 (99).jpg 2020-03-26 12:00:28        51156\n",
            "Extracting all the files now...\n",
            "Done!\n"
          ],
          "name": "stdout"
        }
      ]
    },
    {
      "cell_type": "code",
      "metadata": {
        "id": "1Sn-_1ylzHi9",
        "colab_type": "code",
        "outputId": "30939bcc-3210-4ae2-e92c-3498a342fc85",
        "colab": {
          "base_uri": "https://localhost:8080/",
          "height": 34
        }
      },
      "source": [
        "ls"
      ],
      "execution_count": 0,
      "outputs": [
        {
          "output_type": "stream",
          "text": [
            "\u001b[0m\u001b[01;34m'Dataset All Augmented'\u001b[0m/   \u001b[01;34mdrive\u001b[0m/   \u001b[01;34msample_data\u001b[0m/\n"
          ],
          "name": "stdout"
        }
      ]
    },
    {
      "cell_type": "code",
      "metadata": {
        "id": "2pVzsk53zHfB",
        "colab_type": "code",
        "outputId": "2e64421e-f188-40fe-a09a-84447c781705",
        "colab": {
          "base_uri": "https://localhost:8080/",
          "height": 34
        }
      },
      "source": [
        "!cd 'Dataset All Augmented' && ls"
      ],
      "execution_count": 0,
      "outputs": [
        {
          "output_type": "stream",
          "text": [
            "COVID-19  Non-COVID-19\n"
          ],
          "name": "stdout"
        }
      ]
    },
    {
      "cell_type": "code",
      "metadata": {
        "id": "yELmG8nfzTO3",
        "colab_type": "code",
        "outputId": "5420f72f-a63f-47aa-e7a2-b1f23bedd150",
        "colab": {
          "base_uri": "https://localhost:8080/",
          "height": 286
        }
      },
      "source": [
        "image = cv2.imread('Dataset All Augmented/Non-COVID-19/Non-COVID-19 (93).jpg')\n",
        "print(image.shape)\n",
        "plt.imshow(image)\n",
        "plt.show()"
      ],
      "execution_count": 0,
      "outputs": [
        {
          "output_type": "stream",
          "text": [
            "(1024, 1024, 3)\n"
          ],
          "name": "stdout"
        },
        {
          "output_type": "display_data",
          "data": {
            "image/png": "[encoded data removed]",
            "text/plain": [
              "<Figure size 432x288 with 1 Axes>"
            ]
          },
          "metadata": {
            "tags": [],
            "needs_background": "light"
          }
        }
      ]
    },
    {
      "cell_type": "code",
      "metadata": {
        "id": "fbW0K4-NzT07",
        "colab_type": "code",
        "outputId": "beccac42-7ef2-49e5-e4d5-9cf6e279fb06",
        "colab": {
          "base_uri": "https://localhost:8080/",
          "height": 286
        }
      },
      "source": [
        "plt.imshow(cv2.imread('Dataset All Augmented/COVID-19/COVID-19 (59).jpg'))"
      ],
      "execution_count": 0,
      "outputs": [
        {
          "output_type": "execute_result",
          "data": {
            "text/plain": [
              "<matplotlib.image.AxesImage at 0x7f901c19d0b8>"
            ]
          },
          "metadata": {
            "tags": []
          },
          "execution_count": 9
        },
        {
          "output_type": "display_data",
          "data": {
            "image/png": "[encoded data removed]",
            "text/plain": [
              "<Figure size 432x288 with 1 Axes>"
            ]
          },
          "metadata": {
            "tags": [],
            "needs_background": "light"
          }
        }
      ]
    },
    {
      "cell_type": "markdown",
      "metadata": {
        "id": "ShudfK879mnB",
        "colab_type": "text"
      },
      "source": [
        "Count No. of Images in each folder\n",
        "\n",
        "---\n",
        "\n"
      ]
    },
    {
      "cell_type": "code",
      "metadata": {
        "id": "mdjiHpheziuz",
        "colab_type": "code",
        "outputId": "3c51494f-87a4-4a2f-e584-23c350d6ecba",
        "colab": {
          "base_uri": "https://localhost:8080/",
          "height": 333
        }
      },
      "source": [
        "\n",
        "counts = []\n",
        "dir = 'Dataset All Augmented'\n",
        "print(\"Total No of data present in each folder \\n\")\n",
        "for filename in os.listdir(dir):\n",
        "        path = os.path.join(dir, filename)\n",
        "        list1 = os.listdir(path) \n",
        "        number_files = len(list1)\n",
        "        counts = counts + [filename]*number_files\n",
        "        print (filename + \":\"+ str(number_files))\n",
        "\n",
        "sn.countplot(counts)\n",
        "plt.show()"
      ],
      "execution_count": 0,
      "outputs": [
        {
          "output_type": "stream",
          "text": [
            "Total No of data present in each folder \n",
            "\n",
            "COVID-19:912\n",
            "Non-COVID-19:912\n"
          ],
          "name": "stdout"
        },
        {
          "output_type": "display_data",
          "data": {
            "image/png": "[encoded data removed]",
            "text/plain": [
              "<Figure size 432x288 with 1 Axes>"
            ]
          },
          "metadata": {
            "tags": [],
            "needs_background": "light"
          }
        }
      ]
    },
    {
      "cell_type": "markdown",
      "metadata": {
        "id": "7yMuiGNm9se_",
        "colab_type": "text"
      },
      "source": [
        "#Preprocessing Image/Dataset\n",
        "\n",
        "---\n",
        "\n"
      ]
    },
    {
      "cell_type": "code",
      "metadata": {
        "id": "996rZ5tY0Nz6",
        "colab_type": "code",
        "outputId": "d45b64ab-9d1e-4f3b-e83d-0899ca9220f0",
        "colab": {
          "base_uri": "https://localhost:8080/",
          "height": 51
        }
      },
      "source": [
        "train_data_dir = 'Dataset All Augmented/'\n",
        "batch_size = 32\n",
        "\n",
        "train_datagen = ImageDataGenerator(rescale=1./255,\n",
        "    \n",
        "    validation_split=0.2) \n",
        "\n",
        "train_generator = train_datagen.flow_from_directory(\n",
        "    train_data_dir,\n",
        "    target_size=(224, 224),\n",
        "    batch_size=batch_size,\n",
        "    class_mode='binary',\n",
        "    subset='training') \n",
        "\n",
        "validation_generator = train_datagen.flow_from_directory(\n",
        "    train_data_dir, \n",
        "    target_size=(224, 224),\n",
        "    batch_size=1,\n",
        "    shuffle = False,\n",
        "    class_mode='binary',\n",
        "    subset='validation') "
      ],
      "execution_count": 0,
      "outputs": [
        {
          "output_type": "stream",
          "text": [
            "Found 1460 images belonging to 2 classes.\n",
            "Found 364 images belonging to 2 classes.\n"
          ],
          "name": "stdout"
        }
      ]
    },
    {
      "cell_type": "code",
      "metadata": {
        "id": "s4ei2gVv0PYC",
        "colab_type": "code",
        "outputId": "e5604421-93a0-44c5-c64b-dd2988cd6f7e",
        "colab": {
          "base_uri": "https://localhost:8080/",
          "height": 34
        }
      },
      "source": [
        "train_generator.class_indices"
      ],
      "execution_count": 0,
      "outputs": [
        {
          "output_type": "execute_result",
          "data": {
            "text/plain": [
              "{'COVID-19': 0, 'Non-COVID-19': 1}"
            ]
          },
          "metadata": {
            "tags": []
          },
          "execution_count": 88
        }
      ]
    },
    {
      "cell_type": "markdown",
      "metadata": {
        "id": "djddKuem90oM",
        "colab_type": "text"
      },
      "source": [
        "#Build Model using VGG16\n",
        "\n",
        "---\n",
        "\n"
      ]
    },
    {
      "cell_type": "markdown",
      "metadata": {
        "id": "3d7AIe_leE_a",
        "colab_type": "text"
      },
      "source": [
        "###Model\n",
        "\n",
        "---\n",
        "\n"
      ]
    },
    {
      "cell_type": "code",
      "metadata": {
        "id": "kEQc27hPpKlP",
        "colab_type": "code",
        "colab": {}
      },
      "source": [
        "cnv_model = VGG16(input_shape=(224, 224, 3),\n",
        "                  include_top=False,\n",
        "                  weights='imagenet',pooling='avg',classes=2)"
      ],
      "execution_count": 0,
      "outputs": []
    },
    {
      "cell_type": "code",
      "metadata": {
        "id": "EkPQga7jpdSg",
        "colab_type": "code",
        "outputId": "50585ef4-eab5-4edf-8912-df096055aadc",
        "colab": {
          "base_uri": "https://localhost:8080/",
          "height": 34
        }
      },
      "source": [
        "print(\"Number of layers in the cvn model: \", len(cnv_model.layers))"
      ],
      "execution_count": 0,
      "outputs": [
        {
          "output_type": "stream",
          "text": [
            "Number of layers in the cvn model:  20\n"
          ],
          "name": "stdout"
        }
      ]
    },
    {
      "cell_type": "code",
      "metadata": {
        "id": "Qwyli-M_0acM",
        "colab_type": "code",
        "colab": {}
      },
      "source": [
        "model=keras.models.Sequential()\n",
        "model.add(cnv_model)\n",
        "model.add(Dense(216,activation='relu'))\n",
        "model.add(Dropout(0.5))\n",
        "model.add(Dense(64,activation='relu'))\n",
        "model.add(Dropout(0.25))\n",
        "model.add(Dense(1, activation='sigmoid'))"
      ],
      "execution_count": 0,
      "outputs": []
    },
    {
      "cell_type": "markdown",
      "metadata": {
        "id": "3C9yvllE97De",
        "colab_type": "text"
      },
      "source": [
        "###Model Summary\n",
        "\n",
        "---\n",
        "\n"
      ]
    },
    {
      "cell_type": "code",
      "metadata": {
        "id": "fPzjakzz0eix",
        "colab_type": "code",
        "outputId": "bd684e41-f2e7-4741-c9df-9d2672ed0b58",
        "colab": {
          "base_uri": "https://localhost:8080/",
          "height": 357
        }
      },
      "source": [
        "model.summary()"
      ],
      "execution_count": 0,
      "outputs": [
        {
          "output_type": "stream",
          "text": [
            "Model: \"sequential_5\"\n",
            "_________________________________________________________________\n",
            "Layer (type)                 Output Shape              Param #   \n",
            "=================================================================\n",
            "vgg16 (Model)                (None, 512)               14714688  \n",
            "_________________________________________________________________\n",
            "dense_13 (Dense)             (None, 216)               110808    \n",
            "_________________________________________________________________\n",
            "dropout_9 (Dropout)          (None, 216)               0         \n",
            "_________________________________________________________________\n",
            "dense_14 (Dense)             (None, 64)                13888     \n",
            "_________________________________________________________________\n",
            "dropout_10 (Dropout)         (None, 64)                0         \n",
            "_________________________________________________________________\n",
            "dense_15 (Dense)             (None, 1)                 65        \n",
            "=================================================================\n",
            "Total params: 14,839,449\n",
            "Trainable params: 14,839,449\n",
            "Non-trainable params: 0\n",
            "_________________________________________________________________\n"
          ],
          "name": "stdout"
        }
      ]
    },
    {
      "cell_type": "markdown",
      "metadata": {
        "id": "04bO-wUB-Arf",
        "colab_type": "text"
      },
      "source": [
        "###Compile Model\n",
        "\n",
        "---\n",
        "\n"
      ]
    },
    {
      "cell_type": "code",
      "metadata": {
        "id": "vuWOA5Iv0wa2",
        "colab_type": "code",
        "colab": {}
      },
      "source": [
        "model.compile(loss = 'binary_crossentropy', optimizer=Adam(lr=0.00001), metrics=['accuracy'])"
      ],
      "execution_count": 0,
      "outputs": []
    },
    {
      "cell_type": "markdown",
      "metadata": {
        "id": "3jpCnrf7-GX5",
        "colab_type": "text"
      },
      "source": [
        "###Early Stopping and Create Log file\n",
        "\n",
        "---\n",
        "\n"
      ]
    },
    {
      "cell_type": "code",
      "metadata": {
        "id": "hleyUWKDSZKw",
        "colab_type": "code",
        "colab": {}
      },
      "source": [
        "from keras.callbacks import CSVLogger,EarlyStopping\n",
        "csv_logger = CSVLogger('COVID-19(vgg16).csv', append=False, separator=';')\n",
        "ES = EarlyStopping(monitor='val_accuracy',mode = 'auto', patience=3)"
      ],
      "execution_count": 0,
      "outputs": []
    },
    {
      "cell_type": "markdown",
      "metadata": {
        "id": "cQ_hEqeu-O8k",
        "colab_type": "text"
      },
      "source": [
        "###Train Model \n",
        "\n",
        "---\n",
        "\n"
      ]
    },
    {
      "cell_type": "code",
      "metadata": {
        "id": "tnI0zv7a02Id",
        "colab_type": "code",
        "outputId": "a5a02918-ab1e-4c77-9d19-a55b076b7f7c",
        "colab": {
          "base_uri": "https://localhost:8080/",
          "height": 357
        }
      },
      "source": [
        "history = model.fit_generator(train_generator, validation_data = validation_generator, steps_per_epoch=46,epochs =10,callbacks=[csv_logger , ES] , validation_steps = 12, verbose = 1)"
      ],
      "execution_count": 0,
      "outputs": [
        {
          "output_type": "stream",
          "text": [
            "Epoch 1/10\n",
            "46/46 [==============================] - 13s 277ms/step - loss: 0.6908 - accuracy: 0.5568 - val_loss: 0.6268 - val_accuracy: 0.8187\n",
            "Epoch 2/10\n",
            "46/46 [==============================] - 11s 246ms/step - loss: 0.4957 - accuracy: 0.7973 - val_loss: 0.2442 - val_accuracy: 0.8929\n",
            "Epoch 3/10\n",
            "46/46 [==============================] - 11s 246ms/step - loss: 0.2378 - accuracy: 0.9253 - val_loss: 0.0407 - val_accuracy: 0.9176\n",
            "Epoch 4/10\n",
            "46/46 [==============================] - 11s 247ms/step - loss: 0.1394 - accuracy: 0.9555 - val_loss: 0.0221 - val_accuracy: 0.9615\n",
            "Epoch 5/10\n",
            "46/46 [==============================] - 11s 247ms/step - loss: 0.0816 - accuracy: 0.9788 - val_loss: 0.0135 - val_accuracy: 0.9835\n",
            "Epoch 6/10\n",
            "46/46 [==============================] - 11s 247ms/step - loss: 0.0410 - accuracy: 0.9870 - val_loss: 0.0087 - val_accuracy: 0.9863\n",
            "Epoch 7/10\n",
            "46/46 [==============================] - 11s 246ms/step - loss: 0.0451 - accuracy: 0.9842 - val_loss: 0.0846 - val_accuracy: 0.9560\n",
            "Epoch 8/10\n",
            "46/46 [==============================] - 11s 246ms/step - loss: 0.0200 - accuracy: 0.9959 - val_loss: 0.0010 - val_accuracy: 0.9615\n",
            "Epoch 9/10\n",
            "46/46 [==============================] - 11s 246ms/step - loss: 0.0483 - accuracy: 0.9829 - val_loss: 0.0446 - val_accuracy: 0.9973\n",
            "Epoch 10/10\n",
            "46/46 [==============================] - 11s 246ms/step - loss: 0.0142 - accuracy: 0.9952 - val_loss: 0.0852 - val_accuracy: 0.9615\n"
          ],
          "name": "stdout"
        }
      ]
    },
    {
      "cell_type": "markdown",
      "metadata": {
        "id": "RT-JgWbY-TFj",
        "colab_type": "text"
      },
      "source": [
        "###Plot Accuracy\n",
        "\n",
        "---\n",
        "\n"
      ]
    },
    {
      "cell_type": "code",
      "metadata": {
        "id": "TLbgGAt306Vz",
        "colab_type": "code",
        "outputId": "bce7ee31-b247-41bc-d330-e0653655a0cb",
        "colab": {
          "base_uri": "https://localhost:8080/",
          "height": 310
        }
      },
      "source": [
        "import seaborn as sns\n",
        "acc = history.history['accuracy']\n",
        "val_acc = history.history['val_accuracy']\n",
        "loss = history.history['loss']\n",
        "val_loss = history.history['val_loss']\n",
        "\n",
        "epochs = range(len(acc))\n",
        "sns.set_style('dark')\n",
        "plt.plot(epochs, acc, 'r', label='Training accuracy')\n",
        "plt.plot(epochs, val_acc, 'b', label='Validation accuracy')\n",
        "plt.title('Training and validation accuracy')\n",
        "plt.legend(loc=0)\n",
        "plt.figure()\n",
        "\n",
        "\n",
        "plt.show()"
      ],
      "execution_count": 0,
      "outputs": [
        {
          "output_type": "display_data",
          "data": {
            "image/png": "[encoded data removed]",
            "text/plain": [
              "<Figure size 432x288 with 1 Axes>"
            ]
          },
          "metadata": {
            "tags": []
          }
        },
        {
          "output_type": "display_data",
          "data": {
            "text/plain": [
              "<Figure size 432x288 with 0 Axes>"
            ]
          },
          "metadata": {
            "tags": []
          }
        }
      ]
    },
    {
      "cell_type": "markdown",
      "metadata": {
        "id": "X_7WX0S9-X-G",
        "colab_type": "text"
      },
      "source": [
        "###Plot Loss\n",
        "\n",
        "---\n",
        "\n"
      ]
    },
    {
      "cell_type": "code",
      "metadata": {
        "id": "wgYMONKI1ARj",
        "colab_type": "code",
        "outputId": "1496157b-939a-4e7c-8f12-1baca3c5ed2e",
        "colab": {
          "base_uri": "https://localhost:8080/",
          "height": 310
        }
      },
      "source": [
        "plt.plot(epochs, loss, 'r', label='Training Loss')\n",
        "plt.plot(epochs, val_loss, 'b', label='Validation Loss')\n",
        "plt.title('Training and validation loss')\n",
        "plt.legend(loc=0)\n",
        "plt.figure()\n",
        "plt.show()"
      ],
      "execution_count": 0,
      "outputs": [
        {
          "output_type": "display_data",
          "data": {
            "image/png": "[encoded data removed]",
            "text/plain": [
              "<Figure size 432x288 with 1 Axes>"
            ]
          },
          "metadata": {
            "tags": []
          }
        },
        {
          "output_type": "display_data",
          "data": {
            "text/plain": [
              "<Figure size 432x288 with 0 Axes>"
            ]
          },
          "metadata": {
            "tags": []
          }
        }
      ]
    },
    {
      "cell_type": "markdown",
      "metadata": {
        "id": "_jRc72Uc-frt",
        "colab_type": "text"
      },
      "source": [
        "###Confusion Matrix and Confusion Report\n",
        "\n",
        "---\n",
        "\n"
      ]
    },
    {
      "cell_type": "code",
      "metadata": {
        "id": "qfSKKQ9d1Dv4",
        "colab_type": "code",
        "outputId": "7fc5ad66-47db-407c-8635-d7b7ef71e34d",
        "colab": {
          "base_uri": "https://localhost:8080/",
          "height": 238
        }
      },
      "source": [
        "validation_generator.reset()\n",
        "Y_preds=model.predict_generator(validation_generator)\n",
        "# print(Y_preds)\n",
        "\n",
        "y_preds = [i[0] for i in Y_preds]\n",
        "y_pred = []\n",
        "for v in y_preds:\n",
        "  if v <=0.5:\n",
        "    y_pred.append(0)\n",
        "  else:\n",
        "    y_pred.append(1)\n",
        "\n",
        "# y_pred = np.argmax(Y_preds, axis=1)\n",
        "Matrix = confusion_matrix(validation_generator.classes, y_pred)\n",
        "print('Confusion Matrix')\n",
        "print(Matrix)\n",
        "print('Classification Report')\n",
        "target_names = ['COVID-19', 'Normal']\n",
        "print(classification_report(validation_generator.classes, y_pred, target_names=target_names))"
      ],
      "execution_count": 0,
      "outputs": [
        {
          "output_type": "stream",
          "text": [
            "Confusion Matrix\n",
            "[[182   0]\n",
            " [ 14 168]]\n",
            "Classification Report\n",
            "              precision    recall  f1-score   support\n",
            "\n",
            "    COVID-19       0.93      1.00      0.96       182\n",
            "      Normal       1.00      0.92      0.96       182\n",
            "\n",
            "    accuracy                           0.96       364\n",
            "   macro avg       0.96      0.96      0.96       364\n",
            "weighted avg       0.96      0.96      0.96       364\n",
            "\n"
          ],
          "name": "stdout"
        }
      ]
    },
    {
      "cell_type": "code",
      "metadata": {
        "id": "K1wYnXrs1HJR",
        "colab_type": "code",
        "outputId": "4bf60097-4a82-48c1-89d1-d3c1ff56cb8e",
        "colab": {
          "base_uri": "https://localhost:8080/",
          "height": 273
        }
      },
      "source": [
        "df_cm = pd.DataFrame(Matrix, target_names, target_names)\n",
        "sn.set(font_scale=1.4) # for label size\n",
        "sn.heatmap(df_cm, annot=True, annot_kws={\"size\": 16}) # font size\n",
        "\n",
        "plt.show()"
      ],
      "execution_count": 0,
      "outputs": [
        {
          "output_type": "display_data",
          "data": {
            "image/png": "[encoded data removed]",
            "text/plain": [
              "<Figure size 432x288 with 2 Axes>"
            ]
          },
          "metadata": {
            "tags": []
          }
        }
      ]
    },
    {
      "cell_type": "markdown",
      "metadata": {
        "id": "7-NouaX8_PfK",
        "colab_type": "text"
      },
      "source": [
        "Save Model in Drive\n",
        "\n",
        "---\n",
        "\n"
      ]
    },
    {
      "cell_type": "code",
      "metadata": {
        "id": "FWgqoSed28bG",
        "colab_type": "code",
        "colab": {}
      },
      "source": [
        "model.save(\"/content/drive/My Drive/saved_models/covid19_vgg16.h5\")"
      ],
      "execution_count": 0,
      "outputs": []
    },
    {
      "cell_type": "markdown",
      "metadata": {
        "id": "8BAcFGja_kHh",
        "colab_type": "text"
      },
      "source": [
        "download log file\n",
        "\n",
        "---\n",
        "\n"
      ]
    },
    {
      "cell_type": "code",
      "metadata": {
        "id": "YQK9bsduetcj",
        "colab_type": "code",
        "colab": {}
      },
      "source": [
        "from google.colab import files\n",
        "files.download('COVID-19(vgg16).csv')"
      ],
      "execution_count": 0,
      "outputs": []
    },
    {
      "cell_type": "markdown",
      "metadata": {
        "id": "QbBctxsG_XQ9",
        "colab_type": "text"
      },
      "source": [
        "#Testing\n",
        "\n",
        "---\n",
        "\n",
        "\n",
        "\n",
        "---\n",
        "\n"
      ]
    },
    {
      "cell_type": "markdown",
      "metadata": {
        "id": "ubwIJqfw_URo",
        "colab_type": "text"
      },
      "source": [
        "###Load Model\n",
        "\n",
        "---\n",
        "\n"
      ]
    },
    {
      "cell_type": "code",
      "metadata": {
        "id": "KmInFJOneaN3",
        "colab_type": "code",
        "colab": {}
      },
      "source": [
        "from tensorflow.keras.models import Sequential, save_model, load_model"
      ],
      "execution_count": 0,
      "outputs": []
    },
    {
      "cell_type": "code",
      "metadata": {
        "id": "J8EIabTjc9w5",
        "colab_type": "code",
        "colab": {}
      },
      "source": [
        "model = load_model(\"/content/drive/My Drive/saved_models/covid19_vgg16.h5\")"
      ],
      "execution_count": 0,
      "outputs": []
    },
    {
      "cell_type": "markdown",
      "metadata": {
        "id": "_l75bripeqo5",
        "colab_type": "text"
      },
      "source": [
        "###Load image folder for testing\n",
        "\n",
        "---\n",
        "\n"
      ]
    },
    {
      "cell_type": "code",
      "metadata": {
        "id": "3y5HLTPiBMUV",
        "colab_type": "code",
        "colab": {}
      },
      "source": [
        "test_images_path = \"/content/drive/My Drive/COVID_19/covid-chest-xray/images/\""
      ],
      "execution_count": 0,
      "outputs": []
    },
    {
      "cell_type": "code",
      "metadata": {
        "id": "6OoezswjBPL5",
        "colab_type": "code",
        "colab": {}
      },
      "source": [
        "import os\n",
        "import tensorflow as tf\n",
        "from tensorflow.keras.preprocessing.image import load_img, img_to_array"
      ],
      "execution_count": 0,
      "outputs": []
    },
    {
      "cell_type": "code",
      "metadata": {
        "id": "9BNf3dgfBRFo",
        "colab_type": "code",
        "colab": {}
      },
      "source": [
        "test_image_arrays = []\n",
        "for image in os.listdir(test_images_path):\n",
        "  try:\n",
        "    im = load_img(\n",
        "      os.path.join(test_images_path,image),  color_mode='rgb', target_size=(224,224))\n",
        "    im = img_to_array(im)\n",
        "    im = im/255.0\n",
        "    test_image_arrays.append(im)\n",
        "  except:\n",
        "    pass\n"
      ],
      "execution_count": 0,
      "outputs": []
    },
    {
      "cell_type": "code",
      "metadata": {
        "id": "lvz9KvV1BV4n",
        "colab_type": "code",
        "colab": {}
      },
      "source": [
        "test_image_arrays = np.array(test_image_arrays)"
      ],
      "execution_count": 0,
      "outputs": []
    },
    {
      "cell_type": "code",
      "metadata": {
        "id": "A2PpP4pBBYB1",
        "colab_type": "code",
        "outputId": "84124b8d-3513-4936-e6ff-3174d6efc4e8",
        "colab": {
          "base_uri": "https://localhost:8080/",
          "height": 34
        }
      },
      "source": [
        "test_image_arrays.shape"
      ],
      "execution_count": 0,
      "outputs": [
        {
          "output_type": "execute_result",
          "data": {
            "text/plain": [
              "(152, 224, 224, 3)"
            ]
          },
          "metadata": {
            "tags": []
          },
          "execution_count": 105
        }
      ]
    },
    {
      "cell_type": "code",
      "metadata": {
        "id": "NwqOujaLBbCL",
        "colab_type": "code",
        "colab": {}
      },
      "source": [
        "y_preds = model.predict(test_image_arrays)"
      ],
      "execution_count": 0,
      "outputs": []
    },
    {
      "cell_type": "code",
      "metadata": {
        "id": "s3A0fKSkgdX6",
        "colab_type": "code",
        "colab": {}
      },
      "source": [
        "y_preds = y_preds >=  0.5"
      ],
      "execution_count": 0,
      "outputs": []
    },
    {
      "cell_type": "code",
      "metadata": {
        "id": "lDYQmiolBiCI",
        "colab_type": "code",
        "outputId": "d57e8c9d-dc2f-4418-8a4f-cd5498dd781a",
        "colab": {
          "base_uri": "https://localhost:8080/",
          "height": 1000
        }
      },
      "source": [
        "y_preds"
      ],
      "execution_count": 0,
      "outputs": [
        {
          "output_type": "execute_result",
          "data": {
            "text/plain": [
              "array([[False],\n",
              "       [False],\n",
              "       [False],\n",
              "       [False],\n",
              "       [False],\n",
              "       [False],\n",
              "       [False],\n",
              "       [False],\n",
              "       [False],\n",
              "       [False],\n",
              "       [False],\n",
              "       [False],\n",
              "       [False],\n",
              "       [False],\n",
              "       [False],\n",
              "       [False],\n",
              "       [False],\n",
              "       [False],\n",
              "       [False],\n",
              "       [False],\n",
              "       [False],\n",
              "       [False],\n",
              "       [False],\n",
              "       [False],\n",
              "       [False],\n",
              "       [False],\n",
              "       [False],\n",
              "       [False],\n",
              "       [False],\n",
              "       [False],\n",
              "       [False],\n",
              "       [False],\n",
              "       [False],\n",
              "       [False],\n",
              "       [False],\n",
              "       [False],\n",
              "       [False],\n",
              "       [False],\n",
              "       [False],\n",
              "       [False],\n",
              "       [False],\n",
              "       [False],\n",
              "       [False],\n",
              "       [False],\n",
              "       [False],\n",
              "       [False],\n",
              "       [False],\n",
              "       [False],\n",
              "       [False],\n",
              "       [False],\n",
              "       [False],\n",
              "       [False],\n",
              "       [False],\n",
              "       [False],\n",
              "       [False],\n",
              "       [False],\n",
              "       [False],\n",
              "       [False],\n",
              "       [False],\n",
              "       [False],\n",
              "       [False],\n",
              "       [False],\n",
              "       [False],\n",
              "       [False],\n",
              "       [False],\n",
              "       [False],\n",
              "       [False],\n",
              "       [False],\n",
              "       [False],\n",
              "       [False],\n",
              "       [False],\n",
              "       [False],\n",
              "       [False],\n",
              "       [False],\n",
              "       [False],\n",
              "       [False],\n",
              "       [False],\n",
              "       [False],\n",
              "       [False],\n",
              "       [False],\n",
              "       [False],\n",
              "       [False],\n",
              "       [False],\n",
              "       [False],\n",
              "       [False],\n",
              "       [False],\n",
              "       [False],\n",
              "       [False],\n",
              "       [False],\n",
              "       [False],\n",
              "       [False],\n",
              "       [False],\n",
              "       [False],\n",
              "       [False],\n",
              "       [False],\n",
              "       [False],\n",
              "       [False],\n",
              "       [False],\n",
              "       [False],\n",
              "       [False],\n",
              "       [False],\n",
              "       [False],\n",
              "       [False],\n",
              "       [False],\n",
              "       [False],\n",
              "       [False],\n",
              "       [False],\n",
              "       [False],\n",
              "       [False],\n",
              "       [False],\n",
              "       [False],\n",
              "       [False],\n",
              "       [False],\n",
              "       [False],\n",
              "       [False],\n",
              "       [False],\n",
              "       [False],\n",
              "       [False],\n",
              "       [False],\n",
              "       [False],\n",
              "       [False],\n",
              "       [False],\n",
              "       [False],\n",
              "       [False],\n",
              "       [False],\n",
              "       [False],\n",
              "       [False],\n",
              "       [False],\n",
              "       [False],\n",
              "       [False],\n",
              "       [False],\n",
              "       [False],\n",
              "       [False],\n",
              "       [False],\n",
              "       [False],\n",
              "       [False],\n",
              "       [False],\n",
              "       [False],\n",
              "       [False],\n",
              "       [False],\n",
              "       [False],\n",
              "       [False],\n",
              "       [False],\n",
              "       [False],\n",
              "       [False],\n",
              "       [False],\n",
              "       [False],\n",
              "       [False],\n",
              "       [False],\n",
              "       [False],\n",
              "       [False],\n",
              "       [False]])"
            ]
          },
          "metadata": {
            "tags": []
          },
          "execution_count": 109
        }
      ]
    },
    {
      "cell_type": "code",
      "metadata": {
        "id": "eZv2ZTJmBmTm",
        "colab_type": "code",
        "colab": {}
      },
      "source": [
        "y_true = [0]*152"
      ],
      "execution_count": 0,
      "outputs": []
    },
    {
      "cell_type": "code",
      "metadata": {
        "id": "aQcL1bsEBrzi",
        "colab_type": "code",
        "colab": {}
      },
      "source": [
        "mat = confusion_matrix(y_true, y_preds)"
      ],
      "execution_count": 0,
      "outputs": []
    },
    {
      "cell_type": "code",
      "metadata": {
        "id": "FFlKpXVkgk25",
        "colab_type": "code",
        "outputId": "651ee9e2-1410-4c03-a62b-391c88a4debf",
        "colab": {
          "base_uri": "https://localhost:8080/",
          "height": 34
        }
      },
      "source": [
        "mat"
      ],
      "execution_count": 0,
      "outputs": [
        {
          "output_type": "execute_result",
          "data": {
            "text/plain": [
              "array([[152]])"
            ]
          },
          "metadata": {
            "tags": []
          },
          "execution_count": 112
        }
      ]
    },
    {
      "cell_type": "markdown",
      "metadata": {
        "id": "kCvMMM0lei2w",
        "colab_type": "text"
      },
      "source": [
        "###Plot confusion matrix\n",
        "\n",
        "---\n",
        "\n"
      ]
    },
    {
      "cell_type": "code",
      "metadata": {
        "id": "3XlB4_dTFYAS",
        "colab_type": "code",
        "colab": {}
      },
      "source": [
        "import matplotlib.pyplot as plt\n",
        "import numpy as np\n",
        "import itertools\n",
        "\n",
        "\n",
        "def plot_confusion_matrix(cm,\n",
        "                          target_names,\n",
        "                          title='Confusion matrix',\n",
        "                          cmap=None,\n",
        "                          normalize=True):\n",
        " \n",
        "\n",
        "    \n",
        "    \n",
        "    accuracy = np.trace(cm) / np.sum(cm).astype('float')\n",
        "    misclass = 1 - accuracy\n",
        "\n",
        "    if cmap is None:\n",
        "        cmap = plt.get_cmap('Blues')\n",
        "\n",
        "    plt.figure(figsize=(8, 6))\n",
        "    plt.imshow(cm, interpolation='nearest', cmap=cmap)\n",
        "    plt.title(title)\n",
        "    plt.colorbar()\n",
        "\n",
        "    if target_names is not None:\n",
        "        tick_marks = np.arange(len(target_names))\n",
        "        plt.xticks(tick_marks, target_names, rotation=45)\n",
        "        plt.yticks(tick_marks, target_names)\n",
        "\n",
        "    if normalize:\n",
        "        cm = cm.astype('float') / cm.sum(axis=1)[:, np.newaxis]\n",
        "\n",
        "\n",
        "    thresh = cm.max() / 1.5 if normalize else cm.max() / 2\n",
        "    for i, j in itertools.product(range(cm.shape[0]), range(cm.shape[1])):\n",
        "        if normalize:\n",
        "            plt.text(j, i, \"{:0.4f}\".format(cm[i, j]),\n",
        "                     horizontalalignment=\"center\",\n",
        "                     color=\"white\" if cm[i, j] > thresh else \"black\")\n",
        "        else:\n",
        "            plt.text(j, i, \"{:,}\".format(cm[i, j]),\n",
        "                     horizontalalignment=\"center\",\n",
        "                     color=\"white\" if cm[i, j] > thresh else \"black\")\n",
        "\n",
        "\n",
        "    plt.tight_layout()\n",
        "    plt.ylabel('True label')\n",
        "    plt.xlabel('Predicted label\\naccuracy={:0.4f}; misclass={:0.4f}'.format(accuracy, misclass))\n",
        "    plt.show()"
      ],
      "execution_count": 0,
      "outputs": []
    },
    {
      "cell_type": "code",
      "metadata": {
        "id": "JXGG05KDBu7h",
        "colab_type": "code",
        "outputId": "0eed6eb6-e48b-40cf-dd6a-d66c015730b6",
        "colab": {
          "base_uri": "https://localhost:8080/",
          "height": 34
        }
      },
      "source": [
        "mat"
      ],
      "execution_count": 0,
      "outputs": [
        {
          "output_type": "execute_result",
          "data": {
            "text/plain": [
              "array([[152]])"
            ]
          },
          "metadata": {
            "tags": []
          },
          "execution_count": 114
        }
      ]
    },
    {
      "cell_type": "code",
      "metadata": {
        "id": "8dp2idHLFAX2",
        "colab_type": "code",
        "outputId": "f6f74d36-f668-426b-8f60-7c9edd423e90",
        "colab": {
          "base_uri": "https://localhost:8080/",
          "height": 469
        }
      },
      "source": [
        "plot_confusion_matrix(mat,[\"COVID\",\"Not-COVID19\"])"
      ],
      "execution_count": 0,
      "outputs": [
        {
          "output_type": "display_data",
          "data": {
            "image/png": "[encoded data removed]",
            "text/plain": [
              "<Figure size 576x432 with 2 Axes>"
            ]
          },
          "metadata": {
            "tags": []
          }
        }
      ]
    },
    {
      "cell_type": "markdown",
      "metadata": {
        "id": "2uA5BgMo_cYl",
        "colab_type": "text"
      },
      "source": [
        "###Model summary\n",
        "\n",
        "---\n",
        "\n"
      ]
    },
    {
      "cell_type": "code",
      "metadata": {
        "id": "7nHxUCKcdKJN",
        "colab_type": "code",
        "outputId": "5d496d4c-7ce2-463d-c8f7-369e03cab66d",
        "colab": {
          "base_uri": "https://localhost:8080/",
          "height": 357
        }
      },
      "source": [
        "Model.summary()"
      ],
      "execution_count": 0,
      "outputs": [
        {
          "output_type": "stream",
          "text": [
            "Model: \"sequential_5\"\n",
            "_________________________________________________________________\n",
            "Layer (type)                 Output Shape              Param #   \n",
            "=================================================================\n",
            "vgg16 (Model)                (None, 512)               14714688  \n",
            "_________________________________________________________________\n",
            "dense_13 (Dense)             (None, 216)               110808    \n",
            "_________________________________________________________________\n",
            "dropout_9 (Dropout)          (None, 216)               0         \n",
            "_________________________________________________________________\n",
            "dense_14 (Dense)             (None, 64)                13888     \n",
            "_________________________________________________________________\n",
            "dropout_10 (Dropout)         (None, 64)                0         \n",
            "_________________________________________________________________\n",
            "dense_15 (Dense)             (None, 1)                 65        \n",
            "=================================================================\n",
            "Total params: 14,839,449\n",
            "Trainable params: 14,839,449\n",
            "Non-trainable params: 0\n",
            "_________________________________________________________________\n"
          ],
          "name": "stdout"
        }
      ]
    },
    {
      "cell_type": "markdown",
      "metadata": {
        "id": "faxRnDzi_ojb",
        "colab_type": "text"
      },
      "source": [
        "###test images\n",
        "\n",
        "---\n",
        "\n"
      ]
    },
    {
      "cell_type": "code",
      "metadata": {
        "id": "cz9PM4tsdUKQ",
        "colab_type": "code",
        "colab": {}
      },
      "source": [
        "from keras.preprocessing import image\n",
        "from google.colab import files\n",
        "uploaded = files.upload()\n",
        "\n",
        "for fn in uploaded.keys():\n",
        " \n",
        "  # predicting images\n",
        "  path = '/content/' + fn\n",
        "  img = image.load_img(path, target_size=(224,224))\n",
        "  plt.imshow(img)\n",
        "  x = image.img_to_array(img)\n",
        "  \n",
        "  x = np.expand_dims(x, axis=0)/255.0\n",
        "\n",
        "  images = np.vstack([x])\n",
        "  classes = Model.predict(images, batch_size=10)\n",
        "  print(classes[0])\n",
        "  if classes[0]<0.5:\n",
        "    print(fn + \" is a covid +\")\n",
        "  else:\n",
        "    print(fn + \" is a covid -\")"
      ],
      "execution_count": 0,
      "outputs": []
    },
    {
      "cell_type": "markdown",
      "metadata": {
        "id": "eQVSb3Af_hb5",
        "colab_type": "text"
      },
      "source": [
        "#VGG19\n",
        "\n",
        "---\n",
        "\n"
      ]
    },
    {
      "cell_type": "markdown",
      "metadata": {
        "id": "quJ3da20Iqhg",
        "colab_type": "text"
      },
      "source": [
        "\n",
        "\n",
        "---\n",
        "\n",
        "\n",
        "\n",
        "---\n",
        "\n"
      ]
    },
    {
      "cell_type": "markdown",
      "metadata": {
        "id": "v04NAyc4_yMF",
        "colab_type": "text"
      },
      "source": [
        "built model\n",
        "\n",
        "---\n",
        "\n"
      ]
    },
    {
      "cell_type": "code",
      "metadata": {
        "id": "MUhpSaLgWBYU",
        "colab_type": "code",
        "colab": {}
      },
      "source": [
        "vgg_model = VGG19(input_shape=(224, 224, 3),include_top=False,weights='imagenet',pooling='avg',classes=2)\n",
        "model1=keras.models.Sequential()\n",
        "model1.add(vgg_model)\n",
        "model1.add(Dense(216,activation='relu'))\n",
        "model1.add(Dropout(0.25))\n",
        "model1.add(Dense(64,activation='relu'))\n",
        "model1.add(Dropout(0.25))\n",
        "model1.add(Dense(1, activation='sigmoid'))"
      ],
      "execution_count": 0,
      "outputs": []
    },
    {
      "cell_type": "markdown",
      "metadata": {
        "id": "1pA04ruo_03b",
        "colab_type": "text"
      },
      "source": [
        "model summary\n",
        "\n",
        "---\n",
        "\n"
      ]
    },
    {
      "cell_type": "code",
      "metadata": {
        "id": "6RRZung5I27N",
        "colab_type": "code",
        "colab": {}
      },
      "source": [
        "model1.summary()"
      ],
      "execution_count": 0,
      "outputs": []
    },
    {
      "cell_type": "markdown",
      "metadata": {
        "id": "XypgWN2A_3aE",
        "colab_type": "text"
      },
      "source": [
        "compile model\n",
        "\n",
        "---\n",
        "\n"
      ]
    },
    {
      "cell_type": "code",
      "metadata": {
        "id": "NRBR18W1I8Wa",
        "colab_type": "code",
        "colab": {}
      },
      "source": [
        "model1.compile(loss = 'binary_crossentropy', optimizer=Adam(lr=2e-5, decay=0.0), metrics=['accuracy'])"
      ],
      "execution_count": 0,
      "outputs": []
    },
    {
      "cell_type": "markdown",
      "metadata": {
        "id": "qYFiaCtK_6nM",
        "colab_type": "text"
      },
      "source": [
        "Earlystopping ang create log file\n",
        "\n",
        "---\n",
        "\n"
      ]
    },
    {
      "cell_type": "code",
      "metadata": {
        "id": "9UASXRfBJFmp",
        "colab_type": "code",
        "colab": {}
      },
      "source": [
        "from keras.callbacks import CSVLogger,EarlyStopping\n",
        "csv_logger = CSVLogger('COVID-19(vgg19).csv', append=False, separator=';')\n",
        "ES = EarlyStopping(monitor='val_accuracy', mode= 'auto',patience=2)"
      ],
      "execution_count": 0,
      "outputs": []
    },
    {
      "cell_type": "markdown",
      "metadata": {
        "id": "l32wvw4FABQl",
        "colab_type": "text"
      },
      "source": [
        "Train model\n",
        "\n",
        "---\n",
        "\n"
      ]
    },
    {
      "cell_type": "code",
      "metadata": {
        "id": "NUdohH53JdZO",
        "colab_type": "code",
        "colab": {}
      },
      "source": [
        "history1 = model1.fit_generator(train_generator, validation_data = validation_generator, steps_per_epoch=46,epochs = 5,callbacks=[csv_logger , ES] ,  verbose = 1)"
      ],
      "execution_count": 0,
      "outputs": []
    },
    {
      "cell_type": "markdown",
      "metadata": {
        "id": "lx3r6dFEAGAS",
        "colab_type": "text"
      },
      "source": [
        "Plot Accuracy\n",
        "\n",
        "---\n",
        "\n"
      ]
    },
    {
      "cell_type": "code",
      "metadata": {
        "id": "Hdzues5mJkpE",
        "colab_type": "code",
        "colab": {}
      },
      "source": [
        "acc = history1.history['accuracy']\n",
        "val_acc = history1.history['val_accuracy']\n",
        "loss = history1.history['loss']\n",
        "val_loss = history1.history['val_loss']\n",
        "\n",
        "epochs = range(len(acc))\n",
        "\n",
        "plt.plot(epochs, acc, 'r', label='Training accuracy')\n",
        "plt.plot(epochs, val_acc, 'b', label='Validation accuracy')\n",
        "plt.title('Training and validation accuracy')\n",
        "plt.legend(loc=0)\n",
        "plt.figure()\n",
        "\n",
        "\n",
        "plt.show()"
      ],
      "execution_count": 0,
      "outputs": []
    },
    {
      "cell_type": "code",
      "metadata": {
        "id": "2URqtuPHKuSM",
        "colab_type": "code",
        "colab": {}
      },
      "source": [
        ""
      ],
      "execution_count": 0,
      "outputs": []
    }
  ]
}